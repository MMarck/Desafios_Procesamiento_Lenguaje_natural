{
  "cells": [
    {
      "cell_type": "markdown",
      "metadata": {
        "id": "view-in-github",
        "colab_type": "text"
      },
      "source": [
        "<a href=\"https://colab.research.google.com/github/MMarck/PLN_Desafio_1_Vectorizacion/blob/main/Desafio_1.ipynb\" target=\"_parent\"><img src=\"https://colab.research.google.com/assets/colab-badge.svg\" alt=\"Open In Colab\"/></a>"
      ]
    },
    {
      "cell_type": "markdown",
      "metadata": {
        "id": "zq6j8LsYq1Dr"
      },
      "source": [
        "### Vectorización de texto y modelo de clasificación Naïve Bayes con el dataset 20 newsgroups"
      ]
    },
    {
      "cell_type": "code",
      "execution_count": 1,
      "metadata": {
        "id": "l7cXR6CI30ry"
      },
      "outputs": [],
      "source": [
        "from sklearn.feature_extraction.text import CountVectorizer, TfidfVectorizer\n",
        "from sklearn.metrics.pairwise import cosine_similarity\n",
        "from sklearn.naive_bayes import MultinomialNB, ComplementNB\n",
        "from sklearn.metrics import f1_score\n",
        "\n",
        "# 20newsgroups por ser un dataset clásico de NLP ya viene incluido y formateado\n",
        "# en sklearn\n",
        "from sklearn.datasets import fetch_20newsgroups\n",
        "import numpy as np"
      ]
    },
    {
      "cell_type": "markdown",
      "metadata": {
        "id": "yD-pVDWV_rQc"
      },
      "source": [
        "## Carga de datos"
      ]
    },
    {
      "cell_type": "code",
      "execution_count": 2,
      "metadata": {
        "id": "Ech9qJaUo9vK"
      },
      "outputs": [],
      "source": [
        "# cargamos los datos (ya separados de forma predeterminada en train y test)\n",
        "newsgroups_train = fetch_20newsgroups(subset='train', remove=('headers', 'footers', 'quotes'))\n",
        "newsgroups_test = fetch_20newsgroups(subset='test', remove=('headers', 'footers', 'quotes'))"
      ]
    },
    {
      "cell_type": "markdown",
      "metadata": {
        "id": "UxjSI7su_uWI"
      },
      "source": [
        "## Vectorización"
      ]
    },
    {
      "cell_type": "code",
      "execution_count": 3,
      "metadata": {
        "id": "-94VP0QYCzDn"
      },
      "outputs": [],
      "source": [
        "# instanciamos un vectorizador\n",
        "# ver diferentes parámetros de instanciación en la documentación de sklearn https://scikit-learn.org/stable/modules/generated/sklearn.feature_extraction.text.TfidfVectorizer.html\n",
        "tfidfvect = TfidfVectorizer()"
      ]
    },
    {
      "cell_type": "code",
      "execution_count": 4,
      "metadata": {
        "id": "1zxcXV6aC_oL"
      },
      "outputs": [],
      "source": [
        "# con la interfaz habitual de sklearn podemos fitear el vectorizador\n",
        "# (obtener el vocabulario y calcular el vector IDF)\n",
        "# y transformar directamente los datos\n",
        "X_train = tfidfvect.fit_transform(newsgroups_train.data)\n",
        "# `X_train` la podemos denominar como la matriz documento-término"
      ]
    },
    {
      "cell_type": "code",
      "execution_count": 5,
      "metadata": {
        "id": "xnTSZuvyrTcP"
      },
      "outputs": [],
      "source": [
        "# es muy útil tener el diccionario opuesto que va de índices a términos\n",
        "idx2word = {v: k for k,v in tfidfvect.vocabulary_.items()}"
      ]
    },
    {
      "cell_type": "code",
      "execution_count": 6,
      "metadata": {
        "colab": {
          "base_uri": "https://localhost:8080/"
        },
        "id": "swa-AgWrMSHM",
        "outputId": "15383cd3-1248-400b-ee03-1a0627181aeb"
      },
      "outputs": [
        {
          "output_type": "execute_result",
          "data": {
            "text/plain": [
              "array([ 7,  4,  4,  1, 14, 16, 13,  3,  2,  4])"
            ]
          },
          "metadata": {},
          "execution_count": 6
        }
      ],
      "source": [
        "# en `y_train` guardamos los targets que son enteros\n",
        "y_train = newsgroups_train.target\n",
        "y_train[:10]"
      ]
    },
    {
      "cell_type": "code",
      "execution_count": 7,
      "metadata": {
        "colab": {
          "base_uri": "https://localhost:8080/"
        },
        "id": "je5kxvQMDLvf",
        "outputId": "9509aae9-dbee-49a2-d981-3ac394c86e65"
      },
      "outputs": [
        {
          "output_type": "stream",
          "name": "stdout",
          "text": [
            "clases [ 0  1  2  3  4  5  6  7  8  9 10 11 12 13 14 15 16 17 18 19]\n"
          ]
        },
        {
          "output_type": "execute_result",
          "data": {
            "text/plain": [
              "['alt.atheism',\n",
              " 'comp.graphics',\n",
              " 'comp.os.ms-windows.misc',\n",
              " 'comp.sys.ibm.pc.hardware',\n",
              " 'comp.sys.mac.hardware',\n",
              " 'comp.windows.x',\n",
              " 'misc.forsale',\n",
              " 'rec.autos',\n",
              " 'rec.motorcycles',\n",
              " 'rec.sport.baseball',\n",
              " 'rec.sport.hockey',\n",
              " 'sci.crypt',\n",
              " 'sci.electronics',\n",
              " 'sci.med',\n",
              " 'sci.space',\n",
              " 'soc.religion.christian',\n",
              " 'talk.politics.guns',\n",
              " 'talk.politics.mideast',\n",
              " 'talk.politics.misc',\n",
              " 'talk.religion.misc']"
            ]
          },
          "metadata": {},
          "execution_count": 7
        }
      ],
      "source": [
        "# hay 20 clases correspondientes a los 20 grupos de noticias\n",
        "print(f'clases {np.unique(newsgroups_test.target)}')\n",
        "newsgroups_test.target_names"
      ]
    },
    {
      "cell_type": "markdown",
      "metadata": {
        "id": "SXCICFSd_y90"
      },
      "source": [
        "## Similaridad de documentos"
      ]
    },
    {
      "cell_type": "code",
      "execution_count": 8,
      "metadata": {
        "colab": {
          "base_uri": "https://localhost:8080/"
        },
        "id": "_pki_olShnyE",
        "outputId": "6b0b280d-6bbc-474f-be48-94b0f14a247f"
      },
      "outputs": [
        {
          "output_type": "stream",
          "name": "stdout",
          "text": [
            "THE WHITE HOUSE\n",
            "\n",
            "                  Office of the Press Secretary\n",
            "                   (Pittsburgh, Pennslyvania)\n",
            "______________________________________________________________\n",
            "For Immediate Release                         April 17, 1993     \n",
            "\n",
            "             \n",
            "                  RADIO ADDRESS TO THE NATION \n",
            "                        BY THE PRESIDENT\n",
            "             \n",
            "                Pittsburgh International Airport\n",
            "                    Pittsburgh, Pennsylvania\n",
            "             \n",
            "             \n",
            "10:06 A.M. EDT\n",
            "             \n",
            "             \n",
            "             THE PRESIDENT:  Good morning.  My voice is coming to\n",
            "you this morning through the facilities of the oldest radio\n",
            "station in America, KDKA in Pittsburgh.  I'm visiting the city to\n",
            "meet personally with citizens here to discuss my plans for jobs,\n",
            "health care and the economy.  But I wanted first to do my weekly\n",
            "broadcast with the American people. \n",
            "             \n",
            "             I'm told this station first broadcast in 1920 when\n",
            "it reported that year's presidential elections.  Over the past\n",
            "seven decades presidents have found ways to keep in touch with\n",
            "the people, from whistle-stop tours to fire-side chats to the bus\n",
            "tour that I adopted, along with Vice President Gore, in last\n",
            "year's campaign.\n",
            "             \n",
            "             Every Saturday morning I take this time to talk with\n",
            "you, my fellow Americans, about the problems on your minds and\n",
            "what I'm doing to try and solve them.  It's my way of reporting\n",
            "to you and of giving you a way to hold me accountable.\n",
            "             \n",
            "             You sent me to Washington to get our government and\n",
            "economy moving after years of paralysis and policy and a bad\n",
            "experiment with trickle-down economics.  You know how important\n",
            "it is for us to make bold, comprehensive changes in the way we do\n",
            "business.  \n",
            "             \n",
            "             We live in a competitive global economy.  Nations\n",
            "rise and fall on the skills of their workers, the competitiveness\n",
            "of their companies, the imagination of their industries, and the\n",
            "cooperative experience and spirit that exists between business,\n",
            "labor and government.  Although many of the economies of the\n",
            "industrialized world are now suffering from slow growth, they've\n",
            "made many of the smart investments and the tough choices which\n",
            "our government has for too long ignored.  That's why many of them\n",
            "have been moving ahead and too many of our people have been\n",
            "falling behind.\n",
            "             \n",
            "             We have an economy today that even when it grows is\n",
            "not producing new jobs.  We've increased the debt of our nation\n",
            "by four times over the last 12 years, and we don't have much to\n",
            "show for it.  We know that wages of most working people have\n",
            "stopped rising, that most people are working longer work weeks\n",
            "and that too many families can no longer afford the escalating\n",
            "cost of health care.\n",
            "             \n",
            "             But we also know that, given the right tools, the\n",
            "right incentives and the right encouragement, our workers and\n",
            "businesses can make the kinds of products and profits our economy\n",
            "needs to expand opportunity and to make our communities better\n",
            "places to live.\n",
            "             \n",
            "             In many critical products today Americans are the\n",
            "low cost, high quality producers.  Our task is to make sure that\n",
            "we create more of those kinds of jobs.\n",
            "             \n",
            "             Just two months ago I gave Congress my plan for\n",
            "long-term jobs and economic growth.  It changes the old\n",
            "priorities in Washington and puts our emphasis where it needs to\n",
            "be -- on people's real needs, on increasing investments and jobs\n",
            "and education, on cutting the federal deficit, on stopping the\n",
            "waste which pays no dividends, and redirecting our precious\n",
            "resources toward investment that creates jobs now and lays the\n",
            "groundwork for robust economic growth in the future.\n",
            "             \n",
            "             These new directions passed the Congress in record\n",
            "time and created a new sense of hope and opportunity in our\n",
            "country.  Then the jobs plan I presented to Congress, which would\n",
            "create hundreds of thousands of jobs, most of them in the private\n",
            "sector in 1993 and 1994, passed the House of Representatives.  It\n",
            "now has the support of a majority of the United States Senate. \n",
            "But it's been held up by a filibuster of a minority in the\n",
            "Senate, just 43 senators.  They blocked a vote that they know\n",
            "would result in the passage of our bill and the creation of jobs.\n",
            "             \n",
            "             The issue isn't politics; the issue is people. \n",
            "Millions of Americans are waiting for this legislation and\n",
            "counting on it, counting on us in Washington.  But the jobs bill\n",
            "has been grounded by gridlock.  \n",
            "             \n",
            "             I know the American people are tired of business as\n",
            "usual and politics as usual.  I know they don't want us to spin\n",
            "or wheels.  They want the recovery to get moving.  So I have\n",
            "taken a first step to break this gridlock and gone the extra\n",
            "mile.  Yesterday I offered to cut the size of this plan by 25\n",
            "percent -- from $16 billion to $12 billion.  \n",
            "             \n",
            "             It's not what I'd hoped for.  With 16 million\n",
            "Americans looking for full-time work, I simply can't let the bill\n",
            "languish when I know that even a compromise bill will mean\n",
            "hundreds of thousands of jobs for our people.  The mandate is to\n",
            "act to achieve change and move the country forward.  By taking\n",
            "this initiative in the face of an unrelenting Senate talkathon, I\n",
            "think we can respond to your mandate and achieve a significant\n",
            "portion of our original goals.\n",
            "             \n",
            "             First, we want to keep the programs as much as\n",
            "possible that are needed to generate jobs and meet human needs,\n",
            "including highway and road construction, summer jobs for young\n",
            "people, immunization for children, construction of waste water\n",
            "sites, and aid to small businesses.  We also want to keep funding\n",
            "for extended unemployment compensation benefits, for people who\n",
            "have been unemployed for a long time because the economy isn't\n",
            "creating jobs.\n",
            "             \n",
            "             Second, I've recommended that all the other programs\n",
            "in the bill be cut across-the-board by a little more than 40\n",
            "percent.\n",
            "             \n",
            "             And third, I've recommended a new element in this\n",
            "program to help us immediately start our attempt to fight against\n",
            "crime by providing $200 million for cities and towns to rehire\n",
            "police officers who lost their jobs during the recession and put\n",
            "them back to work protecting our people.  I'm also going to fight\n",
            "for a tough crime bill because the people of this country need it\n",
            "and deserve it.\n",
            "             \n",
            "             Now, the people who are filibustering this bill --\n",
            "the Republican senators -- say they won't vote for it because it\n",
            "increases deficit spending, because there's extra spending this\n",
            "year that hasn't already been approved.  That sounds reasonable,\n",
            "doesn't it?  Here's what they don't say.  This program is more\n",
            "than paid for by budget cuts over my five-year budget, and this\n",
            "budget is well within the spending limits already approved by the\n",
            "Congress this year.\n",
            "             \n",
            "             It's amazing to me that many of these same senators\n",
            "who are filibustering the bill voted during the previous\n",
            "administration for billions of dollars of the same kind of\n",
            "emergency spending, and much of it was not designed to put the\n",
            "American people to work.  \n",
            "             \n",
            "             This is not about deficit spending.  We have offered\n",
            "a plan to cut the deficit.  This is about where your priorities\n",
            "are -- on people or on politics.  \n",
            "             \n",
            "             Keep in mind that our jobs bill is paid for dollar\n",
            "for dollar.  It is paid for by budget cuts.  And it's the\n",
            "soundest investment we can now make for ourselves and our\n",
            "children.  I urge all Americans to take another look at this jobs\n",
            "and investment program; to consider again the benefits for all of\n",
            "us when we've helped make more American partners working to\n",
            "ensure the future of our nation and the strength of our economy.\n",
            "             \n",
            "             You know, if every American who wanted a job had\n",
            "one, we wouldn't have a lot of the other problems we have in this\n",
            "country today.  This bill is not a miracle, it's a modest first\n",
            "step to try to set off a job creation explosion in this country\n",
            "again.  But it's a step we ought to take.  And it is fully paid\n",
            "for over the life of our budget.\n",
            "             \n",
            "             Tell your lawmakers what you think.  Tell them how\n",
            "important the bill is.  If it passes, we'll all be winners.\n",
            "             \n",
            "             Good morning, and thank you for listening.\n"
          ]
        }
      ],
      "source": [
        "# Veamos similaridad de documentos. Tomemos algún documento\n",
        "idx = 4811\n",
        "print(newsgroups_train.data[idx])"
      ]
    },
    {
      "cell_type": "code",
      "execution_count": 9,
      "metadata": {
        "id": "Ssa9bqJ-hA_v"
      },
      "outputs": [],
      "source": [
        "# midamos la similaridad coseno con todos los documentos de train\n",
        "cossim = cosine_similarity(X_train[idx], X_train)[0]"
      ]
    },
    {
      "cell_type": "code",
      "execution_count": 10,
      "metadata": {
        "colab": {
          "base_uri": "https://localhost:8080/"
        },
        "id": "p_mDA7p3AzcQ",
        "outputId": "60ed1efc-a31d-4948-f46d-696e3e524ef4"
      },
      "outputs": [
        {
          "output_type": "execute_result",
          "data": {
            "text/plain": [
              "array([1.        , 0.70930477, 0.67474953, ..., 0.        , 0.        ,\n",
              "       0.        ])"
            ]
          },
          "metadata": {},
          "execution_count": 10
        }
      ],
      "source": [
        "# podemos ver los valores de similaridad ordenados de mayor a menos\n",
        "np.sort(cossim)[::-1]"
      ]
    },
    {
      "cell_type": "code",
      "execution_count": 11,
      "metadata": {
        "colab": {
          "base_uri": "https://localhost:8080/"
        },
        "id": "0OIhDA1jAryX",
        "outputId": "c0c88e97-ee49-4654-dd55-40888d22e86e"
      },
      "outputs": [
        {
          "output_type": "execute_result",
          "data": {
            "text/plain": [
              "array([4811, 6635, 4253, ..., 9019, 9016, 8748])"
            ]
          },
          "metadata": {},
          "execution_count": 11
        }
      ],
      "source": [
        "# y a qué documentos corresponden\n",
        "np.argsort(cossim)[::-1]"
      ]
    },
    {
      "cell_type": "code",
      "source": [],
      "metadata": {
        "id": "hBW5Am9N86LW"
      },
      "execution_count": 11,
      "outputs": []
    },
    {
      "cell_type": "code",
      "execution_count": 12,
      "metadata": {
        "id": "hP7qLS4ZBLps"
      },
      "outputs": [],
      "source": [
        "# los 5 documentos más similares:\n",
        "mostsim = np.argsort(cossim)[::-1][1:7]"
      ]
    },
    {
      "cell_type": "code",
      "source": [
        "idx = 4546\n",
        "print(newsgroups_train.data[idx])"
      ],
      "metadata": {
        "colab": {
          "base_uri": "https://localhost:8080/"
        },
        "id": "FKEqIz2bQUie",
        "outputId": "0e097ac1-a919-4c54-ef29-0020d5e65d25"
      },
      "execution_count": 13,
      "outputs": [
        {
          "output_type": "stream",
          "name": "stdout",
          "text": [
            "Can someone recommend how to ship a motorcycle from San Francisco\n",
            "to Seattle?  And how much might it cost?\n",
            "\n",
            "I remember a thread on shipping.  If someone saved the instructions\n",
            "on bike prep, please post 'em again, or email.\n",
            "\n",
            "Thanks,\n"
          ]
        }
      ]
    },
    {
      "cell_type": "code",
      "source": [
        "# midamos la similaridad coseno con todos los documentos de train\n",
        "cossim_2 = cosine_similarity(X_train[idx], X_train)[0]\n",
        "most_sim_2 = np.argsort(cossim_2)[::-1][0:7]"
      ],
      "metadata": {
        "id": "QW5E6XUkQUgm"
      },
      "execution_count": 14,
      "outputs": []
    },
    {
      "cell_type": "code",
      "source": [
        "np.sort(cossim_2)[::-1][0:7]"
      ],
      "metadata": {
        "colab": {
          "base_uri": "https://localhost:8080/"
        },
        "id": "u0tXEX5lXj3N",
        "outputId": "7133ad33-d210-4c4a-a1a4-73df5a04d7ed"
      },
      "execution_count": 15,
      "outputs": [
        {
          "output_type": "execute_result",
          "data": {
            "text/plain": [
              "array([1.        , 0.20928553, 0.2008908 , 0.1665626 , 0.1624009 ,\n",
              "       0.1582626 , 0.15815911])"
            ]
          },
          "metadata": {},
          "execution_count": 15
        }
      ]
    },
    {
      "cell_type": "code",
      "source": [
        "# visualizacion del valor de similaridad\n",
        "np.sort(cossim_2)[::-1][1:6]"
      ],
      "metadata": {
        "colab": {
          "base_uri": "https://localhost:8080/"
        },
        "id": "fku5DMUjRTvT",
        "outputId": "961f3b04-d5ba-4f23-c4a0-6e8834b85892"
      },
      "execution_count": 16,
      "outputs": [
        {
          "output_type": "execute_result",
          "data": {
            "text/plain": [
              "array([0.20928553, 0.2008908 , 0.1665626 , 0.1624009 , 0.1582626 ])"
            ]
          },
          "metadata": {},
          "execution_count": 16
        }
      ]
    },
    {
      "cell_type": "code",
      "source": [
        "np.sort(cossim_2)[::-1][0:7]"
      ],
      "metadata": {
        "colab": {
          "base_uri": "https://localhost:8080/"
        },
        "id": "c1MPxqWRVAXN",
        "outputId": "e7eccaf2-f6ee-4082-ffe7-d0db97ba43b0"
      },
      "execution_count": 17,
      "outputs": [
        {
          "output_type": "execute_result",
          "data": {
            "text/plain": [
              "array([1.        , 0.20928553, 0.2008908 , 0.1665626 , 0.1624009 ,\n",
              "       0.1582626 , 0.15815911])"
            ]
          },
          "metadata": {},
          "execution_count": 17
        }
      ]
    },
    {
      "cell_type": "code",
      "source": [
        "print(newsgroups_train.data[most_sim_2[1]])"
      ],
      "metadata": {
        "colab": {
          "base_uri": "https://localhost:8080/"
        },
        "id": "sNqimLv-QUej",
        "outputId": "7c9c05a1-ece1-435d-fb28-06684d5cc369"
      },
      "execution_count": 18,
      "outputs": [
        {
          "output_type": "stream",
          "name": "stdout",
          "text": [
            "Could someone out there please tell me how I could get onto\n",
            "the Saab mailing list. Specifically I need the address and\n",
            "instructions on what to do.\n",
            "\n",
            "Thanks in advance\n"
          ]
        }
      ]
    },
    {
      "cell_type": "code",
      "execution_count": 19,
      "metadata": {
        "colab": {
          "base_uri": "https://localhost:8080/",
          "height": 36
        },
        "id": "QdJLHPJACvaj",
        "outputId": "cb5ca35d-435a-4784-f066-d8e3383fe415"
      },
      "outputs": [
        {
          "output_type": "execute_result",
          "data": {
            "text/plain": [
              "'rec.motorcycles'"
            ],
            "application/vnd.google.colaboratory.intrinsic+json": {
              "type": "string"
            }
          },
          "metadata": {},
          "execution_count": 19
        }
      ],
      "source": [
        "# el documento original pertenece a la clase:\n",
        "newsgroups_train.target_names[y_train[idx]]"
      ]
    },
    {
      "cell_type": "code",
      "execution_count": 20,
      "metadata": {
        "colab": {
          "base_uri": "https://localhost:8080/"
        },
        "id": "RWy_73epCbFG",
        "outputId": "bef0e2ad-6dbe-4bb5-9b8d-4a4299b7356c"
      },
      "outputs": [
        {
          "output_type": "stream",
          "name": "stdout",
          "text": [
            "talk.politics.misc\n",
            "talk.politics.misc\n",
            "talk.politics.misc\n",
            "talk.politics.misc\n",
            "talk.politics.misc\n",
            "talk.politics.misc\n"
          ]
        }
      ],
      "source": [
        "# y los 5 más similares son de las clases:\n",
        "for i in mostsim:\n",
        "  print(newsgroups_train.target_names[y_train[i]])"
      ]
    },
    {
      "cell_type": "markdown",
      "source": [
        "## Consigna del desafío 1\n",
        "\n",
        "**1**. Vectorizar documentos. Tomar 5 documentos al azar y medir similaridad con el resto de los documentos.\n",
        "Estudiar los 5 documentos más similares de cada uno analizar si tiene sentido\n",
        "la similaridad según el contenido del texto y la etiqueta de clasificación.\n",
        "\n",
        "**2**. Entrenar modelos de clasificación Naïve Bayes para maximizar el desempeño de clasificación\n",
        "(f1-score macro) en el conjunto de datos de test. Considerar cambiar parámteros\n",
        "de instanciación del vectorizador y los modelos y probar modelos de Naïve Bayes Multinomial\n",
        "y ComplementNB.\n",
        "\n",
        "**3**. Transponer la matriz documento-término. De esa manera se obtiene una matriz\n",
        "término-documento que puede ser interpretada como una colección de vectorización de palabras.\n",
        "Estudiar ahora similaridad entre palabras tomando 5 palabras y estudiando sus 5 más similares. **La elección de palabras no debe ser al azar para evitar la aparición de términos poco interpretables, elegirlas \"manualmente\"**.\n"
      ],
      "metadata": {
        "id": "Vmwr2ixLPGHH"
      }
    },
    {
      "cell_type": "markdown",
      "source": [
        "## 1. Análisis de documento aleatorios"
      ],
      "metadata": {
        "id": "Uxf9m89epqUa"
      }
    },
    {
      "cell_type": "code",
      "source": [
        "def most_similar(indice, doc_vectorizados, target_arr, imprimir_doc_sim):\n",
        "  \"\"\"\n",
        "  Muestra los documentos más similares a un documento dado utilizando la similitud coseno.\n",
        "\n",
        "  Este método imprime el contenido del documento de análisis (según el índice dado) y luego\n",
        "  muestra los 5 documentos más similares de un conjunto de documentos vectorizados.\n",
        "  La similitud se mide mediante la similitud coseno.\n",
        "\n",
        "  Args:\n",
        "      indice (int): Índice del documento que se va a analizar.\n",
        "      doc_vectorizados (array-like): Matriz de documentos vectorizados (solo usando TF-IDF).\n",
        "      imprimir_doc_sim (bool): Si es True, imprime el contenido completo de los documentos similares;\n",
        "                                si es False, solo muestra los índices y la puntuación de similitud.\n",
        "\n",
        "  Returns:\n",
        "      list[int]: Lista con los índices de los documentos más similares (ordenados de mayor a menor similitud).\n",
        "  \"\"\"\n",
        "  print(\"=========== Documento de análisis ===========\")\n",
        "  print(f\"----- indice: {indice} ------- etiqueta: {newsgroups_train.target_names[target_arr[indice]]}---------\")\n",
        "  print(newsgroups_train.data[indice])\n",
        "  print(\"=============================================\")\n",
        "  print(\"\\n\\n\")\n",
        "\n",
        "  # midamos la similaridad coseno con todos los documentos de train\n",
        "  cosine_sim_arr = cosine_similarity(doc_vectorizados[indice], doc_vectorizados)[0]\n",
        "  most_sim_indices = np.sort(cosine_sim_arr)[::-1][0:6]\n",
        "  most_sim_arr = np.argsort(cosine_sim_arr)[::-1][0:6]\n",
        "\n",
        "  if (imprimir_doc_sim):\n",
        "    for i in range(len(most_sim_indices)):\n",
        "      print(f\"-------------- documento con indice:{most_sim_arr[i]} ----------------------------\")\n",
        "      print(f\"-------------- similaridad coseno: {most_sim_indices[i]:.4f} ----------------------------\")\n",
        "      print(f\"-------------- etiqueta: {newsgroups_train.target_names[target_arr[i]]} ----------------------------\")\n",
        "\n",
        "      print(newsgroups_train.data[most_sim_arr[i]])\n",
        "      print(f\"-----------------------------------------------------------------------------------\")\n",
        "      print(\"\\n\\n\")\n",
        "  else:\n",
        "    for i in range(len(most_sim_indices)):\n",
        "      print(f\"documento con indice:{most_sim_arr[i]} - similaridad coseno: {most_sim_indices[i]:.4f} - etiqueta: {newsgroups_train.target_names[target_arr[i]]}\")\n",
        "\n",
        "  return most_sim_arr"
      ],
      "metadata": {
        "id": "ILgZT0EtQUdB"
      },
      "execution_count": 21,
      "outputs": []
    },
    {
      "cell_type": "code",
      "source": [
        "most_similar(4811, X_train, y_train, False)"
      ],
      "metadata": {
        "colab": {
          "base_uri": "https://localhost:8080/"
        },
        "id": "SG1OowXSmEZH",
        "outputId": "a4738eec-add2-4776-da46-482d7709b78c"
      },
      "execution_count": 22,
      "outputs": [
        {
          "output_type": "stream",
          "name": "stdout",
          "text": [
            "=========== Documento de análisis ===========\n",
            "----- indice: 4811 ------- etiqueta: talk.politics.misc---------\n",
            "THE WHITE HOUSE\n",
            "\n",
            "                  Office of the Press Secretary\n",
            "                   (Pittsburgh, Pennslyvania)\n",
            "______________________________________________________________\n",
            "For Immediate Release                         April 17, 1993     \n",
            "\n",
            "             \n",
            "                  RADIO ADDRESS TO THE NATION \n",
            "                        BY THE PRESIDENT\n",
            "             \n",
            "                Pittsburgh International Airport\n",
            "                    Pittsburgh, Pennsylvania\n",
            "             \n",
            "             \n",
            "10:06 A.M. EDT\n",
            "             \n",
            "             \n",
            "             THE PRESIDENT:  Good morning.  My voice is coming to\n",
            "you this morning through the facilities of the oldest radio\n",
            "station in America, KDKA in Pittsburgh.  I'm visiting the city to\n",
            "meet personally with citizens here to discuss my plans for jobs,\n",
            "health care and the economy.  But I wanted first to do my weekly\n",
            "broadcast with the American people. \n",
            "             \n",
            "             I'm told this station first broadcast in 1920 when\n",
            "it reported that year's presidential elections.  Over the past\n",
            "seven decades presidents have found ways to keep in touch with\n",
            "the people, from whistle-stop tours to fire-side chats to the bus\n",
            "tour that I adopted, along with Vice President Gore, in last\n",
            "year's campaign.\n",
            "             \n",
            "             Every Saturday morning I take this time to talk with\n",
            "you, my fellow Americans, about the problems on your minds and\n",
            "what I'm doing to try and solve them.  It's my way of reporting\n",
            "to you and of giving you a way to hold me accountable.\n",
            "             \n",
            "             You sent me to Washington to get our government and\n",
            "economy moving after years of paralysis and policy and a bad\n",
            "experiment with trickle-down economics.  You know how important\n",
            "it is for us to make bold, comprehensive changes in the way we do\n",
            "business.  \n",
            "             \n",
            "             We live in a competitive global economy.  Nations\n",
            "rise and fall on the skills of their workers, the competitiveness\n",
            "of their companies, the imagination of their industries, and the\n",
            "cooperative experience and spirit that exists between business,\n",
            "labor and government.  Although many of the economies of the\n",
            "industrialized world are now suffering from slow growth, they've\n",
            "made many of the smart investments and the tough choices which\n",
            "our government has for too long ignored.  That's why many of them\n",
            "have been moving ahead and too many of our people have been\n",
            "falling behind.\n",
            "             \n",
            "             We have an economy today that even when it grows is\n",
            "not producing new jobs.  We've increased the debt of our nation\n",
            "by four times over the last 12 years, and we don't have much to\n",
            "show for it.  We know that wages of most working people have\n",
            "stopped rising, that most people are working longer work weeks\n",
            "and that too many families can no longer afford the escalating\n",
            "cost of health care.\n",
            "             \n",
            "             But we also know that, given the right tools, the\n",
            "right incentives and the right encouragement, our workers and\n",
            "businesses can make the kinds of products and profits our economy\n",
            "needs to expand opportunity and to make our communities better\n",
            "places to live.\n",
            "             \n",
            "             In many critical products today Americans are the\n",
            "low cost, high quality producers.  Our task is to make sure that\n",
            "we create more of those kinds of jobs.\n",
            "             \n",
            "             Just two months ago I gave Congress my plan for\n",
            "long-term jobs and economic growth.  It changes the old\n",
            "priorities in Washington and puts our emphasis where it needs to\n",
            "be -- on people's real needs, on increasing investments and jobs\n",
            "and education, on cutting the federal deficit, on stopping the\n",
            "waste which pays no dividends, and redirecting our precious\n",
            "resources toward investment that creates jobs now and lays the\n",
            "groundwork for robust economic growth in the future.\n",
            "             \n",
            "             These new directions passed the Congress in record\n",
            "time and created a new sense of hope and opportunity in our\n",
            "country.  Then the jobs plan I presented to Congress, which would\n",
            "create hundreds of thousands of jobs, most of them in the private\n",
            "sector in 1993 and 1994, passed the House of Representatives.  It\n",
            "now has the support of a majority of the United States Senate. \n",
            "But it's been held up by a filibuster of a minority in the\n",
            "Senate, just 43 senators.  They blocked a vote that they know\n",
            "would result in the passage of our bill and the creation of jobs.\n",
            "             \n",
            "             The issue isn't politics; the issue is people. \n",
            "Millions of Americans are waiting for this legislation and\n",
            "counting on it, counting on us in Washington.  But the jobs bill\n",
            "has been grounded by gridlock.  \n",
            "             \n",
            "             I know the American people are tired of business as\n",
            "usual and politics as usual.  I know they don't want us to spin\n",
            "or wheels.  They want the recovery to get moving.  So I have\n",
            "taken a first step to break this gridlock and gone the extra\n",
            "mile.  Yesterday I offered to cut the size of this plan by 25\n",
            "percent -- from $16 billion to $12 billion.  \n",
            "             \n",
            "             It's not what I'd hoped for.  With 16 million\n",
            "Americans looking for full-time work, I simply can't let the bill\n",
            "languish when I know that even a compromise bill will mean\n",
            "hundreds of thousands of jobs for our people.  The mandate is to\n",
            "act to achieve change and move the country forward.  By taking\n",
            "this initiative in the face of an unrelenting Senate talkathon, I\n",
            "think we can respond to your mandate and achieve a significant\n",
            "portion of our original goals.\n",
            "             \n",
            "             First, we want to keep the programs as much as\n",
            "possible that are needed to generate jobs and meet human needs,\n",
            "including highway and road construction, summer jobs for young\n",
            "people, immunization for children, construction of waste water\n",
            "sites, and aid to small businesses.  We also want to keep funding\n",
            "for extended unemployment compensation benefits, for people who\n",
            "have been unemployed for a long time because the economy isn't\n",
            "creating jobs.\n",
            "             \n",
            "             Second, I've recommended that all the other programs\n",
            "in the bill be cut across-the-board by a little more than 40\n",
            "percent.\n",
            "             \n",
            "             And third, I've recommended a new element in this\n",
            "program to help us immediately start our attempt to fight against\n",
            "crime by providing $200 million for cities and towns to rehire\n",
            "police officers who lost their jobs during the recession and put\n",
            "them back to work protecting our people.  I'm also going to fight\n",
            "for a tough crime bill because the people of this country need it\n",
            "and deserve it.\n",
            "             \n",
            "             Now, the people who are filibustering this bill --\n",
            "the Republican senators -- say they won't vote for it because it\n",
            "increases deficit spending, because there's extra spending this\n",
            "year that hasn't already been approved.  That sounds reasonable,\n",
            "doesn't it?  Here's what they don't say.  This program is more\n",
            "than paid for by budget cuts over my five-year budget, and this\n",
            "budget is well within the spending limits already approved by the\n",
            "Congress this year.\n",
            "             \n",
            "             It's amazing to me that many of these same senators\n",
            "who are filibustering the bill voted during the previous\n",
            "administration for billions of dollars of the same kind of\n",
            "emergency spending, and much of it was not designed to put the\n",
            "American people to work.  \n",
            "             \n",
            "             This is not about deficit spending.  We have offered\n",
            "a plan to cut the deficit.  This is about where your priorities\n",
            "are -- on people or on politics.  \n",
            "             \n",
            "             Keep in mind that our jobs bill is paid for dollar\n",
            "for dollar.  It is paid for by budget cuts.  And it's the\n",
            "soundest investment we can now make for ourselves and our\n",
            "children.  I urge all Americans to take another look at this jobs\n",
            "and investment program; to consider again the benefits for all of\n",
            "us when we've helped make more American partners working to\n",
            "ensure the future of our nation and the strength of our economy.\n",
            "             \n",
            "             You know, if every American who wanted a job had\n",
            "one, we wouldn't have a lot of the other problems we have in this\n",
            "country today.  This bill is not a miracle, it's a modest first\n",
            "step to try to set off a job creation explosion in this country\n",
            "again.  But it's a step we ought to take.  And it is fully paid\n",
            "for over the life of our budget.\n",
            "             \n",
            "             Tell your lawmakers what you think.  Tell them how\n",
            "important the bill is.  If it passes, we'll all be winners.\n",
            "             \n",
            "             Good morning, and thank you for listening.\n",
            "=============================================\n",
            "\n",
            "\n",
            "\n",
            "documento con indice:4811 - similaridad coseno: 1.0000 - etiqueta: rec.autos\n",
            "documento con indice:6635 - similaridad coseno: 0.7093 - etiqueta: comp.sys.mac.hardware\n",
            "documento con indice:4253 - similaridad coseno: 0.6747 - etiqueta: comp.sys.mac.hardware\n",
            "documento con indice:3596 - similaridad coseno: 0.6695 - etiqueta: comp.graphics\n",
            "documento con indice:4271 - similaridad coseno: 0.6041 - etiqueta: sci.space\n",
            "documento con indice:3746 - similaridad coseno: 0.5362 - etiqueta: talk.politics.guns\n"
          ]
        },
        {
          "output_type": "execute_result",
          "data": {
            "text/plain": [
              "array([4811, 6635, 4253, 3596, 4271, 3746])"
            ]
          },
          "metadata": {},
          "execution_count": 22
        }
      ]
    },
    {
      "cell_type": "markdown",
      "source": [
        "### **Análisis documento con indice 4811**\n",
        "Es el dialogo de una emisora de radio que realiza un\n",
        "entrevista al presidente de EEUU. Le realizan varias preguntas,\n",
        "mientas el presidente responde sobre recortes y desempleo.\n",
        "\n",
        "* El documento con indice **6635** es un discurso del presidente Clinton donde destacó la importancia de brindar oportunidades laborales y educativas a los jóvenes estadounidenses. Anunció un programa de empleos de verano con fondos publicos y privados. El programa busca reformar el bienestar social, Capacitar trabajadores desempleados y Fortalecer la economía local con inversiones en infraestructura.\n",
        "* El documento con indice **4253** El texto es la transcripcion del evento publico Town Hall por satelite donde el presidente Clinton hablo de las metas para el anio 200. Entre ellas: cómo preparar mejor a los jóvenes con una transición efectiva de la escuela al empleo. Tambien se hablo de la educación como base de la democracia. Hablo de la importancia de fomentar el aprendizaje continuo. Presento un programa de empleos de verano con componente educativo\n",
        "* El documento con indice **3596** La Casa Blanca anunció un paquete de ayuda de 1.6 mil millones para apoyar las reformas económicas y políticas en Rusia, acordado entre los presidentes Clinton y Yeltsin. Este paquete, financiado con fondos ya aprobados por el Congreso, incluye asistencia humanitaria, préstamos alimentarios concesionales, apoyo al sector privado, democratización, reasentamiento de oficiales militares rusos, cooperación en energía y medio ambiente, y el desmantelamiento seguro de arsenales nucleares. También se enfatiza la importancia del comercio e inversión\n",
        "como motor del desarrollo ruso, incluyendo créditos para proyectos energéticos\n",
        "y apoyo a la integración de Rusia en la economía global. Todo está diseñado para ejecutarse de inmediato, sin necesidad de nueva aprobación legislativa.\n",
        "* El documento con indice **4271** En esta conferencia de prensa conjunta con la prensa rusa, el presidente Clinton reafirma que el paquete de ayuda a Rusia no es una dádiva, sino una inversión estratégica en la democracia, la estabilidad y el desarrollo económico, que también beneficia a Estados Unidos al reducir amenazas como la guerra y las armas nucleares. Clinton subraya que el dinero será distribuido principalmente en iniciativas privadas y que se busca incluir a empresarios rusos en la planificación. También destacó su interés personal por la cultura rusa y su compromiso con una relación cercana entre ambos países. Finalmente, abordó temas como la ratificación de los tratados START y la posible eliminación de restricciones heredadas de la\n",
        "Guerra Fría, como Jackson-Vanik y COCOM.\n",
        "* El documento con indice **3746** Este documento detalla un informe técnico de alto nivel del gobierno estadounidense sobre un paquete de ayuda de $1.6 mil millones destinado a respaldar las reformas económicas y políticas en Rusia tras el colapso de la Unión Soviética. Las iniciativas incluyen asistencia alimentaria y médica, préstamos agrícolas con condiciones concesionales, apoyo a la privatización y desarrollo de pequeñas empresas, proyectos de democratización, reasentamiento de oficiales militares, cooperación en energía y medioambiente, y desarme nuclear seguro. Todo el paquete está financiado con fondos ya aprobados para el año fiscal 1993, sin necesidad de nueva autorización del Congreso. Además, se enfatiza el papel del sector privado y del comercio como pilares sostenibles del desarrollo ruso, con mecanismos de supervisión para asegurar la correcta aplicación de los recursos. También se destaca la intención de Estados Unidos de liderar este esfuerzo junto a sus aliados occidentales, buscando no solo estabilidad en Rusia, sino beneficios estratégicos mutuos en términos de seguridad, comercio y cooperación global.\n",
        "\n",
        "### **Conclusión**\n",
        "Los documentoss mantienen relacion entre ellos, notando que hay terminos ern comun como: presidente, clinton, OFFICE. Estos terminos se repiden en todos y permiten a los vectores guardar una relacion.\n",
        "\n",
        "\n",
        "\n",
        "\n"
      ],
      "metadata": {
        "id": "n4mIfdfMm9nd"
      }
    },
    {
      "cell_type": "code",
      "source": [
        "most_similar(4546, X_train, y_train, True)"
      ],
      "metadata": {
        "colab": {
          "base_uri": "https://localhost:8080/"
        },
        "id": "22j9dzVXQUay",
        "outputId": "f7e85499-4ddb-4bc4-a117-9b514756cf6b"
      },
      "execution_count": 23,
      "outputs": [
        {
          "output_type": "stream",
          "name": "stdout",
          "text": [
            "=========== Documento de análisis ===========\n",
            "----- indice: 4546 ------- etiqueta: rec.motorcycles---------\n",
            "Can someone recommend how to ship a motorcycle from San Francisco\n",
            "to Seattle?  And how much might it cost?\n",
            "\n",
            "I remember a thread on shipping.  If someone saved the instructions\n",
            "on bike prep, please post 'em again, or email.\n",
            "\n",
            "Thanks,\n",
            "=============================================\n",
            "\n",
            "\n",
            "\n",
            "-------------- documento con indice:4546 ----------------------------\n",
            "-------------- similaridad coseno: 1.0000 ----------------------------\n",
            "-------------- etiqueta: rec.autos ----------------------------\n",
            "Can someone recommend how to ship a motorcycle from San Francisco\n",
            "to Seattle?  And how much might it cost?\n",
            "\n",
            "I remember a thread on shipping.  If someone saved the instructions\n",
            "on bike prep, please post 'em again, or email.\n",
            "\n",
            "Thanks,\n",
            "-----------------------------------------------------------------------------------\n",
            "\n",
            "\n",
            "\n",
            "-------------- documento con indice:8494 ----------------------------\n",
            "-------------- similaridad coseno: 0.2093 ----------------------------\n",
            "-------------- etiqueta: comp.sys.mac.hardware ----------------------------\n",
            "Could someone out there please tell me how I could get onto\n",
            "the Saab mailing list. Specifically I need the address and\n",
            "instructions on what to do.\n",
            "\n",
            "Thanks in advance\n",
            "-----------------------------------------------------------------------------------\n",
            "\n",
            "\n",
            "\n",
            "-------------- documento con indice:9823 ----------------------------\n",
            "-------------- similaridad coseno: 0.2009 ----------------------------\n",
            "-------------- etiqueta: comp.sys.mac.hardware ----------------------------\n",
            "\n",
            "It depends on the bike. Once you've found a bike you're interested in, call\n",
            "some insurance companies for rates. Some bikes are much cheaper to insure than\n",
            "you might think (my EX-500 only costs me $127/year in St. Louis; I'm 27)\n",
            "\n",
            "For a first bike, I recommend 500cc's or less. And a bike short enough to get\n",
            "both feet on the ground when you stop.\n",
            " \n",
            "The one piece of advice EVERYONE will give you is to take a Motorcycle Safety\n",
            "Foundation Rider's Course. See a dealer for details. In some states, completion\n",
            "of such a course can give you a break on insurance. It will also teach you\n",
            "to ride properly from the beginning, so you won't learn any bad habits.\n",
            "\n",
            "Good luck. Riding a motorcycle is the most fun you can have, naked or otherwise.\n",
            "-----------------------------------------------------------------------------------\n",
            "\n",
            "\n",
            "\n",
            "-------------- documento con indice:4489 ----------------------------\n",
            "-------------- similaridad coseno: 0.1666 ----------------------------\n",
            "-------------- etiqueta: comp.graphics ----------------------------\n",
            "\n",
            "Thanks for the info.\n",
            "\n",
            "\n",
            "How much more does the F550iW cost?\n",
            "\n",
            "-----------------------------------------------------------------------------------\n",
            "\n",
            "\n",
            "\n",
            "-------------- documento con indice:9803 ----------------------------\n",
            "-------------- similaridad coseno: 0.1624 ----------------------------\n",
            "-------------- etiqueta: sci.space ----------------------------\n",
            "\n",
            "Step 1) Join the AMA (American Motorcycling Association).  Call 1-800-AMA-JOIN.\n",
            "\n",
            "Step 2) After you become a member, they will ship your bike, UNCRATED to \n",
            "just about anywhere across the fruited plain for a few hundred bucks.\n",
            "\n",
            "I have used this service and have been continually pleased.  They usually\n",
            "only take a few days for the whole thing, and you do not have to prepare\n",
            "the bike in any way (other than draining the gas).  Not to mention that\n",
            "it is about 25% of the normal shipping costs (by the time you crate a bike\n",
            "and ship it with another company, you can pay around $1000)\n",
            "\n",
            "-----------------------------------------------------------------------------------\n",
            "\n",
            "\n",
            "\n",
            "-------------- documento con indice:3269 ----------------------------\n",
            "-------------- similaridad coseno: 0.1583 ----------------------------\n",
            "-------------- etiqueta: talk.politics.guns ----------------------------\n",
            "\n",
            "I shipped my K75S from Portland Oregon to Daytona for this years\n",
            "bike week (I rode it back!).  The company I used is The Federal Co's.\n",
            "You can reach them at 1-800-747-4100 ex 214.  You either have to be\n",
            "a AMA member, or maybe it is just a discount for AMA, not sure.\n",
            "(Call 1-800-AMA-JOIN to become an AMA member)\n",
            "\n",
            "The shipping cost is based on the number of miles.  It cost me about $500\n",
            "for Portland to Orlando.  $80 of that was insurance.  All I had to do is\n",
            "ride it to the shipping dock and siphon the gas out.  I think they can\n",
            "also pick up the bike from any business.  The bike arrived on-time at\n",
            "Orlando.  All I had to do was adjust the mirrors and add gas.  The bike\n",
            "was in perfect shape!\n",
            "-----------------------------------------------------------------------------------\n",
            "\n",
            "\n",
            "\n"
          ]
        },
        {
          "output_type": "execute_result",
          "data": {
            "text/plain": [
              "array([4546, 8494, 9823, 4489, 9803, 3269])"
            ]
          },
          "metadata": {},
          "execution_count": 23
        }
      ]
    },
    {
      "cell_type": "markdown",
      "source": [
        "### **Análisis documento con indice 4546**\n",
        "Habla acerca de una consulta que alguien realizo acerca de como enviar una motocicleta por correo\n",
        "\n",
        "* El documento con indice **8494** es una consulta donde se pregunta por el email de una tal Saab. Se observa que hay terminos que se comparten como, instructions y thanks\n",
        "* el documento con indice **9823** es un consejo que alguien comparte acerca de como comprar un motocicleta facil de asegurar. Se observa que hay algunos terminos que comparten como bike,\n",
        "* El documento con indice **4489** es una respuesta. donde se agradece por alguna informacion proporcionada. Se observa que comparte el termino cost\n",
        "* El documento con indice **9803** parece un correo con instrucciones para usar un servicio en el que se puede enviar motocicletas cierto medio. Se observan terminos compartidos como cost.\n",
        "* El documento con indice **3269** es un correo que cuenta una experiencia sobre como alguien envio su motocileta. Se observan algunos terminos en comun como bike.\n",
        "\n",
        "### **Conclusión**\n",
        "Los documentos guardan una relacion. Se observa claramente como todos hablan acerca de motocicletas, mientras que alguine hablan acerca de como comprar una otros hablan sobre como enviarla."
      ],
      "metadata": {
        "id": "ea1-5ZAndIIB"
      }
    },
    {
      "cell_type": "code",
      "source": [
        "most_similar(1624, X_train, y_train, True)"
      ],
      "metadata": {
        "colab": {
          "base_uri": "https://localhost:8080/"
        },
        "id": "UBGHwYPfQUVE",
        "outputId": "ea22e9bb-e124-4718-b46c-5989c1eff908"
      },
      "execution_count": 24,
      "outputs": [
        {
          "output_type": "stream",
          "name": "stdout",
          "text": [
            "=========== Documento de análisis ===========\n",
            "----- indice: 1624 ------- etiqueta: misc.forsale---------\n",
            "I have the following games for sale or trade for other SNES (or\n",
            "Genesis/MegaDrive games):\n",
            "(all have instructions and box except where stated)\n",
            "\n",
            "SFC:\n",
            "Mickeys Magical Quest (no instructions)\n",
            "A.Suzukis Super GrandPrix\n",
            "Legend of the Mystical Ninja\n",
            "\n",
            "UK SNES:\n",
            "Out of this World / Another World\n",
            "Super Soccer\n",
            "\n",
            "US SNES:\n",
            "Krustys Fun House\n",
            "Irem Skins Golf\n",
            "Super Tennis (currently under offer)\n",
            "\n",
            "I will sell for US$ for UK pounds.\n",
            "\n",
            "Cheers\n",
            "Jonathan\n",
            "\n",
            "=============================================\n",
            "\n",
            "\n",
            "\n",
            "-------------- documento con indice:1624 ----------------------------\n",
            "-------------- similaridad coseno: 1.0000 ----------------------------\n",
            "-------------- etiqueta: rec.autos ----------------------------\n",
            "I have the following games for sale or trade for other SNES (or\n",
            "Genesis/MegaDrive games):\n",
            "(all have instructions and box except where stated)\n",
            "\n",
            "SFC:\n",
            "Mickeys Magical Quest (no instructions)\n",
            "A.Suzukis Super GrandPrix\n",
            "Legend of the Mystical Ninja\n",
            "\n",
            "UK SNES:\n",
            "Out of this World / Another World\n",
            "Super Soccer\n",
            "\n",
            "US SNES:\n",
            "Krustys Fun House\n",
            "Irem Skins Golf\n",
            "Super Tennis (currently under offer)\n",
            "\n",
            "I will sell for US$ for UK pounds.\n",
            "\n",
            "Cheers\n",
            "Jonathan\n",
            "\n",
            "-----------------------------------------------------------------------------------\n",
            "\n",
            "\n",
            "\n",
            "-------------- documento con indice:4896 ----------------------------\n",
            "-------------- similaridad coseno: 0.4189 ----------------------------\n",
            "-------------- etiqueta: comp.sys.mac.hardware ----------------------------\n",
            "I have the following Genesis/Megadrive games for sale or trade for other\n",
            "Genesis/MD (or SNES games). All games will work with both US and UK\n",
            "machines (50 or 60Hz) except where stated and all are boxed with\n",
            "instructions\n",
            "\n",
            "D&D Warriors of the Eternal Sun\n",
            "Outlander\n",
            "Death Duel\n",
            "Chakan the Forever man\n",
            "Wonder Boy in Monster Land\n",
            "A.Sennas Super Monaco GP 2 (50Hz only)\n",
            "\n",
            "Ill accept US$ or UK sterling.\n",
            "Make me an offer!\n",
            "\n",
            "Cheers\n",
            "Jonathan\n",
            "\n",
            "-----------------------------------------------------------------------------------\n",
            "\n",
            "\n",
            "\n",
            "-------------- documento con indice:525 ----------------------------\n",
            "-------------- similaridad coseno: 0.2872 ----------------------------\n",
            "-------------- etiqueta: comp.sys.mac.hardware ----------------------------\n",
            "IM pleased to announce a new revolutionary device that allows you to\n",
            "copy super nintendo and genesis games to floppy disk.  Then later\n",
            "play from floppy disk with out the cart.  This is a independent system\n",
            "that interfaces with your SNES or Genesis.\n",
            "\n",
            "OTHER FEATURES\n",
            "\n",
            "*Store multiple copies of cart. save game to disk (up to 32 saves to disk)\n",
            "\n",
            "*Save your position in SNES games that don't norally have a save feature\n",
            "\n",
            "*Switch your SNES into slow motion mode\n",
            "\n",
            "*Use codes to get unlimited lives and other \"cheats\" in many games.\n",
            "\n",
            "The Multi-Game Hunter is capable of copying both SNES and Genesis game \n",
            "carts to standard IBM PC formated floppy disks. The games can them be played directly from the floppy disk. NOTE:IT does not require a PC\n",
            "\n",
            "Full color on-screen icons and menus make operation for the MGH so simple\n",
            "that even a child could operate it.  Options can be selected simply by choosing the selection with the game controller and pressin a button.\n",
            "\n",
            "Add a Game saver adapter to your system for more game playing power.  The\n",
            "Game saver allows you to save your position to disk in almost any SNES game!\n",
            "Reload your saved position any time.  Enable it's slow-motion feature for those really tough games.\n",
            "\n",
            "For more control over game play, We have the Game finger software.  The\n",
            "game finger software can give you unlimited lives or warp you to new levels in\n",
            "your favorite SNES games.  Bring back to life those really frustrating games.\n",
            "\n",
            "Also if you know how to program 6518 6502 ASM code you can create your own\n",
            "SNES demos or games.\n",
            "\n",
            "MGH includes\n",
            "\n",
            "Base unit,disk drive (high density 3.5 drive), 16megabit RAM, 256 SRAM,\n",
            "all adapters and comes ready to hook up to your gameing system.\n",
            "\n",
            "ONly thing not included is the power supply which you can pick up at\n",
            "radio shack.\n",
            "\n",
            "All for only $500\n",
            "\n",
            "DISCLAMER\n",
            "\n",
            "the customer assumes all responsibility for the use and or misuse of this \n",
            "product.  We in no way encourage nor condone the use of this product for\n",
            "software piracy.  This device is intended soley for making legal backup\n",
            "copies.  Neither Nintendo or Sega has giving official endorsement of the \n",
            "products described herein.\n",
            "-----------------------------------------------------------------------------------\n",
            "\n",
            "\n",
            "\n",
            "-------------- documento con indice:10109 ----------------------------\n",
            "-------------- similaridad coseno: 0.2712 ----------------------------\n",
            "-------------- etiqueta: comp.graphics ----------------------------\n",
            "I have the following Genesis carts for sale or trade:\n",
            "\n",
            "Alien 3\n",
            "Global gladiators\n",
            "Crue ball\n",
            "\n",
            "I have the following SNES carts for sale or trade:\n",
            "\n",
            "Jimmy connors tennis\n",
            "Super play action football\n",
            "\n",
            "Cross system trades are fine.\n",
            "\n",
            "Cheers\n",
            "Marc\n",
            "\n",
            " ------------------------------------------------------------------------------\n",
            "      **     **      *  ****** ***    *   |             On the net,\n",
            "     ** *    **     *** **     ** *   *   |     no-one can hear you scream!\n",
            "    **   *   **     *** ****   **  *  *   |------------------------------------\n",
            "   **     *  **     *** **     **   * *   |  email   marc@comp.lancs.ac.uk\n",
            "  **       * ******  *  ****** **    **   |      marc@computing.lancaster.ac.uk\n",
            "-----------------------------------------------------------------------------------\n",
            "\n",
            "\n",
            "\n",
            "-------------- documento con indice:5061 ----------------------------\n",
            "-------------- similaridad coseno: 0.1770 ----------------------------\n",
            "-------------- etiqueta: sci.space ----------------------------\n",
            "Looking for a VIDEO in and OUT Video card for the IBM.  One that will\n",
            "allow you to watch TV (coax) or video IN, and will do Video out,\n",
            "digitize pictures.  and if I am in Windows, and would like to be able to\n",
            "look the RCA out for the card to my TV and have it display on there, as\n",
            "well as DOS apps.\n",
            "\n",
            "I heard of these SNES and Genesis copiers, that will copy any games, are\n",
            "those for real?\n",
            "                                                                                                                            \n",
            "-----------------------------------------------------------------------------------\n",
            "\n",
            "\n",
            "\n",
            "-------------- documento con indice:9382 ----------------------------\n",
            "-------------- similaridad coseno: 0.1708 ----------------------------\n",
            "-------------- etiqueta: talk.politics.guns ----------------------------\n",
            "Forsale:\n",
            "Nintendo control Deck with two controllers and gun, one controller has\n",
            "grips attached. \n",
            "the NES will only connect to a composite monitor or TV with audio and\n",
            "video RCA Input jacks and needs some repairs. \n",
            "25$ or best offer\n",
            "\n",
            "games for sale \n",
            "15$  Tecmo Baseball\n",
            "15$  Techmo Bowl\n",
            "15$  Double Dribble\n",
            "15$  Wayne Gretzky Hockey\n",
            "15$  Golf\n",
            "10$  Super Mario/Duck Hunt\n",
            "15$  Super Mario II\n",
            "20$  Super Mario III\n",
            "15$  Teenage Mutant Ninja Turtles the Arcade game\n",
            "15$  MegaMan 3\n",
            "10$  Toobin'\n",
            "10$  Spelunker\n",
            "25$  Tecmo Super Bowl\n",
            "============\n",
            "175$ total, I'll give all of them to you for the best offer and throw\n",
            "in the control deck...\n",
            "\n",
            "I'll also accept the best offer for each of the games individually.\n",
            "\n",
            "the oldest of these is two years old, most of them are less than a year old.\n",
            "\n",
            "Email at tligman@andy.bgsu.edu\n",
            "Phone at 1 (419) 372-5954\n",
            "\n",
            "-----------------------------------------------------------------------------------\n",
            "\n",
            "\n",
            "\n"
          ]
        },
        {
          "output_type": "execute_result",
          "data": {
            "text/plain": [
              "array([ 1624,  4896,   525, 10109,  5061,  9382])"
            ]
          },
          "metadata": {},
          "execution_count": 24
        }
      ]
    },
    {
      "cell_type": "markdown",
      "source": [
        "### **Análisis documento con indice 1624**\n",
        "Es un anuncio donde se comenta que se dispones de juegos de SNES para venta o intercambio.\n",
        "\n",
        "* El documento con indice **4896** tambien es un anuncion para vender o intercambiar juegos. Se obserba que usan la misma frase \"sale or trade\", ademas del \"Cheers\" al final de ambos documentos\n",
        "* El documento con indice **525** Es un anuncio de un dispositivo para clonar juegos, realizar guardado de partidas, modificar la reproduccion del juego, entre otras funciones. Se observa que el termino Genesis y game es comun en mabos documentos. Tambien resaltar que a pesar de tener un coeficiente de similaridad bastante bajo y que los documentos tienen diferentes equetas, se mantiene una relacion tematica, ya que ambos documentos hablan acerca de videojuegos\n",
        "* El documento con indice **10109** es tambien un anuncio para vender o intercambiar juegos. Los terminos similares en este caso son genesis y games. Este documento tambien tiene una etiqueta diferente al documento de analisis\n",
        "* El documento con indice **5061** Este no es un anuncio de compra venta de videojuegos, sino una consulta por una tarjeta de video para un computador IBM, la persona menciona copiadores de SNES y Genesis como opcion, por lo que la mencion de estos terminos le permitio al algoritmo identificar una relacion.\n",
        "* El documento con indice **9382** es un anuncio para la venta de juego de nintendo. este documento guarda mayor relacion senantica con el documento de analisis aunque no se usan tantos terminos en comun.\n",
        "\n",
        "### **Conclusión**\n",
        "Todos los documentos mantienen una relacion semantica salvo un con el que no se guarda tanta relacion pero si se mencionan elementos en comun. En todos ellos el elemento en comun es Genesis o SNES."
      ],
      "metadata": {
        "id": "4Zgrb7Mynzcl"
      }
    },
    {
      "cell_type": "code",
      "source": [
        "most_similar(4445, X_train, y_train, True)"
      ],
      "metadata": {
        "colab": {
          "base_uri": "https://localhost:8080/"
        },
        "id": "Cpn1PnSMQUTd",
        "outputId": "7af4d50f-0b1b-44fe-dd20-ff3a24a3778e"
      },
      "execution_count": 25,
      "outputs": [
        {
          "output_type": "stream",
          "name": "stdout",
          "text": [
            "=========== Documento de análisis ===========\n",
            "----- indice: 4445 ------- etiqueta: rec.autos---------\n",
            "Are there any Honda groups out there?  Especially ones that deal with\n",
            "Preludes?\n",
            "=============================================\n",
            "\n",
            "\n",
            "\n",
            "-------------- documento con indice:4445 ----------------------------\n",
            "-------------- similaridad coseno: 1.0000 ----------------------------\n",
            "-------------- etiqueta: rec.autos ----------------------------\n",
            "Are there any Honda groups out there?  Especially ones that deal with\n",
            "Preludes?\n",
            "-----------------------------------------------------------------------------------\n",
            "\n",
            "\n",
            "\n",
            "-------------- documento con indice:6228 ----------------------------\n",
            "-------------- similaridad coseno: 0.2291 ----------------------------\n",
            "-------------- etiqueta: comp.sys.mac.hardware ----------------------------\n",
            "\n",
            "It's there.....\n",
            "-----------------------------------------------------------------------------------\n",
            "\n",
            "\n",
            "\n",
            "-------------- documento con indice:6175 ----------------------------\n",
            "-------------- similaridad coseno: 0.2048 ----------------------------\n",
            "-------------- etiqueta: comp.sys.mac.hardware ----------------------------\n",
            "\n",
            "\n",
            "\n",
            "The Honda ST1100 was designed by Honda in Germany, originally for the \n",
            "European market, as competition for the BMW 'K' series.  Check it out.\n",
            "\n",
            "Tony\n",
            "-----------------------------------------------------------------------------------\n",
            "\n",
            "\n",
            "\n",
            "-------------- documento con indice:2923 ----------------------------\n",
            "-------------- similaridad coseno: 0.1787 ----------------------------\n",
            "-------------- etiqueta: comp.graphics ----------------------------\n",
            "\n",
            "Hmmmmm you know this happened to me also.\n",
            "I am not sure what caused it.  I think there might have been\n",
            "a system error and dumped windows.  I came back and all was well\n",
            "except no groups. Program Manager was EMPTY.  All the .grp files were\n",
            "in the directory.  I had to remake the groups with the new and group\n",
            "selection.  ALL THE ICONS AND FILES INSIDE THE GROUPS WERE STILL THERE\n",
            "AND WORKING FINE.  Just the groups had gone out of program manager.\n",
            "\n",
            "Strange !!!!\n",
            "C-ya..... /\\/\\artin\n",
            "\n",
            "-----------------------------------------------------------------------------------\n",
            "\n",
            "\n",
            "\n",
            "-------------- documento con indice:1525 ----------------------------\n",
            "-------------- similaridad coseno: 0.1688 ----------------------------\n",
            "-------------- etiqueta: sci.space ----------------------------\n",
            "\n",
            "Get Norton Desktop.  Put groups within groups, groups on the desktop, icons\n",
            "on the desktop, etc.\n",
            "\n",
            "-----------------------------------------------------------------------------------\n",
            "\n",
            "\n",
            "\n",
            "-------------- documento con indice:2529 ----------------------------\n",
            "-------------- similaridad coseno: 0.1652 ----------------------------\n",
            "-------------- etiqueta: talk.politics.guns ----------------------------\n",
            "Does anyone out there know of any ftp sites which deal with \n",
            "electronics projects, plans, etc?  Any response appreciated.:)\n",
            "JB\n",
            "-----------------------------------------------------------------------------------\n",
            "\n",
            "\n",
            "\n"
          ]
        },
        {
          "output_type": "execute_result",
          "data": {
            "text/plain": [
              "array([4445, 6228, 6175, 2923, 1525, 2529])"
            ]
          },
          "metadata": {},
          "execution_count": 25
        }
      ]
    },
    {
      "cell_type": "markdown",
      "source": [
        "### **Análisis documento con indice 4445**\n",
        "Este documento es una pregunta corta donde se consulta por un grupo sobre Honda y hace enfasis en los relacionados con el modelo de automovil Prelude de Honda.\n",
        "\n",
        "\n",
        "* El documento con indice **6228** es una respuesta corta \"It's there.....\". En esta ocasion la relacion que guardan estos documento es el uso del termino \"there\" al principio de ambos, pero al ser este un documento tan corto no tiene un trasfondo con el que puedan relacionar. Ademas las etiquetas de ambos documentos son distintas\n",
        "* El documento con indice **6175** Es un dato informativo sobre el un modelo de auto Honda. En mabos documentos se usa el termino HONDA.\n",
        "* El documento con indice **2923** Es una respuesta a lo que parece ser un error en un sistema operativo. Este documento no solo esta etiquetado con un valor diferente al documento de analisis sino que no guarda una relacion semantica con el documento.\n",
        "* El documento con indice **1525** parece ser un anuncio que promocia el programa Norton Desktop. la etiqueta es diferente al documento de analisis, ademas este documento guarda mas relacion semantica con el documento con indice 2923 que con el documento de analisis\n",
        "* El documento con indice **2529** es una consulta sobre sitios para intercambiar archivos. tampoco guarada relacion semantica con el documento de analisis. A pesar de que en este documento hay terminos en comun con el documento de analisis como \"there\" este documento tiene un menor coeficiente de similaridad. Posiblemente el menor coeficiente de similaridad se deba a que este documento es mas extenso que los anteriores.\n",
        "\n",
        "### **Conclusión**\n",
        "Los documentos con una longitud baja tiene una dificultad para relacionarse con otros documentos. Los coeficientes de similaridad de todos los documentos fueron menores a 0.3 y las relaciones semanticas entre la mayoria de documentos no es muy alta y en algunos casos nula.\n",
        "\n",
        "\n"
      ],
      "metadata": {
        "id": "vIPcx5Yo2K8b"
      }
    },
    {
      "cell_type": "code",
      "source": [
        "most_similar(780, X_train, y_train, True)"
      ],
      "metadata": {
        "colab": {
          "base_uri": "https://localhost:8080/"
        },
        "id": "aBpCKsGbQURN",
        "outputId": "23f55964-359a-47ae-9a56-2d8231808c68"
      },
      "execution_count": 26,
      "outputs": [
        {
          "output_type": "stream",
          "name": "stdout",
          "text": [
            "=========== Documento de análisis ===========\n",
            "----- indice: 780 ------- etiqueta: rec.sport.baseball---------\n",
            "\n",
            "too bad he doesn't bring the ability to hit, pitch, field or run.\n",
            "=============================================\n",
            "\n",
            "\n",
            "\n",
            "-------------- documento con indice:780 ----------------------------\n",
            "-------------- similaridad coseno: 1.0000 ----------------------------\n",
            "-------------- etiqueta: rec.autos ----------------------------\n",
            "\n",
            "too bad he doesn't bring the ability to hit, pitch, field or run.\n",
            "-----------------------------------------------------------------------------------\n",
            "\n",
            "\n",
            "\n",
            "-------------- documento con indice:6690 ----------------------------\n",
            "-------------- similaridad coseno: 0.2843 ----------------------------\n",
            "-------------- etiqueta: comp.sys.mac.hardware ----------------------------\n",
            "\n",
            "I remember one he hit circa 1976 at Wrigley Field that went across\n",
            "the street (in dead center field) and hit a house on the roof.  He\n",
            "whiffed a lot, but when he *did* connect, watch out!\n",
            "\n",
            "\n",
            "\n",
            "\n",
            "-- \n",
            "\n",
            "#include <std_disclaimer.h>\n",
            "-----------------------------------------------------------------------------------\n",
            "\n",
            "\n",
            "\n",
            "-------------- documento con indice:4226 ----------------------------\n",
            "-------------- similaridad coseno: 0.2552 ----------------------------\n",
            "-------------- etiqueta: comp.sys.mac.hardware ----------------------------\n",
            "} >I'd have to say the most impressive HRs I've ever see came from Dave Kingman\n",
            "} >and his infamous moon-raker drives...\n",
            "} \n",
            "} I remember one he hit circa 1976 at Wrigley Field that went across\n",
            "} the street (in dead center field) and hit a house on the roof.  He\n",
            "} whiffed a lot, but when he *did* connect, watch out!\n",
            "\n",
            "the best home run i have *ever* seen came off, believe it or not,\n",
            "Roger Clemens (sorry, Val) a couple of years ago. he threw a ball to\n",
            "Incaviglia which was literally at Inky's neck, and he absolutely \n",
            "hammered the crap out of it. after the swing, Clemens nonchalantly\n",
            "motioned for a new ball--he didn't even turn around to look, or\n",
            "even get upset. the ball hit the lights in the left-field standard,\n",
            "some 70 or so feet about the Green Monster (over 100 feet above the\n",
            "ground total!)\n",
            "\n",
            "truly an amazing shot.\n",
            "-----------------------------------------------------------------------------------\n",
            "\n",
            "\n",
            "\n",
            "-------------- documento con indice:4461 ----------------------------\n",
            "-------------- similaridad coseno: 0.2455 ----------------------------\n",
            "-------------- etiqueta: comp.graphics ----------------------------\n",
            ": I think Dean got hit by a pitched ball the other night... he got pinch hit for\n",
            ": and didn't play against Baltimore tonight... whats up with that? Is he hurt?\n",
            ": Please tell me he's not...\n",
            "\n",
            "He evidentally got hit in the elbow by a Fernando pitch.  His arm swelled\n",
            "from the elbow to the wrist (or something like that).  They took X-rays\n",
            "of the arm and there is nothing damaged.  He missed the last game with the\n",
            "Orioles, but he is suppose to be ready for the next game.\n",
            "\n",
            "Hope this helps.\n",
            "-----------------------------------------------------------------------------------\n",
            "\n",
            "\n",
            "\n",
            "-------------- documento con indice:1316 ----------------------------\n",
            "-------------- similaridad coseno: 0.2234 ----------------------------\n",
            "-------------- etiqueta: sci.space ----------------------------\n",
            "Darryl Strawberry's moon shots were fun!  He can hit those high and far\n",
            "home runs that if he actually ran them out he'd be rounding second base\n",
            "by the time they landed.  We used to say that he should have to file a\n",
            "flight plan at LaGuardia for some of them.  Then _Bull_Durham_ came out\n",
            "and that was changed.  :-)\n",
            "\n",
            "On homers he pulled that didn't go high, they were microwave home runs.\n",
            "Microwave, as in they got outta there in a hurry!  In a game in 1988, he\n",
            "came off the bench with the flu and on the second pitch send a rocket\n",
            "down the right field line that didn't even allow Bob Murphy the \"luxury\"\n",
            "of a home run call.  The story went he stayed in the clubhouse, the with\n",
            "the Mets down by two and two on Davey Johnson sent for him to pinch hit.\n",
            "He came out of the clubhouse saying \"one swing and we go home.\"  He hit\n",
            "the homer, ran the bases, then went straight for the clubhouse to shower\n",
            "and go home.\n",
            "\n",
            "Those were the days....\n",
            "-----------------------------------------------------------------------------------\n",
            "\n",
            "\n",
            "\n",
            "-------------- documento con indice:3318 ----------------------------\n",
            "-------------- similaridad coseno: 0.2042 ----------------------------\n",
            "-------------- etiqueta: talk.politics.guns ----------------------------\n",
            "\n",
            "All they said on the radio that he developed stiffness in the shoulder\n",
            "after throwing a curveball that didn't loosen.  Because of the cold\n",
            "night in Denver they decided to remove him from the game rather than\n",
            "let him pitch.  He is expected to pitch his next turn in the rotation\n",
            "(expected to be April 20, at Shea vs the Giants).\n",
            "-----------------------------------------------------------------------------------\n",
            "\n",
            "\n",
            "\n"
          ]
        },
        {
          "output_type": "execute_result",
          "data": {
            "text/plain": [
              "array([ 780, 6690, 4226, 4461, 1316, 3318])"
            ]
          },
          "metadata": {},
          "execution_count": 26
        }
      ]
    },
    {
      "cell_type": "markdown",
      "source": [
        "### **Análisis documento con indice 780**\n",
        "El documento parce ser un titlo que critica la habilidad de una persona para realizar movimientos de baseball. La etiqueta de este texto no parece guardar relacion con el documento.\n",
        "\n",
        "* El documento con indice **6690** Este documento es una narracion de una jugada de baseball, comparte terminos en comun con el documento de analisis. La etiqueta del texto y el pie de pagina indican que el documento enrealidad es un error de salida, pero se tomara la primera porcion del texto para el analisis. Aunque el documento habla de forma positiva sobre la jugada, contrario al documento de analisis, este guarda una relacion semantica alta.\n",
        "* El documento con indice **4226** es una nararacion de las mejores jugadas de un basebolista. El documento presenta terminos en comun con el documento de analisis como \"Hit\" o \"run\". a pesar de la corta longitud del documento de analisis ambos documento mantienen cierta relacion ya que ambos hablan a cerca del baseball\n",
        "* El documento con indice **4461** es un breve reporte informal sobre una lesión sufrida por un jugador (Dean), quien fue golpeado por un lanzamiento en el codo. El texto proporciona detalles sobre la lesión, su evaluación médica (radiografías) y la expectativa de recuperación.\n",
        "* El documento con indice **1316** es una narración nostálgica y positiva que resalta sus capacidades como bateador, en especial sus famosos jonrones. Describe tanto los \"moon shots\" (batazos altísimos y largos) como los \"microwave home runs\" (jonrones rápidos y potentes), incluyendo una anécdota detallada de un juego de 1988. El tono es elogioso y entusiasta.\n",
        "* El documento con indice **3318** es un breve informe informativo sobre un lanzador que fue retirado de un juego debido a molestias físicas. La causa se atribuye al clima frío en Denver y al intento fallido de soltar el brazo tras lanzar una curva. Se indica que no se trata de una lesión grave y que se espera que lance en su próxima aparición programada.\n",
        "\n",
        "### **Conclusión**\n",
        "A pesar de la corta longitud del documento de analisis los documentos obtuvieron valores de coeficientes de similaridad menores 0.3. Sin embargo todos mantenian una relacion semantica ligera ya que todos hablaban de alguna forma sobre baseball. Posiblemente el uso de terminologias del deporte permitio mantener una relacion entre los documentos."
      ],
      "metadata": {
        "id": "F8rn5nzP2YSO"
      }
    },
    {
      "cell_type": "markdown",
      "metadata": {
        "id": "zRoNnKwhBqzq"
      },
      "source": [
        "## 2. Modelo de clasificación Naïve Bayes"
      ]
    },
    {
      "cell_type": "markdown",
      "source": [
        "### MultinomialNB"
      ],
      "metadata": {
        "id": "5FXuD_0le04k"
      }
    },
    {
      "cell_type": "code",
      "source": [
        "!wandb login 3b049773b9eb61e83a004b84e1e119cbd7969746"
      ],
      "metadata": {
        "colab": {
          "base_uri": "https://localhost:8080/"
        },
        "id": "9_GQEJzoWSXR",
        "outputId": "43aee955-1784-4688-bd20-44c8b524e141"
      },
      "execution_count": 39,
      "outputs": [
        {
          "output_type": "stream",
          "name": "stdout",
          "text": [
            "\u001b[34m\u001b[1mwandb\u001b[0m: No netrc file found, creating one.\n",
            "\u001b[34m\u001b[1mwandb\u001b[0m: Appending key for api.wandb.ai to your netrc file: /root/.netrc\n",
            "\u001b[34m\u001b[1mwandb\u001b[0m: W&B API key is configured. Use \u001b[1m`wandb login --relogin`\u001b[0m to force relogin\n"
          ]
        }
      ]
    },
    {
      "cell_type": "code",
      "source": [
        "from sklearn.model_selection import GridSearchCV\n",
        "from sklearn.naive_bayes import MultinomialNB\n",
        "\n",
        "# Definir el clasificador base\n",
        "nb = MultinomialNB()\n",
        "\n",
        "# Definir la grilla de hiperparámetros a evaluar\n",
        "param_grid = {\n",
        "    'alpha': [0.1, 0.5, 1.0, 2.0, 5.0],\n",
        "    'fit_prior': [True, False]\n",
        "}\n",
        "\n",
        "# Crear el GridSearchCV\n",
        "grid_search = GridSearchCV(estimator=nb, param_grid=param_grid, cv=5, scoring='f1_macro')\n",
        "\n",
        "# Ajustar a los datos\n",
        "grid_search.fit(X_train, y_train)\n",
        "\n",
        "# Mostrar los mejores parámetros\n",
        "print(\"Mejores hiperparámetros:\", grid_search.best_params_)\n",
        "\n",
        "# Usar el mejor modelo\n",
        "best_model = grid_search.best_estimator_\n"
      ],
      "metadata": {
        "colab": {
          "base_uri": "https://localhost:8080/"
        },
        "id": "YjpDdWyMT_lI",
        "outputId": "57875d60-2949-44c7-f003-505ea07d8e6b"
      },
      "execution_count": 41,
      "outputs": [
        {
          "output_type": "stream",
          "name": "stdout",
          "text": [
            "Mejores hiperparámetros: {'alpha': 0.1, 'fit_prior': False}\n"
          ]
        }
      ]
    },
    {
      "cell_type": "code",
      "source": [
        "import wandb\n",
        "from sklearn.feature_extraction.text import TfidfVectorizer\n",
        "from sklearn.naive_bayes import MultinomialNB\n",
        "from sklearn.metrics import f1_score\n",
        "\n",
        "# Inicializa wandb con un nombre de proyecto\n",
        "wandb.init(project=\"pnl_desafio_1\", name=\"run-tfidf-mnb\")\n",
        "\n",
        "# Define hiperparámetros\n",
        "config = wandb.config\n",
        "config.min_df = 3\n",
        "config.stop_words = 'english'\n",
        "config.norm = 'l2'\n",
        "config.sublinear_tf = False\n",
        "config.alpha = 0.1\n",
        "config.fit_prior = False\n",
        "\n",
        "# Vectorización\n",
        "tfidfvect_2 = TfidfVectorizer(\n",
        "    min_df=config.min_df,\n",
        "    stop_words=config.stop_words,\n",
        "    norm=config.norm,\n",
        "    sublinear_tf=config.sublinear_tf\n",
        ")\n",
        "X_train = tfidfvect_2.fit_transform(newsgroups_train.data)\n",
        "\n",
        "# Modelo\n",
        "clf = MultinomialNB(alpha=config.alpha, fit_prior=config.fit_prior)\n",
        "clf.fit(X_train, y_train)\n",
        "\n",
        "# Predicciones\n",
        "X_test = tfidfvect_2.transform(newsgroups_test.data)\n",
        "y_test = newsgroups_test.target\n",
        "y_pred = clf.predict(X_test)\n",
        "\n",
        "# Evaluación\n",
        "f1 = f1_score(y_test, y_pred, average='macro')\n",
        "\n",
        "# Registro de métricas\n",
        "wandb.log({\"f1_macro\": f1})\n"
      ],
      "metadata": {
        "colab": {
          "base_uri": "https://localhost:8080/",
          "height": 421
        },
        "id": "Fl6qeyCXV9Ax",
        "outputId": "5dce6be1-a05a-435d-8cbb-6555c8283452"
      },
      "execution_count": 64,
      "outputs": [
        {
          "output_type": "display_data",
          "data": {
            "text/plain": [
              "<IPython.core.display.HTML object>"
            ],
            "text/html": [
              "Finishing previous runs because reinit is set to 'default'."
            ]
          },
          "metadata": {}
        },
        {
          "output_type": "display_data",
          "data": {
            "text/plain": [
              "<IPython.core.display.HTML object>"
            ],
            "text/html": []
          },
          "metadata": {}
        },
        {
          "output_type": "display_data",
          "data": {
            "text/plain": [
              "<IPython.core.display.HTML object>"
            ],
            "text/html": [
              "<br>    <style><br>        .wandb-row {<br>            display: flex;<br>            flex-direction: row;<br>            flex-wrap: wrap;<br>            justify-content: flex-start;<br>            width: 100%;<br>        }<br>        .wandb-col {<br>            display: flex;<br>            flex-direction: column;<br>            flex-basis: 100%;<br>            flex: 1;<br>            padding: 10px;<br>        }<br>    </style><br><div class=\"wandb-row\"><div class=\"wandb-col\"><h3>Run history:</h3><br/><table class=\"wandb\"><tr><td>f1_macro</td><td>▁</td></tr></table><br/></div><div class=\"wandb-col\"><h3>Run summary:</h3><br/><table class=\"wandb\"><tr><td>f1_macro</td><td>0.68847</td></tr></table><br/></div></div>"
            ]
          },
          "metadata": {}
        },
        {
          "output_type": "display_data",
          "data": {
            "text/plain": [
              "<IPython.core.display.HTML object>"
            ],
            "text/html": [
              " View run <strong style=\"color:#cdcd00\">run-tfidf-mnb</strong> at: <a href='https://wandb.ai/maanmuri-marck/pnl_desafio_1/runs/i5hi4vgo' target=\"_blank\">https://wandb.ai/maanmuri-marck/pnl_desafio_1/runs/i5hi4vgo</a><br> View project at: <a href='https://wandb.ai/maanmuri-marck/pnl_desafio_1' target=\"_blank\">https://wandb.ai/maanmuri-marck/pnl_desafio_1</a><br>Synced 5 W&B file(s), 0 media file(s), 0 artifact file(s) and 0 other file(s)"
            ]
          },
          "metadata": {}
        },
        {
          "output_type": "display_data",
          "data": {
            "text/plain": [
              "<IPython.core.display.HTML object>"
            ],
            "text/html": [
              "Find logs at: <code>./wandb/run-20250708_050908-i5hi4vgo/logs</code>"
            ]
          },
          "metadata": {}
        },
        {
          "output_type": "display_data",
          "data": {
            "text/plain": [
              "<IPython.core.display.HTML object>"
            ],
            "text/html": [
              "Tracking run with wandb version 0.20.1"
            ]
          },
          "metadata": {}
        },
        {
          "output_type": "display_data",
          "data": {
            "text/plain": [
              "<IPython.core.display.HTML object>"
            ],
            "text/html": [
              "Run data is saved locally in <code>/content/wandb/run-20250708_050919-sb597jy0</code>"
            ]
          },
          "metadata": {}
        },
        {
          "output_type": "display_data",
          "data": {
            "text/plain": [
              "<IPython.core.display.HTML object>"
            ],
            "text/html": [
              "Syncing run <strong><a href='https://wandb.ai/maanmuri-marck/pnl_desafio_1/runs/sb597jy0' target=\"_blank\">run-tfidf-mnb</a></strong> to <a href='https://wandb.ai/maanmuri-marck/pnl_desafio_1' target=\"_blank\">Weights & Biases</a> (<a href='https://wandb.me/developer-guide' target=\"_blank\">docs</a>)<br>"
            ]
          },
          "metadata": {}
        },
        {
          "output_type": "display_data",
          "data": {
            "text/plain": [
              "<IPython.core.display.HTML object>"
            ],
            "text/html": [
              " View project at <a href='https://wandb.ai/maanmuri-marck/pnl_desafio_1' target=\"_blank\">https://wandb.ai/maanmuri-marck/pnl_desafio_1</a>"
            ]
          },
          "metadata": {}
        },
        {
          "output_type": "display_data",
          "data": {
            "text/plain": [
              "<IPython.core.display.HTML object>"
            ],
            "text/html": [
              " View run at <a href='https://wandb.ai/maanmuri-marck/pnl_desafio_1/runs/sb597jy0' target=\"_blank\">https://wandb.ai/maanmuri-marck/pnl_desafio_1/runs/sb597jy0</a>"
            ]
          },
          "metadata": {}
        }
      ]
    },
    {
      "cell_type": "markdown",
      "source": [
        "### ComplementNB\n"
      ],
      "metadata": {
        "id": "s4CuXoAOXnYK"
      }
    },
    {
      "cell_type": "code",
      "source": [
        "import wandb\n",
        "from sklearn.feature_extraction.text import TfidfVectorizer\n",
        "from sklearn.naive_bayes import MultinomialNB\n",
        "from sklearn.metrics import f1_score\n",
        "\n",
        "# Inicializa wandb con un nombre de proyecto\n",
        "wandb.init(project=\"pnl_desafio_1_complement\", name=\"run-tfidf-mnb\")\n",
        "\n",
        "# Define hiperparámetros\n",
        "config = wandb.config\n",
        "config.max_df = 0.95\n",
        "config.min_df = 3\n",
        "config.norm = 'l2'\n",
        "config.sublinear_tf = True\n",
        "\n",
        "# Vectorización\n",
        "tfidfvect_2 = TfidfVectorizer(\n",
        "    max_df=config.max_df,\n",
        "    min_df=config.min_df,\n",
        "    norm=config.norm,\n",
        "    sublinear_tf=config.sublinear_tf\n",
        ")\n",
        "X_train = tfidfvect_2.fit_transform(newsgroups_train.data)\n",
        "\n",
        "# Modelo\n",
        "clf = ComplementNB()\n",
        "clf.fit(X_train, y_train)\n",
        "\n",
        "# Predicciones\n",
        "X_test = tfidfvect_2.transform(newsgroups_test.data)\n",
        "y_test = newsgroups_test.target\n",
        "y_pred = clf.predict(X_test)\n",
        "\n",
        "# Evaluación\n",
        "f1 = f1_score(y_test, y_pred, average='macro')\n",
        "\n",
        "# Registro de métricas\n",
        "wandb.log({\"f1_macro\": f1})\n"
      ],
      "metadata": {
        "colab": {
          "base_uri": "https://localhost:8080/",
          "height": 421
        },
        "id": "DzoV6LiNctYL",
        "outputId": "6fce1876-bded-45ce-fab5-4707f443cde5"
      },
      "execution_count": 75,
      "outputs": [
        {
          "output_type": "display_data",
          "data": {
            "text/plain": [
              "<IPython.core.display.HTML object>"
            ],
            "text/html": [
              "Finishing previous runs because reinit is set to 'default'."
            ]
          },
          "metadata": {}
        },
        {
          "output_type": "display_data",
          "data": {
            "text/plain": [
              "<IPython.core.display.HTML object>"
            ],
            "text/html": []
          },
          "metadata": {}
        },
        {
          "output_type": "display_data",
          "data": {
            "text/plain": [
              "<IPython.core.display.HTML object>"
            ],
            "text/html": [
              "<br>    <style><br>        .wandb-row {<br>            display: flex;<br>            flex-direction: row;<br>            flex-wrap: wrap;<br>            justify-content: flex-start;<br>            width: 100%;<br>        }<br>        .wandb-col {<br>            display: flex;<br>            flex-direction: column;<br>            flex-basis: 100%;<br>            flex: 1;<br>            padding: 10px;<br>        }<br>    </style><br><div class=\"wandb-row\"><div class=\"wandb-col\"><h3>Run history:</h3><br/><table class=\"wandb\"><tr><td>f1_macro</td><td>▁</td></tr></table><br/></div><div class=\"wandb-col\"><h3>Run summary:</h3><br/><table class=\"wandb\"><tr><td>f1_macro</td><td>0.6907</td></tr></table><br/></div></div>"
            ]
          },
          "metadata": {}
        },
        {
          "output_type": "display_data",
          "data": {
            "text/plain": [
              "<IPython.core.display.HTML object>"
            ],
            "text/html": [
              " View run <strong style=\"color:#cdcd00\">run-tfidf-mnb</strong> at: <a href='https://wandb.ai/maanmuri-marck/pnl_desafio_1_complement/runs/ha6ldtp7' target=\"_blank\">https://wandb.ai/maanmuri-marck/pnl_desafio_1_complement/runs/ha6ldtp7</a><br> View project at: <a href='https://wandb.ai/maanmuri-marck/pnl_desafio_1_complement' target=\"_blank\">https://wandb.ai/maanmuri-marck/pnl_desafio_1_complement</a><br>Synced 5 W&B file(s), 0 media file(s), 0 artifact file(s) and 0 other file(s)"
            ]
          },
          "metadata": {}
        },
        {
          "output_type": "display_data",
          "data": {
            "text/plain": [
              "<IPython.core.display.HTML object>"
            ],
            "text/html": [
              "Find logs at: <code>./wandb/run-20250708_052207-ha6ldtp7/logs</code>"
            ]
          },
          "metadata": {}
        },
        {
          "output_type": "display_data",
          "data": {
            "text/plain": [
              "<IPython.core.display.HTML object>"
            ],
            "text/html": [
              "Tracking run with wandb version 0.20.1"
            ]
          },
          "metadata": {}
        },
        {
          "output_type": "display_data",
          "data": {
            "text/plain": [
              "<IPython.core.display.HTML object>"
            ],
            "text/html": [
              "Run data is saved locally in <code>/content/wandb/run-20250708_052305-oadt9xd3</code>"
            ]
          },
          "metadata": {}
        },
        {
          "output_type": "display_data",
          "data": {
            "text/plain": [
              "<IPython.core.display.HTML object>"
            ],
            "text/html": [
              "Syncing run <strong><a href='https://wandb.ai/maanmuri-marck/pnl_desafio_1_complement/runs/oadt9xd3' target=\"_blank\">run-tfidf-mnb</a></strong> to <a href='https://wandb.ai/maanmuri-marck/pnl_desafio_1_complement' target=\"_blank\">Weights & Biases</a> (<a href='https://wandb.me/developer-guide' target=\"_blank\">docs</a>)<br>"
            ]
          },
          "metadata": {}
        },
        {
          "output_type": "display_data",
          "data": {
            "text/plain": [
              "<IPython.core.display.HTML object>"
            ],
            "text/html": [
              " View project at <a href='https://wandb.ai/maanmuri-marck/pnl_desafio_1_complement' target=\"_blank\">https://wandb.ai/maanmuri-marck/pnl_desafio_1_complement</a>"
            ]
          },
          "metadata": {}
        },
        {
          "output_type": "display_data",
          "data": {
            "text/plain": [
              "<IPython.core.display.HTML object>"
            ],
            "text/html": [
              " View run at <a href='https://wandb.ai/maanmuri-marck/pnl_desafio_1_complement/runs/oadt9xd3' target=\"_blank\">https://wandb.ai/maanmuri-marck/pnl_desafio_1_complement/runs/oadt9xd3</a>"
            ]
          },
          "metadata": {}
        }
      ]
    },
    {
      "cell_type": "markdown",
      "source": [
        "## 3. Terminos similares"
      ],
      "metadata": {
        "id": "LJ4jxNMTh5mA"
      }
    },
    {
      "cell_type": "code",
      "source": [
        "def most_similar_word(termino, index2word_voc, doc_vectorizados, target_arr, imprimir_doc_sim):\n",
        "  \"\"\"\n",
        "  Muestra los documentos más similares a un documento dado utilizando la similitud coseno.\n",
        "\n",
        "  Este método imprime el contenido del documento de análisis (según el índice dado) y luego\n",
        "  muestra los 5 documentos más similares de un conjunto de documentos vectorizados.\n",
        "  La similitud se mide mediante la similitud coseno.\n",
        "\n",
        "  Args:\n",
        "      indice (int): Índice del documento que se va a analizar.\n",
        "      doc_vectorizados (array-like): Matriz de documentos vectorizados (solo usando TF-IDF).\n",
        "      imprimir_doc_sim (bool): Si es True, imprime el contenido completo de los documentos similares;\n",
        "                                si es False, solo muestra los índices y la puntuación de similitud.\n",
        "\n",
        "  Returns:\n",
        "      list[int]: Lista con los índices de los documentos más similares (ordenados de mayor a menor similitud).\n",
        "  \"\"\"\n",
        "  indice = tfidfvect.vocabulary_[termino]\n",
        "  print(\"\")\n",
        "  print(f\"=========== Termino de análisis: {termino} - Indice: {indice} ===========\")\n",
        "  print(\"\")\n",
        "\n",
        "  # midamos la similaridad coseno con todos los documentos de train\n",
        "  cosine_sim_arr = cosine_similarity(doc_vectorizados[indice], doc_vectorizados)[0]\n",
        "  most_sim_indices = np.sort(cosine_sim_arr)[::-1][0:6]\n",
        "  most_sim_arr = np.argsort(cosine_sim_arr)[::-1][0:6]\n",
        "\n",
        "  if (imprimir_doc_sim):\n",
        "    for i in range(len(most_sim_indices)):\n",
        "      print(f\"Termino: {index2word_voc[most_sim_arr[i]]} - Indice:{most_sim_arr[i]} - Similaridad coseno: {most_sim_indices[i]:.4f}\")\n",
        "  else:\n",
        "    for i in range(len(most_sim_indices)):\n",
        "      print(f\"Termino con indice:{most_sim_arr[i]} - similaridad coseno: {most_sim_indices[i]:.4f}\")\n",
        "\n",
        "  return most_sim_arr"
      ],
      "metadata": {
        "id": "aTD4LYzVwcbj"
      },
      "execution_count": 34,
      "outputs": []
    },
    {
      "cell_type": "code",
      "source": [
        "X_train = tfidfvect.fit_transform(newsgroups_train.data)\n",
        "X_train_transposed = X_train.transpose()\n",
        "y_train = newsgroups_train.target\n",
        "y_train[:10]\n"
      ],
      "metadata": {
        "colab": {
          "base_uri": "https://localhost:8080/"
        },
        "id": "_Bn6Y173mdvT",
        "outputId": "24e450df-af52-4b38-9bf1-2fd2e8f46858"
      },
      "execution_count": 35,
      "outputs": [
        {
          "output_type": "execute_result",
          "data": {
            "text/plain": [
              "array([ 7,  4,  4,  1, 14, 16, 13,  3,  2,  4])"
            ]
          },
          "metadata": {},
          "execution_count": 35
        }
      ]
    },
    {
      "cell_type": "code",
      "source": [
        "# cossim = cosine_similarity(X_train[idx], X_train)[0]\n",
        "X_train_transposed[0]"
      ],
      "metadata": {
        "colab": {
          "base_uri": "https://localhost:8080/"
        },
        "id": "cUXxjhOgh8Zn",
        "outputId": "68ab241a-2ee7-492c-cea7-32ef21e312d8"
      },
      "execution_count": 36,
      "outputs": [
        {
          "output_type": "execute_result",
          "data": {
            "text/plain": [
              "<Compressed Sparse Column sparse matrix of dtype 'float64'\n",
              "\twith 243 stored elements and shape (1, 11314)>"
            ]
          },
          "metadata": {},
          "execution_count": 36
        }
      ]
    },
    {
      "cell_type": "code",
      "source": [
        "idx2word = {v: k for k,v in tfidfvect.vocabulary_.items()}"
      ],
      "metadata": {
        "id": "wP93JqczzBJ9"
      },
      "execution_count": 37,
      "outputs": []
    },
    {
      "cell_type": "code",
      "source": [
        "most_similar_word('hit', idx2word, X_train_transposed, y_train, True)\n",
        "most_similar_word('game', idx2word, X_train_transposed, y_train, True)\n",
        "most_similar_word('thanks', idx2word, X_train_transposed, y_train, True)\n",
        "most_similar_word('car', idx2word, X_train_transposed, y_train, True)\n",
        "most_similar_word('card', idx2word, X_train_transposed, y_train, True)\n"
      ],
      "metadata": {
        "colab": {
          "base_uri": "https://localhost:8080/"
        },
        "id": "xUbdMZxah8Wd",
        "outputId": "dce7bcd9-b9f9-4ab6-ee99-964a41e32149"
      },
      "execution_count": 38,
      "outputs": [
        {
          "output_type": "stream",
          "name": "stdout",
          "text": [
            "\n",
            "=========== Termino de análisis: hit - Indice: 46816 ===========\n",
            "\n",
            "Termino: hit - Indice:46816 - Similaridad coseno: 1.0000\n",
            "Termino: whiffed - Indice:96456 - Similaridad coseno: 0.2402\n",
            "Termino: pinch - Indice:71472 - Similaridad coseno: 0.2142\n",
            "Termino: field - Indice:40224 - Similaridad coseno: 0.2142\n",
            "Termino: richmond - Indice:78331 - Similaridad coseno: 0.2065\n",
            "Termino: klesko - Indice:54520 - Similaridad coseno: 0.2057\n",
            "\n",
            "=========== Termino de análisis: game - Indice: 42595 ===========\n",
            "\n",
            "Termino: game - Indice:42595 - Similaridad coseno: 1.0000\n",
            "Termino: games - Indice:42606 - Similaridad coseno: 0.2116\n",
            "Termino: espn - Indice:37954 - Similaridad coseno: 0.1935\n",
            "Termino: hockey - Indice:47021 - Similaridad coseno: 0.1806\n",
            "Termino: team - Indice:87968 - Similaridad coseno: 0.1786\n",
            "Termino: scored - Indice:81000 - Similaridad coseno: 0.1707\n",
            "\n",
            "=========== Termino de análisis: thanks - Indice: 88509 ===========\n",
            "\n",
            "Termino: thanks - Indice:88509 - Similaridad coseno: 1.0000\n",
            "Termino: advance - Indice:17006 - Similaridad coseno: 0.3890\n",
            "Termino: anyone - Indice:18915 - Similaridad coseno: 0.2748\n",
            "Termino: please - Indice:71850 - Similaridad coseno: 0.2677\n",
            "Termino: for - Indice:41127 - Similaridad coseno: 0.2636\n",
            "Termino: any - Indice:18903 - Similaridad coseno: 0.2603\n",
            "\n",
            "=========== Termino de análisis: car - Indice: 25775 ===========\n",
            "\n",
            "Termino: car - Indice:25775 - Similaridad coseno: 1.0000\n",
            "Termino: cars - Indice:25921 - Similaridad coseno: 0.1797\n",
            "Termino: criterium - Indice:30533 - Similaridad coseno: 0.1770\n",
            "Termino: civic - Indice:27562 - Similaridad coseno: 0.1748\n",
            "Termino: owner - Indice:69218 - Similaridad coseno: 0.1689\n",
            "Termino: dealer - Indice:32150 - Similaridad coseno: 0.1681\n",
            "\n",
            "=========== Termino de análisis: card - Indice: 25812 ===========\n",
            "\n",
            "Termino: card - Indice:25812 - Similaridad coseno: 1.0000\n",
            "Termino: video - Indice:94303 - Similaridad coseno: 0.3202\n",
            "Termino: ati - Indice:20191 - Similaridad coseno: 0.2329\n",
            "Termino: cards - Indice:25827 - Similaridad coseno: 0.2184\n",
            "Termino: vga - Indice:94220 - Similaridad coseno: 0.1969\n",
            "Termino: s3 - Indice:79911 - Similaridad coseno: 0.1951\n"
          ]
        },
        {
          "output_type": "execute_result",
          "data": {
            "text/plain": [
              "array([25812, 94303, 20191, 25827, 94220, 79911])"
            ]
          },
          "metadata": {},
          "execution_count": 38
        }
      ]
    },
    {
      "cell_type": "markdown",
      "source": [
        "### conclusion del punto 3\n",
        "\n",
        "Se puede obtener terminos con cierto grafdo de relacion. en ninguno de los ejemplos que se probo el valor de la similaridad supero el 0.3. Sin embargo los terminos presentaba cierta relacion entre ellos, esto posiblemente porque el aun guarden cierta corcodancia al ser usados de la misma manera a los largo de los documentos."
      ],
      "metadata": {
        "id": "qL65rmH32DSp"
      }
    }
  ],
  "metadata": {
    "colab": {
      "provenance": [],
      "toc_visible": true,
      "include_colab_link": true
    },
    "kernelspec": {
      "display_name": ".venv",
      "language": "python",
      "name": "python3"
    },
    "language_info": {
      "codemirror_mode": {
        "name": "ipython",
        "version": 3
      },
      "file_extension": ".py",
      "mimetype": "text/x-python",
      "name": "python",
      "nbconvert_exporter": "python",
      "pygments_lexer": "ipython3",
      "version": "3.12.3"
    }
  },
  "nbformat": 4,
  "nbformat_minor": 0
}
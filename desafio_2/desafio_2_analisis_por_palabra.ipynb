{
  "cells": [
    {
      "cell_type": "markdown",
      "metadata": {
        "id": "sZd5yLnnHOK0"
      },
      "source": [
        "<img src=\"https://github.com/hernancontigiani/ceia_memorias_especializacion/raw/master/Figures/logoFIUBA.jpg\" width=\"500\" align=\"center\">\n",
        "\n",
        "\n",
        "# Procesamiento de lenguaje natural\n",
        "## Custom embedddings con Gensim\n",
        "\n"
      ]
    },
    {
      "cell_type": "markdown",
      "metadata": {
        "id": "vA7nqkumo9z9"
      },
      "source": [
        "### Objetivo\n",
        "El objetivo es utilizar documentos / corpus para crear embeddings de palabras basado en ese contexto. Se utilizará canciones de bandas para generar los embeddings, es decir, que los vectores tendrán la forma en función de como esa banda haya utilizado las palabras en sus canciones."
      ]
    },
    {
      "cell_type": "code",
      "execution_count": 1,
      "metadata": {
        "colab": {
          "base_uri": "https://localhost:8080/",
          "height": 1000
        },
        "id": "CjHQBmrKvVNf",
        "outputId": "fc82726b-77da-4ed4-f56f-8f184ab2b7ab"
      },
      "outputs": [
        {
          "output_type": "stream",
          "name": "stdout",
          "text": [
            "Collecting gensim\n",
            "  Downloading gensim-4.3.3-cp311-cp311-manylinux_2_17_x86_64.manylinux2014_x86_64.whl.metadata (8.1 kB)\n",
            "Collecting numpy<2.0,>=1.18.5 (from gensim)\n",
            "  Downloading numpy-1.26.4-cp311-cp311-manylinux_2_17_x86_64.manylinux2014_x86_64.whl.metadata (61 kB)\n",
            "\u001b[2K     \u001b[90m━━━━━━━━━━━━━━━━━━━━━━━━━━━━━━━━━━━━━━━━\u001b[0m \u001b[32m61.0/61.0 kB\u001b[0m \u001b[31m1.3 MB/s\u001b[0m eta \u001b[36m0:00:00\u001b[0m\n",
            "\u001b[?25hCollecting scipy<1.14.0,>=1.7.0 (from gensim)\n",
            "  Downloading scipy-1.13.1-cp311-cp311-manylinux_2_17_x86_64.manylinux2014_x86_64.whl.metadata (60 kB)\n",
            "\u001b[2K     \u001b[90m━━━━━━━━━━━━━━━━━━━━━━━━━━━━━━━━━━━━━━━━\u001b[0m \u001b[32m60.6/60.6 kB\u001b[0m \u001b[31m1.1 MB/s\u001b[0m eta \u001b[36m0:00:00\u001b[0m\n",
            "\u001b[?25hRequirement already satisfied: smart-open>=1.8.1 in /usr/local/lib/python3.11/dist-packages (from gensim) (7.3.0.post1)\n",
            "Requirement already satisfied: wrapt in /usr/local/lib/python3.11/dist-packages (from smart-open>=1.8.1->gensim) (1.17.2)\n",
            "Downloading gensim-4.3.3-cp311-cp311-manylinux_2_17_x86_64.manylinux2014_x86_64.whl (26.7 MB)\n",
            "\u001b[2K   \u001b[90m━━━━━━━━━━━━━━━━━━━━━━━━━━━━━━━━━━━━━━━━\u001b[0m \u001b[32m26.7/26.7 MB\u001b[0m \u001b[31m14.8 MB/s\u001b[0m eta \u001b[36m0:00:00\u001b[0m\n",
            "\u001b[?25hDownloading numpy-1.26.4-cp311-cp311-manylinux_2_17_x86_64.manylinux2014_x86_64.whl (18.3 MB)\n",
            "\u001b[2K   \u001b[90m━━━━━━━━━━━━━━━━━━━━━━━━━━━━━━━━━━━━━━━━\u001b[0m \u001b[32m18.3/18.3 MB\u001b[0m \u001b[31m34.4 MB/s\u001b[0m eta \u001b[36m0:00:00\u001b[0m\n",
            "\u001b[?25hDownloading scipy-1.13.1-cp311-cp311-manylinux_2_17_x86_64.manylinux2014_x86_64.whl (38.6 MB)\n",
            "\u001b[2K   \u001b[90m━━━━━━━━━━━━━━━━━━━━━━━━━━━━━━━━━━━━━━━━\u001b[0m \u001b[32m38.6/38.6 MB\u001b[0m \u001b[31m12.7 MB/s\u001b[0m eta \u001b[36m0:00:00\u001b[0m\n",
            "\u001b[?25hInstalling collected packages: numpy, scipy, gensim\n",
            "  Attempting uninstall: numpy\n",
            "    Found existing installation: numpy 2.0.2\n",
            "    Uninstalling numpy-2.0.2:\n",
            "      Successfully uninstalled numpy-2.0.2\n",
            "  Attempting uninstall: scipy\n",
            "    Found existing installation: scipy 1.15.3\n",
            "    Uninstalling scipy-1.15.3:\n",
            "      Successfully uninstalled scipy-1.15.3\n",
            "\u001b[31mERROR: pip's dependency resolver does not currently take into account all the packages that are installed. This behaviour is the source of the following dependency conflicts.\n",
            "opencv-python-headless 4.12.0.88 requires numpy<2.3.0,>=2; python_version >= \"3.9\", but you have numpy 1.26.4 which is incompatible.\n",
            "thinc 8.3.6 requires numpy<3.0.0,>=2.0.0, but you have numpy 1.26.4 which is incompatible.\n",
            "tsfresh 0.21.0 requires scipy>=1.14.0; python_version >= \"3.10\", but you have scipy 1.13.1 which is incompatible.\u001b[0m\u001b[31m\n",
            "\u001b[0mSuccessfully installed gensim-4.3.3 numpy-1.26.4 scipy-1.13.1\n"
          ]
        },
        {
          "output_type": "display_data",
          "data": {
            "application/vnd.colab-display-data+json": {
              "pip_warning": {
                "packages": [
                  "numpy"
                ]
              },
              "id": "aa1bb098552a44f6ba2d2cfd5e7b74cc"
            }
          },
          "metadata": {}
        },
        {
          "output_type": "stream",
          "name": "stdout",
          "text": [
            "Requirement already satisfied: keras in /usr/local/lib/python3.11/dist-packages (3.8.0)\n",
            "Collecting keras\n",
            "  Downloading keras-3.10.0-py3-none-any.whl.metadata (6.0 kB)\n",
            "Requirement already satisfied: absl-py in /usr/local/lib/python3.11/dist-packages (from keras) (1.4.0)\n",
            "Requirement already satisfied: numpy in /usr/local/lib/python3.11/dist-packages (from keras) (1.26.4)\n",
            "Requirement already satisfied: rich in /usr/local/lib/python3.11/dist-packages (from keras) (13.9.4)\n",
            "Requirement already satisfied: namex in /usr/local/lib/python3.11/dist-packages (from keras) (0.1.0)\n",
            "Requirement already satisfied: h5py in /usr/local/lib/python3.11/dist-packages (from keras) (3.14.0)\n",
            "Requirement already satisfied: optree in /usr/local/lib/python3.11/dist-packages (from keras) (0.16.0)\n",
            "Requirement already satisfied: ml-dtypes in /usr/local/lib/python3.11/dist-packages (from keras) (0.4.1)\n",
            "Requirement already satisfied: packaging in /usr/local/lib/python3.11/dist-packages (from keras) (25.0)\n",
            "Requirement already satisfied: typing-extensions>=4.6.0 in /usr/local/lib/python3.11/dist-packages (from optree->keras) (4.14.1)\n",
            "Requirement already satisfied: markdown-it-py>=2.2.0 in /usr/local/lib/python3.11/dist-packages (from rich->keras) (3.0.0)\n",
            "Requirement already satisfied: pygments<3.0.0,>=2.13.0 in /usr/local/lib/python3.11/dist-packages (from rich->keras) (2.19.2)\n",
            "Requirement already satisfied: mdurl~=0.1 in /usr/local/lib/python3.11/dist-packages (from markdown-it-py>=2.2.0->rich->keras) (0.1.2)\n",
            "Downloading keras-3.10.0-py3-none-any.whl (1.4 MB)\n",
            "\u001b[2K   \u001b[90m━━━━━━━━━━━━━━━━━━━━━━━━━━━━━━━━━━━━━━━━\u001b[0m \u001b[32m1.4/1.4 MB\u001b[0m \u001b[31m6.9 MB/s\u001b[0m eta \u001b[36m0:00:00\u001b[0m\n",
            "\u001b[?25hInstalling collected packages: keras\n",
            "  Attempting uninstall: keras\n",
            "    Found existing installation: keras 3.8.0\n",
            "    Uninstalling keras-3.8.0:\n",
            "      Successfully uninstalled keras-3.8.0\n",
            "Successfully installed keras-3.10.0\n"
          ]
        }
      ],
      "source": [
        "%pip install gensim\n",
        "%pip install --upgrade keras"
      ]
    },
    {
      "cell_type": "code",
      "execution_count": 1,
      "metadata": {
        "id": "lFToQs5FK5uZ"
      },
      "outputs": [],
      "source": [
        "import pandas as pd\n",
        "import matplotlib.pyplot as plt\n",
        "import seaborn as sns\n",
        "import numpy as np\n",
        "import keras\n",
        "\n",
        "import multiprocessing\n",
        "from gensim.models import Word2Vec\n",
        "from nltk.corpus import stopwords"
      ]
    },
    {
      "cell_type": "markdown",
      "metadata": {
        "id": "g07zJxG7H9vG"
      },
      "source": [
        "### Datos\n",
        "Para este ejercicio se uso un conjunto de datos tabulares públicos del gobierno de colombia que recopila información de uso y composición de diversos productos usados en el ámbito medico."
      ]
    },
    {
      "cell_type": "code",
      "source": [
        "# Descargar la carpeta de dataset\n",
        "import os\n",
        "import platform\n",
        "if os.access('insumos_dataset.csv', os.F_OK) is False:\n",
        "  if platform.system() == 'Windows':\n",
        "      !curl https://www.datos.gov.co/api/views/gnaj-fjem/rows.csv -o insumos_dataset.csv\n",
        "  else:\n",
        "      !wget insumos_dataset.csv https://www.datos.gov.co/api/views/gnaj-fjem/rows.csv\n",
        "  # !unzip -q insumos_dataset.zip\n",
        "  !mv rows.csv insumos_dataset.csv\n",
        "else:\n",
        "    print(\"El dataset ya se encuentra descargado\")"
      ],
      "metadata": {
        "colab": {
          "base_uri": "https://localhost:8080/"
        },
        "id": "D5oBeNTEFTYl",
        "outputId": "357747d0-2015-40ae-a5b3-c7398e0e7fb2"
      },
      "execution_count": 2,
      "outputs": [
        {
          "output_type": "stream",
          "name": "stdout",
          "text": [
            "--2025-07-17 20:16:19--  http://insumos_dataset.csv/\n",
            "Resolving insumos_dataset.csv (insumos_dataset.csv)... failed: Name or service not known.\n",
            "wget: unable to resolve host address ‘insumos_dataset.csv’\n",
            "--2025-07-17 20:16:19--  https://www.datos.gov.co/api/views/gnaj-fjem/rows.csv\n",
            "Resolving www.datos.gov.co (www.datos.gov.co)... 52.206.68.26, 52.206.140.199, 52.206.140.205\n",
            "Connecting to www.datos.gov.co (www.datos.gov.co)|52.206.68.26|:443... connected.\n",
            "HTTP request sent, awaiting response... 200 OK\n",
            "Length: unspecified [text/csv]\n",
            "Saving to: ‘rows.csv’\n",
            "\n",
            "rows.csv                [   <=>              ] 655.09K   863KB/s    in 0.8s    \n",
            "\n",
            "2025-07-17 20:16:22 (863 KB/s) - ‘rows.csv’ saved [670810]\n",
            "\n",
            "FINISHED --2025-07-17 20:16:22--\n",
            "Total wall clock time: 2.5s\n",
            "Downloaded: 1 files, 655K in 0.8s (863 KB/s)\n"
          ]
        }
      ]
    },
    {
      "cell_type": "code",
      "source": [
        "df = pd.read_csv('insumos_dataset.csv')\n",
        "df.head()"
      ],
      "metadata": {
        "colab": {
          "base_uri": "https://localhost:8080/",
          "height": 590
        },
        "id": "-vrl5IL_Jysf",
        "outputId": "862a8c4b-cf7e-465d-ffc7-7be0dcaf3870"
      },
      "execution_count": 3,
      "outputs": [
        {
          "output_type": "execute_result",
          "data": {
            "text/plain": [
              "    AÑO # ACTA # RADICADO REQUIERE SI/NO  NUMERAL DEL ACTA  \\\n",
              "0  2007      3    7024456             NO               2.3   \n",
              "1  2007      5    7042264             SI               2.3   \n",
              "2  2007      5    7043552             SI               2.4   \n",
              "3  2008      1    7045482             SI               2.1   \n",
              "4  2008      1    7048345             SI               2.2   \n",
              "\n",
              "                                            PRODUCTO MARCA  \\\n",
              "0       PRODUCTOS TERAPÉUTICOS CON HIERBAS NATURALES   NaN   \n",
              "1                                          TAPABOCAS   NaN   \n",
              "2                                 DIOXIDO DE CARBONO   NaN   \n",
              "3  Lentes de contacto, lentes de contacto con fin...   NaN   \n",
              "4                                          TAPABOCAS   NaN   \n",
              "\n",
              "                               USO  \\\n",
              "0                              NaN   \n",
              "1     Uso en el ámbito asistencial   \n",
              "2                   CARBOXITERAPIA   \n",
              "3  Corrección de defectos visuales   \n",
              "4                 Uso hospitalario   \n",
              "\n",
              "                                            CONCEPTO CLASIFICACIÓN  \\\n",
              "0  Una vez evaluada la información allegada por e...           NaN   \n",
              "1  Una vez evaluada la información, la Sala Espec...           NaN   \n",
              "2  A concepto de la Sala, este equipo pertenece a...           III   \n",
              "3  La Sala Especializada de Dispositivos Médicos ...           NaN   \n",
              "4  La Sala Especializada de Dispositivos Médicos ...           NaN   \n",
              "\n",
              "                                     SOLICITANTE  \\\n",
              "0             SUBDIRECCIÓN DE REGISTROS - INVIMA   \n",
              "1             MINISTERIO DE LA PROTECCIÓN SOCIAL   \n",
              "2  SUBDIRECCIÓN DE REGISTRO SANITARIO DEL INVIMA   \n",
              "3              SUBDIRECCIÓN DE REGISTROS -INVIMA   \n",
              "4                            CARLOS DARIO ARENAS   \n",
              "\n",
              "                       VINCULO PARA CONSULTA DE ACTA  \n",
              "0  https://www.invima.gov.co/documents/20143/1425...  \n",
              "1  https://www.invima.gov.co/documents/20143/1425...  \n",
              "2  https://www.invima.gov.co/documents/20143/1425...  \n",
              "3  https://www.invima.gov.co/documents/20143/1425...  \n",
              "4  https://www.invima.gov.co/documents/20143/1425...  "
            ],
            "text/html": [
              "\n",
              "  <div id=\"df-8ae318ce-7b0d-4158-bdf3-22b1f2eaafeb\" class=\"colab-df-container\">\n",
              "    <div>\n",
              "<style scoped>\n",
              "    .dataframe tbody tr th:only-of-type {\n",
              "        vertical-align: middle;\n",
              "    }\n",
              "\n",
              "    .dataframe tbody tr th {\n",
              "        vertical-align: top;\n",
              "    }\n",
              "\n",
              "    .dataframe thead th {\n",
              "        text-align: right;\n",
              "    }\n",
              "</style>\n",
              "<table border=\"1\" class=\"dataframe\">\n",
              "  <thead>\n",
              "    <tr style=\"text-align: right;\">\n",
              "      <th></th>\n",
              "      <th>AÑO</th>\n",
              "      <th># ACTA</th>\n",
              "      <th># RADICADO</th>\n",
              "      <th>REQUIERE SI/NO</th>\n",
              "      <th>NUMERAL DEL ACTA</th>\n",
              "      <th>PRODUCTO</th>\n",
              "      <th>MARCA</th>\n",
              "      <th>USO</th>\n",
              "      <th>CONCEPTO</th>\n",
              "      <th>CLASIFICACIÓN</th>\n",
              "      <th>SOLICITANTE</th>\n",
              "      <th>VINCULO PARA CONSULTA DE ACTA</th>\n",
              "    </tr>\n",
              "  </thead>\n",
              "  <tbody>\n",
              "    <tr>\n",
              "      <th>0</th>\n",
              "      <td>2007</td>\n",
              "      <td>3</td>\n",
              "      <td>7024456</td>\n",
              "      <td>NO</td>\n",
              "      <td>2.3</td>\n",
              "      <td>PRODUCTOS TERAPÉUTICOS CON HIERBAS NATURALES</td>\n",
              "      <td>NaN</td>\n",
              "      <td>NaN</td>\n",
              "      <td>Una vez evaluada la información allegada por e...</td>\n",
              "      <td>NaN</td>\n",
              "      <td>SUBDIRECCIÓN DE REGISTROS - INVIMA</td>\n",
              "      <td>https://www.invima.gov.co/documents/20143/1425...</td>\n",
              "    </tr>\n",
              "    <tr>\n",
              "      <th>1</th>\n",
              "      <td>2007</td>\n",
              "      <td>5</td>\n",
              "      <td>7042264</td>\n",
              "      <td>SI</td>\n",
              "      <td>2.3</td>\n",
              "      <td>TAPABOCAS</td>\n",
              "      <td>NaN</td>\n",
              "      <td>Uso en el ámbito asistencial</td>\n",
              "      <td>Una vez evaluada la información, la Sala Espec...</td>\n",
              "      <td>NaN</td>\n",
              "      <td>MINISTERIO DE LA PROTECCIÓN SOCIAL</td>\n",
              "      <td>https://www.invima.gov.co/documents/20143/1425...</td>\n",
              "    </tr>\n",
              "    <tr>\n",
              "      <th>2</th>\n",
              "      <td>2007</td>\n",
              "      <td>5</td>\n",
              "      <td>7043552</td>\n",
              "      <td>SI</td>\n",
              "      <td>2.4</td>\n",
              "      <td>DIOXIDO DE CARBONO</td>\n",
              "      <td>NaN</td>\n",
              "      <td>CARBOXITERAPIA</td>\n",
              "      <td>A concepto de la Sala, este equipo pertenece a...</td>\n",
              "      <td>III</td>\n",
              "      <td>SUBDIRECCIÓN DE REGISTRO SANITARIO DEL INVIMA</td>\n",
              "      <td>https://www.invima.gov.co/documents/20143/1425...</td>\n",
              "    </tr>\n",
              "    <tr>\n",
              "      <th>3</th>\n",
              "      <td>2008</td>\n",
              "      <td>1</td>\n",
              "      <td>7045482</td>\n",
              "      <td>SI</td>\n",
              "      <td>2.1</td>\n",
              "      <td>Lentes de contacto, lentes de contacto con fin...</td>\n",
              "      <td>NaN</td>\n",
              "      <td>Corrección de defectos visuales</td>\n",
              "      <td>La Sala Especializada de Dispositivos Médicos ...</td>\n",
              "      <td>NaN</td>\n",
              "      <td>SUBDIRECCIÓN DE REGISTROS -INVIMA</td>\n",
              "      <td>https://www.invima.gov.co/documents/20143/1425...</td>\n",
              "    </tr>\n",
              "    <tr>\n",
              "      <th>4</th>\n",
              "      <td>2008</td>\n",
              "      <td>1</td>\n",
              "      <td>7048345</td>\n",
              "      <td>SI</td>\n",
              "      <td>2.2</td>\n",
              "      <td>TAPABOCAS</td>\n",
              "      <td>NaN</td>\n",
              "      <td>Uso hospitalario</td>\n",
              "      <td>La Sala Especializada de Dispositivos Médicos ...</td>\n",
              "      <td>NaN</td>\n",
              "      <td>CARLOS DARIO ARENAS</td>\n",
              "      <td>https://www.invima.gov.co/documents/20143/1425...</td>\n",
              "    </tr>\n",
              "  </tbody>\n",
              "</table>\n",
              "</div>\n",
              "    <div class=\"colab-df-buttons\">\n",
              "\n",
              "  <div class=\"colab-df-container\">\n",
              "    <button class=\"colab-df-convert\" onclick=\"convertToInteractive('df-8ae318ce-7b0d-4158-bdf3-22b1f2eaafeb')\"\n",
              "            title=\"Convert this dataframe to an interactive table.\"\n",
              "            style=\"display:none;\">\n",
              "\n",
              "  <svg xmlns=\"http://www.w3.org/2000/svg\" height=\"24px\" viewBox=\"0 -960 960 960\">\n",
              "    <path d=\"M120-120v-720h720v720H120Zm60-500h600v-160H180v160Zm220 220h160v-160H400v160Zm0 220h160v-160H400v160ZM180-400h160v-160H180v160Zm440 0h160v-160H620v160ZM180-180h160v-160H180v160Zm440 0h160v-160H620v160Z\"/>\n",
              "  </svg>\n",
              "    </button>\n",
              "\n",
              "  <style>\n",
              "    .colab-df-container {\n",
              "      display:flex;\n",
              "      gap: 12px;\n",
              "    }\n",
              "\n",
              "    .colab-df-convert {\n",
              "      background-color: #E8F0FE;\n",
              "      border: none;\n",
              "      border-radius: 50%;\n",
              "      cursor: pointer;\n",
              "      display: none;\n",
              "      fill: #1967D2;\n",
              "      height: 32px;\n",
              "      padding: 0 0 0 0;\n",
              "      width: 32px;\n",
              "    }\n",
              "\n",
              "    .colab-df-convert:hover {\n",
              "      background-color: #E2EBFA;\n",
              "      box-shadow: 0px 1px 2px rgba(60, 64, 67, 0.3), 0px 1px 3px 1px rgba(60, 64, 67, 0.15);\n",
              "      fill: #174EA6;\n",
              "    }\n",
              "\n",
              "    .colab-df-buttons div {\n",
              "      margin-bottom: 4px;\n",
              "    }\n",
              "\n",
              "    [theme=dark] .colab-df-convert {\n",
              "      background-color: #3B4455;\n",
              "      fill: #D2E3FC;\n",
              "    }\n",
              "\n",
              "    [theme=dark] .colab-df-convert:hover {\n",
              "      background-color: #434B5C;\n",
              "      box-shadow: 0px 1px 3px 1px rgba(0, 0, 0, 0.15);\n",
              "      filter: drop-shadow(0px 1px 2px rgba(0, 0, 0, 0.3));\n",
              "      fill: #FFFFFF;\n",
              "    }\n",
              "  </style>\n",
              "\n",
              "    <script>\n",
              "      const buttonEl =\n",
              "        document.querySelector('#df-8ae318ce-7b0d-4158-bdf3-22b1f2eaafeb button.colab-df-convert');\n",
              "      buttonEl.style.display =\n",
              "        google.colab.kernel.accessAllowed ? 'block' : 'none';\n",
              "\n",
              "      async function convertToInteractive(key) {\n",
              "        const element = document.querySelector('#df-8ae318ce-7b0d-4158-bdf3-22b1f2eaafeb');\n",
              "        const dataTable =\n",
              "          await google.colab.kernel.invokeFunction('convertToInteractive',\n",
              "                                                    [key], {});\n",
              "        if (!dataTable) return;\n",
              "\n",
              "        const docLinkHtml = 'Like what you see? Visit the ' +\n",
              "          '<a target=\"_blank\" href=https://colab.research.google.com/notebooks/data_table.ipynb>data table notebook</a>'\n",
              "          + ' to learn more about interactive tables.';\n",
              "        element.innerHTML = '';\n",
              "        dataTable['output_type'] = 'display_data';\n",
              "        await google.colab.output.renderOutput(dataTable, element);\n",
              "        const docLink = document.createElement('div');\n",
              "        docLink.innerHTML = docLinkHtml;\n",
              "        element.appendChild(docLink);\n",
              "      }\n",
              "    </script>\n",
              "  </div>\n",
              "\n",
              "\n",
              "    <div id=\"df-8962ff7c-7ef0-4405-9611-140d98739d4e\">\n",
              "      <button class=\"colab-df-quickchart\" onclick=\"quickchart('df-8962ff7c-7ef0-4405-9611-140d98739d4e')\"\n",
              "                title=\"Suggest charts\"\n",
              "                style=\"display:none;\">\n",
              "\n",
              "<svg xmlns=\"http://www.w3.org/2000/svg\" height=\"24px\"viewBox=\"0 0 24 24\"\n",
              "     width=\"24px\">\n",
              "    <g>\n",
              "        <path d=\"M19 3H5c-1.1 0-2 .9-2 2v14c0 1.1.9 2 2 2h14c1.1 0 2-.9 2-2V5c0-1.1-.9-2-2-2zM9 17H7v-7h2v7zm4 0h-2V7h2v10zm4 0h-2v-4h2v4z\"/>\n",
              "    </g>\n",
              "</svg>\n",
              "      </button>\n",
              "\n",
              "<style>\n",
              "  .colab-df-quickchart {\n",
              "      --bg-color: #E8F0FE;\n",
              "      --fill-color: #1967D2;\n",
              "      --hover-bg-color: #E2EBFA;\n",
              "      --hover-fill-color: #174EA6;\n",
              "      --disabled-fill-color: #AAA;\n",
              "      --disabled-bg-color: #DDD;\n",
              "  }\n",
              "\n",
              "  [theme=dark] .colab-df-quickchart {\n",
              "      --bg-color: #3B4455;\n",
              "      --fill-color: #D2E3FC;\n",
              "      --hover-bg-color: #434B5C;\n",
              "      --hover-fill-color: #FFFFFF;\n",
              "      --disabled-bg-color: #3B4455;\n",
              "      --disabled-fill-color: #666;\n",
              "  }\n",
              "\n",
              "  .colab-df-quickchart {\n",
              "    background-color: var(--bg-color);\n",
              "    border: none;\n",
              "    border-radius: 50%;\n",
              "    cursor: pointer;\n",
              "    display: none;\n",
              "    fill: var(--fill-color);\n",
              "    height: 32px;\n",
              "    padding: 0;\n",
              "    width: 32px;\n",
              "  }\n",
              "\n",
              "  .colab-df-quickchart:hover {\n",
              "    background-color: var(--hover-bg-color);\n",
              "    box-shadow: 0 1px 2px rgba(60, 64, 67, 0.3), 0 1px 3px 1px rgba(60, 64, 67, 0.15);\n",
              "    fill: var(--button-hover-fill-color);\n",
              "  }\n",
              "\n",
              "  .colab-df-quickchart-complete:disabled,\n",
              "  .colab-df-quickchart-complete:disabled:hover {\n",
              "    background-color: var(--disabled-bg-color);\n",
              "    fill: var(--disabled-fill-color);\n",
              "    box-shadow: none;\n",
              "  }\n",
              "\n",
              "  .colab-df-spinner {\n",
              "    border: 2px solid var(--fill-color);\n",
              "    border-color: transparent;\n",
              "    border-bottom-color: var(--fill-color);\n",
              "    animation:\n",
              "      spin 1s steps(1) infinite;\n",
              "  }\n",
              "\n",
              "  @keyframes spin {\n",
              "    0% {\n",
              "      border-color: transparent;\n",
              "      border-bottom-color: var(--fill-color);\n",
              "      border-left-color: var(--fill-color);\n",
              "    }\n",
              "    20% {\n",
              "      border-color: transparent;\n",
              "      border-left-color: var(--fill-color);\n",
              "      border-top-color: var(--fill-color);\n",
              "    }\n",
              "    30% {\n",
              "      border-color: transparent;\n",
              "      border-left-color: var(--fill-color);\n",
              "      border-top-color: var(--fill-color);\n",
              "      border-right-color: var(--fill-color);\n",
              "    }\n",
              "    40% {\n",
              "      border-color: transparent;\n",
              "      border-right-color: var(--fill-color);\n",
              "      border-top-color: var(--fill-color);\n",
              "    }\n",
              "    60% {\n",
              "      border-color: transparent;\n",
              "      border-right-color: var(--fill-color);\n",
              "    }\n",
              "    80% {\n",
              "      border-color: transparent;\n",
              "      border-right-color: var(--fill-color);\n",
              "      border-bottom-color: var(--fill-color);\n",
              "    }\n",
              "    90% {\n",
              "      border-color: transparent;\n",
              "      border-bottom-color: var(--fill-color);\n",
              "    }\n",
              "  }\n",
              "</style>\n",
              "\n",
              "      <script>\n",
              "        async function quickchart(key) {\n",
              "          const quickchartButtonEl =\n",
              "            document.querySelector('#' + key + ' button');\n",
              "          quickchartButtonEl.disabled = true;  // To prevent multiple clicks.\n",
              "          quickchartButtonEl.classList.add('colab-df-spinner');\n",
              "          try {\n",
              "            const charts = await google.colab.kernel.invokeFunction(\n",
              "                'suggestCharts', [key], {});\n",
              "          } catch (error) {\n",
              "            console.error('Error during call to suggestCharts:', error);\n",
              "          }\n",
              "          quickchartButtonEl.classList.remove('colab-df-spinner');\n",
              "          quickchartButtonEl.classList.add('colab-df-quickchart-complete');\n",
              "        }\n",
              "        (() => {\n",
              "          let quickchartButtonEl =\n",
              "            document.querySelector('#df-8962ff7c-7ef0-4405-9611-140d98739d4e button');\n",
              "          quickchartButtonEl.style.display =\n",
              "            google.colab.kernel.accessAllowed ? 'block' : 'none';\n",
              "        })();\n",
              "      </script>\n",
              "    </div>\n",
              "\n",
              "    </div>\n",
              "  </div>\n"
            ],
            "application/vnd.google.colaboratory.intrinsic+json": {
              "type": "dataframe",
              "variable_name": "df",
              "summary": "{\n  \"name\": \"df\",\n  \"rows\": 841,\n  \"fields\": [\n    {\n      \"column\": \"A\\u00d1O\",\n      \"properties\": {\n        \"dtype\": \"number\",\n        \"std\": 4,\n        \"min\": 2007,\n        \"max\": 2025,\n        \"num_unique_values\": 19,\n        \"samples\": [\n          2007,\n          2012,\n          2018\n        ],\n        \"semantic_type\": \"\",\n        \"description\": \"\"\n      }\n    },\n    {\n      \"column\": \"# ACTA\",\n      \"properties\": {\n        \"dtype\": \"category\",\n        \"num_unique_values\": 23,\n        \"samples\": [\n          \"19\",\n          \"7\",\n          \"3\"\n        ],\n        \"semantic_type\": \"\",\n        \"description\": \"\"\n      }\n    },\n    {\n      \"column\": \"# RADICADO\",\n      \"properties\": {\n        \"dtype\": \"category\",\n        \"num_unique_values\": 372,\n        \"samples\": [\n          \"2017136599 y expediente 20133978\",\n          \"9002558\",\n          \"8021092\"\n        ],\n        \"semantic_type\": \"\",\n        \"description\": \"\"\n      }\n    },\n    {\n      \"column\": \"REQUIERE SI/NO\",\n      \"properties\": {\n        \"dtype\": \"category\",\n        \"num_unique_values\": 3,\n        \"samples\": [\n          \"NO\",\n          \"SI\",\n          \"NO/LLAMADO REVISON OFICIO RS No. INVIMA 2019DM-0019710\"\n        ],\n        \"semantic_type\": \"\",\n        \"description\": \"\"\n      }\n    },\n    {\n      \"column\": \"NUMERAL DEL ACTA\",\n      \"properties\": {\n        \"dtype\": \"number\",\n        \"std\": 0.600572521896367,\n        \"min\": 2.1,\n        \"max\": 5.1,\n        \"num_unique_values\": 46,\n        \"samples\": [\n          3.26,\n          3.7,\n          3.18\n        ],\n        \"semantic_type\": \"\",\n        \"description\": \"\"\n      }\n    },\n    {\n      \"column\": \"PRODUCTO\",\n      \"properties\": {\n        \"dtype\": \"string\",\n        \"num_unique_values\": 745,\n        \"samples\": [\n          \"Gafas terminadas y listas para leer (Requieren formula por opt\\u00f3metra u oftalm\\u00f3logo para su venta)\",\n          \"PSI (PATIENT SPECIFIC IMPLANT)\",\n          \"Metro\"\n        ],\n        \"semantic_type\": \"\",\n        \"description\": \"\"\n      }\n    },\n    {\n      \"column\": \"MARCA\",\n      \"properties\": {\n        \"dtype\": \"category\",\n        \"num_unique_values\": 56,\n        \"samples\": [\n          \"SONY\",\n          \"OTOCLEAN\",\n          \"METAMORFOSIS DEL DIENTE. UN SISTEMA AVANZADO EN EL \\u00c1REA DE REGENERACI\\u00d3N DE LOS TEJIDOS. EN POCOS MINUTOS SIMPLEMENTE APRETANDO UN BOT\\u00d3N, UN DIENTE EXTRA\\u00cdDO SER\\u00c1 PROCESADO Y TRANSFORMADO EN UN MATERIAL DE INJERTO\"\n        ],\n        \"semantic_type\": \"\",\n        \"description\": \"\"\n      }\n    },\n    {\n      \"column\": \"USO\",\n      \"properties\": {\n        \"dtype\": \"category\",\n        \"num_unique_values\": 244,\n        \"samples\": [\n          \"Es un equipo automatizado para procesar muestras de tejido para examinarlas a trav\\u00e9s de m\\u00e9todos de fijaci\\u00f3n, deshidrataci\\u00f3n e infiltraci\\u00f3n, procesos necesarios para un correcto diagn\\u00f3stico.\",\n          \"Elementos que articulados son la base funcional y estructural de las Protesis\",\n          \"ES UN HILO PARA ENROSCAR SEGURO E HIGI\\u00c9NICO PARA PROTEGER LA PIEL DE ALERGIAS, INFECCIONES Y ERUPCIONES POR OTRO TIPO DE PROCESOS DE DEPILACI\\u00d3N PARA QUE LA PIEL SE VEA MAS BELLA. FABRICADO EN 100% ALGOD\\u00d3N DE LA MAS ALTA CALIDAD, EN M\\u00c1QUINAS DE \\u00daLTIMA GENERACI\\u00d3N Y CON MUY ALTA RESISTENCIA PARA ASEGURAR MENOS ROTURAS DURANTE EL PROCESO COMPLETO DE DEPILACI\\u00d3N; SIN EMBARGO EST\\u00c1N DISE\\u00d1ADOS PARA ROMPERSE SI SE APLICA DEMASIADO FUERZA EN LA PIEL PARA PROTEGER AL USUARIO. LA ESTRUCTURA UNIFORME DEL HILO LO ALISA SOBRE LA SUPERFICIE DE LA PIEL FACILITANDO EL PROCESO DE DEPILACI\\u00d3N CONOCIDO COMO \\\"TRATAMIENTO DE DEPILACI\\u00d3N DE LA INDIA\\\" QUE CORRESPONDE A LA DEPILACI\\u00d3N DE CEJAS, PARTE SUPERIOR DE LABIOS, CARA Y CUERPO EN DONDE SE ENCUENTRE VELLO FACIAL QUE SE DESEA RETIRAR DURANTE EL PROCESO. ES MUY SUAVE PARA LA PIEL DE LOS CLIENTES, NO SENTIR\\u00c1N DOLOR DURANTE LA DEPILACI\\u00d3N YA QUE ES MUY SUAVE Y GENTIL CON LA PIEL.\"\n        ],\n        \"semantic_type\": \"\",\n        \"description\": \"\"\n      }\n    },\n    {\n      \"column\": \"CONCEPTO\",\n      \"properties\": {\n        \"dtype\": \"string\",\n        \"num_unique_values\": 587,\n        \"samples\": [\n          \"Una vez analizada y evaluada la informaci\\u00f3n allegada, la Sala Especializada de\\nDispositivos M\\u00e9dicos y Reactivos de Diagn\\u00f3stico In Vitro, concept\\u00faa que de acuerdo \\ncon la definici\\u00f3n establecida en el Decreto 4725 de 2005, el producto  o SKINCLINIC INTIMA, no es \\nconsiderado un dispositivo m\\u00e9dico.  En este sentido, teniendo en cuenta que  se trata de una crema hidratante para aplicar en \\nla epidermis de losgenitales externos    y no en las  mucosas,  se recomienda que  este producto  nuevamente sea evaluado por la Direccion de Cosm\\u00e9ticos, \\nAseo, Plaguicidas y Productos Productos de Higiene Dom\\u00e9stica.\",\n          \"La Sala de Dispositivos M\\u00e9dicos y Otras Tecnolog\\u00edas, concept\\u00faa que el producto \\u201cAnalizador Digital para la Detecci\\u00f3n de Drogas\\u201d, no es considerado dispositivo m\\u00e9dico de acuerdo con el uso e indicaci\\u00f3n dados por el fabricante, por ende para su comercializaci\\u00f3n en el pa\\u00eds no requieren de registro sanitario\",\n          \"Una vez analizada y evaluada la informaci\\u00f3n allegada, la Sala Especializada de\\nDispositivos M\\u00e9dicos y Reactivos de Diagn\\u00f3stico In Vitro, concept\\u00faa que teniendo en cuenta la indicaci\\u00f3n de uso, el producto \\u201cSOLIDIFICADOR DE SANGRE Y FLUIDOS CORPORALES/ ABSORBENTE HIDROFILICO\\u201d Marca: SOLIDFLU\\u201d, es considerado un dispositivo m\\u00e9dico con riesgo I, de conformidad con lo establecido en la regla 1 del art\\u00edculo 7 del Decreto 4725 de 2005.\"\n        ],\n        \"semantic_type\": \"\",\n        \"description\": \"\"\n      }\n    },\n    {\n      \"column\": \"CLASIFICACI\\u00d3N\",\n      \"properties\": {\n        \"dtype\": \"category\",\n        \"num_unique_values\": 10,\n        \"samples\": [\n          \"IIB\",\n          \"I\",\n          \"Si no es para diagnostico no requiere tal como se especifica en el concepto\"\n        ],\n        \"semantic_type\": \"\",\n        \"description\": \"\"\n      }\n    },\n    {\n      \"column\": \"SOLICITANTE\",\n      \"properties\": {\n        \"dtype\": \"category\",\n        \"num_unique_values\": 111,\n        \"samples\": [\n          \"Elkin Hern\\u00e1n Ot\\u00e1lvaro Cifuentes\",\n          \"SUBDIRECCI\\u00d3N DE MEDICAMENTOS Y PRODUCTOS BIOL\\u00d3GICOS\",\n          \"CARLOS DARIO ARENAS\"\n        ],\n        \"semantic_type\": \"\",\n        \"description\": \"\"\n      }\n    },\n    {\n      \"column\": \"VINCULO PARA CONSULTA DE ACTA\",\n      \"properties\": {\n        \"dtype\": \"category\",\n        \"num_unique_values\": 153,\n        \"samples\": [\n          \"https://www.invima.gov.co/documents/20143/565603/ACTA_ABRIL_2018.pdf/8784303d-db61-27ed-3b8c-7a1076265126?t=1542724152950\",\n          \"https://www.invima.gov.co/documents/20143/565603/ACTA_JUNIO_2018.pdf/1e9706e5-8567-26b4-ea25-377c3ec682cc?t=1542724153836\",\n          \"https://www.invima.gov.co/documents/20143/1230864/ACTA+JUNIO+2019+final.pdf/8acc8b92-093d-631e-972c-5685b9912e87?t=1560456324069\"\n        ],\n        \"semantic_type\": \"\",\n        \"description\": \"\"\n      }\n    }\n  ]\n}"
            }
          },
          "metadata": {},
          "execution_count": 3
        }
      ]
    },
    {
      "cell_type": "code",
      "source": [
        "df[\"CONCEPTO\"]"
      ],
      "metadata": {
        "colab": {
          "base_uri": "https://localhost:8080/",
          "height": 458
        },
        "id": "Wo6J_81-Un5L",
        "outputId": "9b980677-aa19-451d-c989-3991471e4b3f"
      },
      "execution_count": 4,
      "outputs": [
        {
          "output_type": "execute_result",
          "data": {
            "text/plain": [
              "0      Una vez evaluada la información allegada por e...\n",
              "1      Una vez evaluada la información, la Sala Espec...\n",
              "2      A concepto de la Sala, este equipo pertenece a...\n",
              "3      La Sala Especializada de Dispositivos Médicos ...\n",
              "4      La Sala Especializada de Dispositivos Médicos ...\n",
              "                             ...                        \n",
              "836    Una vez revisada y evaluada la nueva justifica...\n",
              "837    Una vez revisada y evaluada la nueva justifica...\n",
              "838    Una vez analizada y evaluada la información al...\n",
              "839    ESTE SPRAY NASAL PROTECTOR ESTÁ DISEÑADO PARA ...\n",
              "840    Una vez analizada y evaluada la información al...\n",
              "Name: CONCEPTO, Length: 841, dtype: object"
            ],
            "text/html": [
              "<div>\n",
              "<style scoped>\n",
              "    .dataframe tbody tr th:only-of-type {\n",
              "        vertical-align: middle;\n",
              "    }\n",
              "\n",
              "    .dataframe tbody tr th {\n",
              "        vertical-align: top;\n",
              "    }\n",
              "\n",
              "    .dataframe thead th {\n",
              "        text-align: right;\n",
              "    }\n",
              "</style>\n",
              "<table border=\"1\" class=\"dataframe\">\n",
              "  <thead>\n",
              "    <tr style=\"text-align: right;\">\n",
              "      <th></th>\n",
              "      <th>CONCEPTO</th>\n",
              "    </tr>\n",
              "  </thead>\n",
              "  <tbody>\n",
              "    <tr>\n",
              "      <th>0</th>\n",
              "      <td>Una vez evaluada la información allegada por e...</td>\n",
              "    </tr>\n",
              "    <tr>\n",
              "      <th>1</th>\n",
              "      <td>Una vez evaluada la información, la Sala Espec...</td>\n",
              "    </tr>\n",
              "    <tr>\n",
              "      <th>2</th>\n",
              "      <td>A concepto de la Sala, este equipo pertenece a...</td>\n",
              "    </tr>\n",
              "    <tr>\n",
              "      <th>3</th>\n",
              "      <td>La Sala Especializada de Dispositivos Médicos ...</td>\n",
              "    </tr>\n",
              "    <tr>\n",
              "      <th>4</th>\n",
              "      <td>La Sala Especializada de Dispositivos Médicos ...</td>\n",
              "    </tr>\n",
              "    <tr>\n",
              "      <th>...</th>\n",
              "      <td>...</td>\n",
              "    </tr>\n",
              "    <tr>\n",
              "      <th>836</th>\n",
              "      <td>Una vez revisada y evaluada la nueva justifica...</td>\n",
              "    </tr>\n",
              "    <tr>\n",
              "      <th>837</th>\n",
              "      <td>Una vez revisada y evaluada la nueva justifica...</td>\n",
              "    </tr>\n",
              "    <tr>\n",
              "      <th>838</th>\n",
              "      <td>Una vez analizada y evaluada la información al...</td>\n",
              "    </tr>\n",
              "    <tr>\n",
              "      <th>839</th>\n",
              "      <td>ESTE SPRAY NASAL PROTECTOR ESTÁ DISEÑADO PARA ...</td>\n",
              "    </tr>\n",
              "    <tr>\n",
              "      <th>840</th>\n",
              "      <td>Una vez analizada y evaluada la información al...</td>\n",
              "    </tr>\n",
              "  </tbody>\n",
              "</table>\n",
              "<p>841 rows × 1 columns</p>\n",
              "</div><br><label><b>dtype:</b> object</label>"
            ]
          },
          "metadata": {},
          "execution_count": 4
        }
      ]
    },
    {
      "cell_type": "code",
      "execution_count": 5,
      "metadata": {
        "id": "LEpKubK9XzXN",
        "colab": {
          "base_uri": "https://localhost:8080/"
        },
        "outputId": "a7ec9e8e-6e4a-490e-9335-b546b867522e"
      },
      "outputs": [
        {
          "output_type": "stream",
          "name": "stdout",
          "text": [
            "Cantidad de documentos: 841\n"
          ]
        }
      ],
      "source": [
        "print(\"Cantidad de documentos:\", df.shape[0])"
      ]
    },
    {
      "cell_type": "markdown",
      "metadata": {
        "id": "ab94qaFlrA1G"
      },
      "source": [
        "### 1 - Preprocesamiento"
      ]
    },
    {
      "cell_type": "markdown",
      "source": [
        "Dado que este conjunto de datos corresponde a una tabla con varios parametros de los datos se decidio solo tomar uno de los campos para el analisis de texto.\n",
        "\n",
        "El campo escogido para el analisis de texto sera \"CONCEPTO\" ya que es el que posee valores con mayor longitud de palabras\n"
      ],
      "metadata": {
        "id": "Z9FT1VwzKbyF"
      }
    },
    {
      "cell_type": "code",
      "source": [
        "from tensorflow.keras.preprocessing.text import text_to_word_sequence\n",
        "\n",
        "\n",
        "sentence_tokens = []\n",
        "# Recorrer todas las filas y transformar las oraciones\n",
        "# en una secuencia de palabras (esto podría realizarse con NLTK o spaCy también)\n",
        "for row in df[\"CONCEPTO\"]:\n",
        "    sentence_tokens.append(text_to_word_sequence(str(row)))"
      ],
      "metadata": {
        "id": "xOosEu10J96t"
      },
      "execution_count": 6,
      "outputs": []
    },
    {
      "cell_type": "code",
      "execution_count": 7,
      "metadata": {
        "id": "CHepi_DGrbhq",
        "colab": {
          "base_uri": "https://localhost:8080/"
        },
        "outputId": "d168dac3-64b4-47f6-a4fe-3fda462905a7"
      },
      "outputs": [
        {
          "output_type": "execute_result",
          "data": {
            "text/plain": [
              "[['una',\n",
              "  'vez',\n",
              "  'evaluada',\n",
              "  'la',\n",
              "  'información',\n",
              "  'allegada',\n",
              "  'por',\n",
              "  'el',\n",
              "  'interesado',\n",
              "  'la',\n",
              "  'sala',\n",
              "  'especializada',\n",
              "  'de',\n",
              "  'dispositivos',\n",
              "  'médicos',\n",
              "  'y',\n",
              "  'productos',\n",
              "  'varios',\n",
              "  'de',\n",
              "  'la',\n",
              "  'comisión',\n",
              "  'revisora',\n",
              "  'del',\n",
              "  'invima',\n",
              "  'conceptúa',\n",
              "  'que',\n",
              "  'por',\n",
              "  'las',\n",
              "  'características',\n",
              "  'de',\n",
              "  'los',\n",
              "  'productos',\n",
              "  'suministradas',\n",
              "  'en',\n",
              "  'la',\n",
              "  'información',\n",
              "  'anexada',\n",
              "  'no',\n",
              "  'es',\n",
              "  'claro',\n",
              "  'que',\n",
              "  'se',\n",
              "  'traten',\n",
              "  'de',\n",
              "  'dispositivos',\n",
              "  'médicos',\n",
              "  'dado',\n",
              "  'que',\n",
              "  'el',\n",
              "  'diseño',\n",
              "  'de',\n",
              "  'los',\n",
              "  'productos',\n",
              "  'no',\n",
              "  'se',\n",
              "  'relaciona',\n",
              "  'con',\n",
              "  'las',\n",
              "  'indicaciones',\n",
              "  'o',\n",
              "  'beneficios',\n",
              "  'exagerados',\n",
              "  'de',\n",
              "  'los',\n",
              "  'mismos',\n",
              "  'tratamiento',\n",
              "  'del',\n",
              "  'mal',\n",
              "  'de',\n",
              "  'parkinson',\n",
              "  'otitis',\n",
              "  'entre',\n",
              "  'otros',\n",
              "  'por',\n",
              "  'lo',\n",
              "  'tanto',\n",
              "  'es',\n",
              "  'necesario',\n",
              "  'evaluar',\n",
              "  'si',\n",
              "  'esta',\n",
              "  'acción',\n",
              "  'es',\n",
              "  'debida',\n",
              "  'a',\n",
              "  'la',\n",
              "  'mezcla',\n",
              "  'de',\n",
              "  'hierbas',\n",
              "  'y',\n",
              "  'granos',\n",
              "  'razón',\n",
              "  'por',\n",
              "  'la',\n",
              "  'cual',\n",
              "  'se',\n",
              "  'enviará',\n",
              "  'la',\n",
              "  'consulta',\n",
              "  'a',\n",
              "  'la',\n",
              "  'sala',\n",
              "  'especializada',\n",
              "  'de',\n",
              "  'productos',\n",
              "  'naturales',\n",
              "  'de',\n",
              "  'la',\n",
              "  'comisión',\n",
              "  'revisora',\n",
              "  'del',\n",
              "  'invima'],\n",
              " ['una',\n",
              "  'vez',\n",
              "  'evaluada',\n",
              "  'la',\n",
              "  'información',\n",
              "  'la',\n",
              "  'sala',\n",
              "  'especializada',\n",
              "  'de',\n",
              "  'dispositivos',\n",
              "  'médicos',\n",
              "  'y',\n",
              "  'productos',\n",
              "  'varios',\n",
              "  'de',\n",
              "  'la',\n",
              "  'comisión',\n",
              "  'revisora',\n",
              "  'del',\n",
              "  'invima',\n",
              "  'considera',\n",
              "  'que',\n",
              "  'el',\n",
              "  'tapabocas',\n",
              "  'para',\n",
              "  'uso',\n",
              "  'en',\n",
              "  'el',\n",
              "  'ámbito',\n",
              "  'asistencial',\n",
              "  'debe',\n",
              "  'tener',\n",
              "  'registro',\n",
              "  'sanitario',\n",
              "  'de',\n",
              "  'conformidad',\n",
              "  'con',\n",
              "  'el',\n",
              "  'decreto',\n",
              "  '4725',\n",
              "  'de',\n",
              "  '2005']]"
            ]
          },
          "metadata": {},
          "execution_count": 7
        }
      ],
      "source": [
        "# Demos un vistazo\n",
        "sentence_tokens[:2]"
      ]
    },
    {
      "cell_type": "markdown",
      "metadata": {
        "id": "BaXV6nlHr5Aa"
      },
      "source": [
        "### 2 - Crear los vectores (word2vec)"
      ]
    },
    {
      "cell_type": "code",
      "execution_count": 8,
      "metadata": {
        "id": "OSb0v7h8r7hK"
      },
      "outputs": [],
      "source": [
        "from gensim.models.callbacks import CallbackAny2Vec\n",
        "# Durante el entrenamiento gensim por defecto no informa el \"loss\" en cada época\n",
        "# Sobrecargamos el callback para poder tener esta información\n",
        "class callback(CallbackAny2Vec):\n",
        "    \"\"\"\n",
        "    Callback to print loss after each epoch\n",
        "    \"\"\"\n",
        "    def __init__(self):\n",
        "        self.epoch = 0\n",
        "\n",
        "    def on_epoch_end(self, model):\n",
        "        loss = model.get_latest_training_loss()\n",
        "        if self.epoch == 0:\n",
        "            print('Loss after epoch {}: {}'.format(self.epoch, loss))\n",
        "        else:\n",
        "            print('Loss after epoch {}: {}'.format(self.epoch, loss- self.loss_previous_step))\n",
        "        self.epoch += 1\n",
        "        self.loss_previous_step = loss"
      ]
    },
    {
      "cell_type": "code",
      "execution_count": 49,
      "metadata": {
        "id": "i0wnDdv9sJ47"
      },
      "outputs": [],
      "source": [
        "# Crearmos el modelo generador de vectores\n",
        "# En este caso utilizaremos la estructura modelo Skipgram\n",
        "w2v_model = Word2Vec(min_count=2,    # frecuencia mínima de palabra para incluirla en el vocabulario\n",
        "                     window=6,       # cant de palabras antes y desp de la predicha\n",
        "                     vector_size=300,       # dimensionalidad de los vectores\n",
        "                     negative=20,    # cantidad de negative samples... 0 es no se usa\n",
        "                     workers=1,      # si tienen más cores pueden cambiar este valor\n",
        "                     sg=1)           # modelo 0:CBOW  1:skipgram"
      ]
    },
    {
      "cell_type": "markdown",
      "source": [
        "**NOTA:** Dado que se esta usando una representacion de tipo Skipgram se espera que los terminos que mas se relacionen entre si sean aquellos con los que comparten pares de palabras similares."
      ],
      "metadata": {
        "id": "HqGsnx2SgUj1"
      }
    },
    {
      "cell_type": "code",
      "source": [
        "# Crearmos el modelo generador de vectores\n",
        "# En este caso utilizaremos la estructura modelo Skipgram\n",
        "w2v_model = Word2Vec(min_count=2,    # frecuencia mínima de palabra para incluirla en el vocabulario\n",
        "                     window=6,       # cant de palabras antes y desp de la predicha\n",
        "                     vector_size=300,       # dimensionalidad de los vectores\n",
        "                     negative=20,    # cantidad de negative samples... 0 es no se usa\n",
        "                     workers=1,      # si tienen más cores pueden cambiar este valor\n",
        "                     sg=1)           # modelo 0:CBOW  1:skipgram"
      ],
      "metadata": {
        "id": "7VlUVfQKRvJ4"
      },
      "execution_count": 65,
      "outputs": []
    },
    {
      "cell_type": "code",
      "execution_count": 66,
      "metadata": {
        "id": "5lTt8wErsf17"
      },
      "outputs": [],
      "source": [
        "# Obtener el vocabulario con los tokens\n",
        "w2v_model.build_vocab(sentence_tokens)"
      ]
    },
    {
      "cell_type": "code",
      "execution_count": 11,
      "metadata": {
        "id": "TNc9qt4os5AT",
        "colab": {
          "base_uri": "https://localhost:8080/"
        },
        "outputId": "97edda78-462c-49e4-9627-c1d0ec17a0eb"
      },
      "outputs": [
        {
          "output_type": "stream",
          "name": "stdout",
          "text": [
            "Cantidad de docs en el corpus: 841\n"
          ]
        }
      ],
      "source": [
        "# Cantidad de filas/docs encontradas en el corpus\n",
        "print(\"Cantidad de docs en el corpus:\", w2v_model.corpus_count)"
      ]
    },
    {
      "cell_type": "code",
      "execution_count": 12,
      "metadata": {
        "id": "idw9cHF3tSMl",
        "colab": {
          "base_uri": "https://localhost:8080/"
        },
        "outputId": "5ab0a4cf-0ba5-4d6d-9388-1040ae50bdc0"
      },
      "outputs": [
        {
          "output_type": "stream",
          "name": "stdout",
          "text": [
            "Cantidad de words distintas en el corpus: 1470\n"
          ]
        }
      ],
      "source": [
        "# Cantidad de words encontradas en el corpus\n",
        "print(\"Cantidad de words distintas en el corpus:\", len(w2v_model.wv.index_to_key))"
      ]
    },
    {
      "cell_type": "markdown",
      "metadata": {
        "id": "fC9mZ8DPk-UC"
      },
      "source": [
        "### 3 - Entrenar embeddings"
      ]
    },
    {
      "cell_type": "code",
      "execution_count": 67,
      "metadata": {
        "id": "QSp-x0PAsq56",
        "colab": {
          "base_uri": "https://localhost:8080/"
        },
        "outputId": "e9a0bb87-d872-406f-a54d-3f7f51035213"
      },
      "outputs": [
        {
          "output_type": "stream",
          "name": "stdout",
          "text": [
            "Loss after epoch 0: 166769.421875\n",
            "Loss after epoch 1: 116346.796875\n",
            "Loss after epoch 2: 111050.4375\n",
            "Loss after epoch 3: 105236.71875\n",
            "Loss after epoch 4: 100292.0625\n",
            "Loss after epoch 5: 97922.5625\n",
            "Loss after epoch 6: 97145.875\n",
            "Loss after epoch 7: 95575.5625\n",
            "Loss after epoch 8: 93528.8125\n",
            "Loss after epoch 9: 89594.625\n",
            "Loss after epoch 10: 85470.0\n",
            "Loss after epoch 11: 83494.75\n",
            "Loss after epoch 12: 82039.375\n",
            "Loss after epoch 13: 80846.5\n",
            "Loss after epoch 14: 79947.125\n",
            "Loss after epoch 15: 79257.375\n",
            "Loss after epoch 16: 78401.0\n",
            "Loss after epoch 17: 77894.25\n",
            "Loss after epoch 18: 77509.375\n",
            "Loss after epoch 19: 77427.125\n"
          ]
        },
        {
          "output_type": "execute_result",
          "data": {
            "text/plain": [
              "(671132, 1230500)"
            ]
          },
          "metadata": {},
          "execution_count": 67
        }
      ],
      "source": [
        "# Entrenamos el modelo generador de vectores\n",
        "# Utilizamos nuestro callback\n",
        "w2v_model.train(sentence_tokens,\n",
        "                 total_examples=w2v_model.corpus_count,\n",
        "                 epochs=20,\n",
        "                 compute_loss = True,\n",
        "                 callbacks=[callback()]\n",
        "                 )"
      ]
    },
    {
      "cell_type": "markdown",
      "metadata": {
        "id": "ddT9NVuNlCAe"
      },
      "source": [
        "### 4 - Ensayar"
      ]
    },
    {
      "cell_type": "code",
      "source": [
        "w2v_model.wv.most_similar(positive=[\"bolsas\"], topn=10)\n"
      ],
      "metadata": {
        "colab": {
          "base_uri": "https://localhost:8080/"
        },
        "id": "4PsnGOLIR0VD",
        "outputId": "660d903f-b266-48c8-febb-3f63be77840e"
      },
      "execution_count": 63,
      "outputs": [
        {
          "output_type": "execute_result",
          "data": {
            "text/plain": [
              "[('decreto', 0.19958770275115967),\n",
              " ('existen', 0.18756063282489777),\n",
              " ('mist', 0.1815655529499054),\n",
              " ('mencionados', 0.17640122771263123),\n",
              " ('incluidas', 0.17574633657932281),\n",
              " ('aseo', 0.16610169410705566),\n",
              " ('específica', 0.1648564338684082),\n",
              " ('reactividad', 0.16014736890792847),\n",
              " ('andina', 0.15644484758377075),\n",
              " ('cie', 0.15510213375091553)]"
            ]
          },
          "metadata": {},
          "execution_count": 63
        }
      ]
    },
    {
      "cell_type": "code",
      "source": [
        "w2v_model.wv.most_similar(positive=[\"bolsas\"], topn=10)"
      ],
      "metadata": {
        "colab": {
          "base_uri": "https://localhost:8080/"
        },
        "id": "N5MlWsFHf_wT",
        "outputId": "3378667b-61ad-4020-ee66-4d3f489fb7c0"
      },
      "execution_count": 52,
      "outputs": [
        {
          "output_type": "execute_result",
          "data": {
            "text/plain": [
              "[('ostomías', 0.8601856827735901),\n",
              " ('utilizadas', 0.7724570035934448),\n",
              " ('catalogados', 0.7611569166183472),\n",
              " ('leche', 0.7497243881225586),\n",
              " ('balanzas', 0.745357096195221),\n",
              " ('fisiológico”', 0.7414872050285339),\n",
              " ('recolección', 0.7330653071403503),\n",
              " ('imágenes', 0.7330201864242554),\n",
              " ('materna”', 0.7326859831809998),\n",
              " ('manejo', 0.73073810338974)]"
            ]
          },
          "metadata": {},
          "execution_count": 52
        }
      ]
    },
    {
      "cell_type": "code",
      "execution_count": 20,
      "metadata": {
        "id": "6cHN9xGLuPEm",
        "colab": {
          "base_uri": "https://localhost:8080/"
        },
        "outputId": "6b68357c-fe5d-4411-e179-8bc2c2e17e17"
      },
      "outputs": [
        {
          "output_type": "execute_result",
          "data": {
            "text/plain": [
              "[('prácticas', 0.9221839308738708),\n",
              " ('buenas', 0.8666620850563049),\n",
              " ('bolsas', 0.8643099665641785),\n",
              " ('transporte', 0.849044919013977),\n",
              " ('ostomías', 0.848882257938385),\n",
              " ('organización', 0.8257121443748474),\n",
              " ('nivel', 0.8228573203086853),\n",
              " ('actividades', 0.8220196962356567),\n",
              " ('imágenes', 0.816458523273468),\n",
              " ('quemaduras', 0.8081095814704895)]"
            ]
          },
          "metadata": {},
          "execution_count": 20
        }
      ],
      "source": [
        "# Palabras que MÁS se relacionan con...:\n",
        "w2v_model.wv.most_similar(positive=[\"manufactura\"], topn=10)"
      ]
    },
    {
      "cell_type": "markdown",
      "source": [
        "Se observa que algunas de los terminos guardan una relación de emparejamiento. Los 3 primeros terminos listados son frecuentemente encontrados cerca del termino \"manufactura\". Un ejemplo es en oraciones como:\n",
        "\n",
        "* El cual debe contar con Buenas Prácticas de Manufactura\n",
        "\n",
        "\n",
        "**Nota:** El ejemplo fue extraido directamente del archivo"
      ],
      "metadata": {
        "id": "jEdzK5osfi55"
      }
    },
    {
      "cell_type": "code",
      "source": [
        "w2v_model.wv.most_similar(positive=[\"imágenes\"], topn=20)\n"
      ],
      "metadata": {
        "colab": {
          "base_uri": "https://localhost:8080/"
        },
        "id": "dw9YgReTf01P",
        "outputId": "c0e1cf83-eae4-48aa-ef26-d90a5502ef20"
      },
      "execution_count": 68,
      "outputs": [
        {
          "output_type": "execute_result",
          "data": {
            "text/plain": [
              "[('plaquetas', 0.9491131901741028),\n",
              " ('carillas', 0.9444553852081299),\n",
              " ('frasco', 0.9438620805740356),\n",
              " ('uñas', 0.9421066045761108),\n",
              " ('capilar', 0.9415808320045471),\n",
              " ('fijación', 0.9412669539451599),\n",
              " ('medir', 0.9392156600952148),\n",
              " ('piloso', 0.9382162094116211),\n",
              " ('labios', 0.9376094937324524),\n",
              " ('pantallas', 0.9329408407211304),\n",
              " ('coronas', 0.9328274130821228),\n",
              " ('puentes', 0.9322515726089478),\n",
              " ('diagnósticas', 0.9320552945137024),\n",
              " ('elaboración', 0.93086177110672),\n",
              " ('realizan', 0.9277847409248352),\n",
              " ('metabolismo', 0.9259480834007263),\n",
              " ('calor', 0.9250803589820862),\n",
              " ('suministran', 0.9249154329299927),\n",
              " ('conocidos', 0.924912691116333),\n",
              " ('adaptación', 0.9246619939804077)]"
            ]
          },
          "metadata": {},
          "execution_count": 68
        }
      ]
    },
    {
      "cell_type": "markdown",
      "source": [
        "Este termino lo tomé del ejemplo anterior esperando que aparciera \"manufactura\" como un termino relacionado, en su lugar aparecio \"elaboración\" que es un termino que guarda relacion semantica con \"manufactura\". El termino \"manufactura\" aparecio como decimo tercer valor mas relacionado\n",
        "\n",
        "En el corpus el termino \"imágenes\" se presentó en las siguientes oraciones:\n",
        "* Sistema de Digitalización de Imágenes Diagnósticas\n",
        "para reproducir o visualizar imágenes médicas, requerirán de registro sanitario,\n",
        "* para adquirir  rápidamente  imágenes  de  láminas  completas  con  un  microscopio\n",
        "* almacenamiento de las imágenes diagnosticas; el sistema de almacenamiento\n",
        "\n",
        "Notar que de los terminos relacionados enlistados ninguno aparace en estas oraciones"
      ],
      "metadata": {
        "id": "U-IERDktf_h4"
      }
    },
    {
      "cell_type": "code",
      "source": [
        "# Aquí se buscó los parrafos que contenieran la subcadena \"imágenes\"\n",
        "\n",
        "termino_imagenes_corpus = df[df['CONCEPTO'].str.contains('imágenes')].loc[:,['CONCEPTO']]\n",
        "\n",
        "for t in termino_imagenes_corpus['CONCEPTO']:\n",
        "  print(f'{t}\\n')"
      ],
      "metadata": {
        "colab": {
          "base_uri": "https://localhost:8080/"
        },
        "id": "4o_IjfJJEDZ1",
        "outputId": "e802b36d-c461-4b8a-f046-102e821ed803"
      },
      "execution_count": 26,
      "outputs": [
        {
          "output_type": "stream",
          "name": "stdout",
          "text": [
            "La Sala Especializada de Dispositivos Médicos y Productos Varios de la Comisión Revisora del INVIMA, considera que este es un sistema de apoyo para el almacenamiento de las imágenes diagnosticas; el sistema de almacenamiento no compromete el diagnostico final, razón por la cual ratificamos que este producto NO requiere Registro Sanitario.\n",
            "\n",
            "Esta Sala ratifica que los siguientes productos son considerados Dispositivos Médicos: Sistema de digitalización de imágenes diagnósticas\n",
            "\n",
            "La Sala de Dispositivos Médicos y Otras Tecnologías, conceptúa que de conformidad con la definición de dispositivo médico para uso en humanos, el producto en mención es considerado dispositivo médico, por cuanto, ayuda al Diagnóstico de una enfermedad o de una lesión. En este sentido, su clasificación de riesgo es IIA, teniendo presente la Regla de clasificación 10, así: “…Regla 10. Todos los dispositivos médicos activos con fines de diagnóstico se incluirán en la clase IIa…” Por lo tanto para su importación, comercialización y uso, las pantallas o monitores grado médico indicado para reproducir o visualizar imágenes médicas, requerirán de registro sanitario, para lo cual los fabricantes e importadores, dispondrán de un periodo de transitoriedad de 6 meses a partir de la fecha de publicación de la presente Acta, para la respectiva obtención del registro sanitario\n",
            "\n",
            "Una vez analizada y evaluada la información allegada, la Sala Especializada de Dispositivos Médicos y Reactivos de Diagnóstico In Vitro, conceptúa que ratifica el concepto proferido en el numeral 3.8 del Acta 12 de 2021, teniendo en cuenta la indicación de uso, para adquirir  rápidamente  imágenes  de  láminas  completas  con  un  microscopio  trinocular  y compartirlas,  el  producto Pathozoom  Scan  /  Sistema  de  escaneo  /  Pathozoom es considerado dispositivo médico con clasificación de riesgo I, de conformidad con la regla 12 del artículo 7 del Decreto 4725 de 2005. Por lo tanto, para ser utilizado y comercializado en Colombia debe solicitar el respectivo registro sanitario.\n",
            "\n"
          ]
        }
      ]
    },
    {
      "cell_type": "markdown",
      "source": [
        "### Evaluación de la aparacición de los terminos relacionados en el corpus\n",
        "Se solicito a chatgpt version 4o que aplicara negrita a los terminos mas relacionados en el resultado que se imprimió en la celda anterior, se obtuvo el siguiente resultado:\n",
        "\n",
        "\n",
        "Aquí tienes el texto formateado con las palabras clave en negrita:\n",
        "\n",
        "La Sala Especializada de Dispositivos Médicos y Productos Varios de la Comisión Revisora del INVIMA, considera que este es un sistema de apoyo para el almacenamiento de las imágenes diagnósticas; el sistema de almacenamiento no compromete el diagnóstico final, razón por la cual ratificamos que este producto NO requiere Registro Sanitario.\n",
        "\n",
        "Esta Sala ratifica que los siguientes productos son considerados Dispositivos Médicos: Sistema de digitalización de imágenes diagnósticas\n",
        "\n",
        "La Sala de Dispositivos Médicos y Otras Tecnologías, conceptúa que de conformidad con la definición de dispositivo médico para uso en humanos, el producto en mención es considerado dispositivo médico, por cuanto, ayuda al Diagnóstico de una enfermedad o de una lesión. En este sentido, su clasificación de riesgo es IIA, teniendo presente la Regla de clasificación 10, así: “…Regla 10. Todos los dispositivos médicos activos con fines de diagnóstico se incluirán en la clase IIa…” Por lo tanto para su importación, comercialización y uso, las pantallas o monitores grado médico indicado para reproducir o visualizar imágenes médicas, requerirán de registro sanitario, para lo cual los fabricantes e importadores, dispondrán de un periodo de transitoriedad de 6 meses a partir de la fecha de publicación de la presente Acta, para la respectiva obtención del registro sanitario.\n",
        "\n",
        "Una vez analizada y evaluada la información allegada, la Sala Especializada de Dispositivos Médicos y Reactivos de Diagnóstico In Vitro, conceptúa que ratifica el concepto proferido en el numeral 3.8 del Acta 12 de 2021, teniendo en cuenta la indicación de uso, para adquirir rápidamente imágenes de **láminas** completas con un microscopio trinocular y compartirlas, el producto Pathozoom Scan / Sistema de escaneo / Pathozoom es considerado dispositivo médico con clasificación de riesgo I, de conformidad con la regla 12 del artículo 7 del Decreto 4725 de 2005. Por lo tanto, para ser utilizado y comercializado en Colombia debe solicitar el respectivo registro sanitario.\n",
        "\n",
        "Las demás palabras que solicitaste como **recolección**, **bolsas**, **canalización**, **centrífugas**, **lavado**, **elaboración**, **transporte**, **pruebas**, **obtener**, **manejo**, **capacidad**, **manufactura**, **clínico**, **frío**, **líquido**, **procesadores**, **gestión**, **cirugía**, **banco**, no se encuentran en el texto original, por lo tanto no fueron resaltadas.\n",
        "\n",
        "\n",
        "### Resultados\n",
        "* Los terminos mas relacionados según la similaridad coseno no mantienen salvo relacion semántica significativa.\n",
        "* Para la mayoria de los casos los terminos más relacionados no aparecen juntos con nuestro termino objetivo. Esto se explica porque la relacion que estos terminos, usando el vectorizador skipgram, esta dado por los pares de terminos que se forman.\n",
        "* Otra razon por la que aparecen terminos con baja relacion semántica podria deberse al alto error de entrenamiento"
      ],
      "metadata": {
        "id": "X96c2ynoFr5f"
      }
    },
    {
      "cell_type": "markdown",
      "source": [
        "Además se probó los resultados obtenidos con distintos hiperparámetros obteniendo los siguientes resultados:\n",
        "\n",
        "\n",
        "\n",
        "### Mismos hiperparámetros pero el entrenamiento se hizo con 50 épocas\n",
        "```\n",
        "w2v_model = Word2Vec(min_count=5,\n",
        "                    window=2,     \n",
        "                    vector_size=300,\n",
        "                    negative=20,    \n",
        "                    workers=1,      \n",
        "                    sg=1)         \n",
        "                     \n",
        "[('láminas', 0.7249535322189331),\n",
        " ('formadora', 0.6770811676979065),\n",
        " ('centrífugas', 0.6725326180458069),\n",
        " ('odontológico', 0.6681994199752808),\n",
        " ('canalización', 0.6679340600967407),\n",
        " ('recolección', 0.6608675718307495),\n",
        " ('tampoco', 0.6521221399307251),\n",
        " ('película', 0.6419997811317444),\n",
        " ('ostomías', 0.63898104429245),\n",
        " ('body', 0.6294649243354797),\n",
        " ('fluidos', 0.6284018158912659),\n",
        " ('lavado', 0.6259608864784241),\n",
        " ('manejo', 0.6205415725708008),\n",
        " ('procesadores', 0.612420916557312),\n",
        " ('hospitalario', 0.6117451190948486),\n",
        " ('microscopio', 0.6101122498512268),\n",
        " ('“solución', 0.601662814617157),\n",
        " ('órganos', 0.6008421182632446),\n",
        " ('requerirán', 0.5993873476982117),\n",
        " ('partes', 0.5933358669281006)]\n",
        "\n",
        " ```\n",
        "\n",
        " **Notar** que 'lámina' ahora aparece ahora como termino con mayor similaridad. Además los términos \"lámina\" y \"película\" guaradan mayor relacion semántica\n",
        "\n",
        "\n",
        " ### El entrenamiento uso 20 épocas y se aumento la ventana para la n-gramas\n",
        " ```\n",
        "w2v_model = Word2Vec(min_count=5,    \n",
        "                     window=6,       \n",
        "                     vector_size=300,\n",
        "                     negative=20,    \n",
        "                     workers=1,      \n",
        "                     sg=1)\n",
        "\n",
        "[('láminas', 0.821029007434845),\n",
        " ('microscopio', 0.7808202505111694),\n",
        " ('tampoco', 0.7589981555938721),\n",
        " ('líquido', 0.7556858062744141),\n",
        " ('recolección', 0.7531719207763672),\n",
        " ('congeladores', 0.7494942545890808),\n",
        " ('procesadores', 0.7358418107032776),\n",
        " ('básculas', 0.7205345630645752),\n",
        " ('bolsas', 0.7145042419433594),\n",
        " ('origen', 0.7142723202705383),\n",
        " ('centrífugas', 0.7106561064720154),\n",
        " ('transporte', 0.7073239088058472),\n",
        " ('refrigeradores', 0.6882241368293762),\n",
        " ('balanzas', 0.6821379661560059),\n",
        " ('ni', 0.6773539781570435),\n",
        " ('indicado', 0.6735020279884338),\n",
        " ('dientes', 0.6661387085914612),\n",
        " ('co2', 0.6634300351142883),\n",
        " ('estériles', 0.6551840901374817),\n",
        " ('soluciones', 0.6539809703826904)]          \n",
        "\n",
        " ```\n",
        "\n",
        " Ahora se ven algunos terminos como: 'lámina','microscopio' e 'indicado' las cuales también aparecen juntas con nuestro termino objetivo en el corpus.\n",
        " Notar que tambien aparecen algunos stopwords\n",
        "\n",
        "### Disminución del valor minimo de frecuencia\n",
        "\n",
        " ```\n",
        " w2v_model = Word2Vec(min_count=2,    \n",
        "                     window=6,       \n",
        "                     vector_size=300,\n",
        "                     negative=20,    \n",
        "                     workers=1,      \n",
        "                     sg=1)           \n",
        "\n",
        "[('digitalización', 0.8846588134765625),\n",
        " ('plaquetas', 0.8151108622550964),\n",
        " ('medir', 0.8043680191040039),\n",
        " ('pantallas', 0.8039793968200684),\n",
        " ('fresado', 0.7930883169174194),\n",
        " ('bloques', 0.7882126569747925),\n",
        " ('manipulación', 0.7873685359954834),\n",
        " ('yesos', 0.7836945652961731),\n",
        " ('láminas', 0.781622052192688),\n",
        " ('diagnósticas', 0.7786082029342651),\n",
        " ('lectura', 0.7760277390480042),\n",
        " ('inmovilización', 0.7698107361793518),\n",
        " ('declarada', 0.7677138447761536),\n",
        " ('coloración', 0.7669142484664917),\n",
        " ('frasco', 0.7660395503044128),\n",
        " ('tubo', 0.7616411447525024),\n",
        " ('liquidos', 0.7610458731651306),\n",
        " ('binocular', 0.7609883546829224),\n",
        " ('oscilante', 0.7593356370925903),\n",
        " ('hematocrito', 0.7591260075569153)]\n",
        "\n",
        " ```\n",
        "\n",
        " Se observa que los valores de similaridad coseno aumentaron. A su vez hay términos con mayor relacion semántica como: 'pantallas', 'láminas', 'lectura' y 'binocular'\n",
        "\n",
        "\n",
        " ### Mismo hiperparámetros pero con tipo de vectorización CBOW\n",
        "\n",
        " ```\n",
        " w2v_model = Word2Vec(min_count=2,\n",
        "                     window=6,\n",
        "                     vector_size=300,\n",
        "                     negative=20,   \n",
        "                     workers=1,     \n",
        "                     sg=0)  \n",
        "\n",
        " [('plaquetas', 0.9491131901741028),\n",
        " ('carillas', 0.9444553852081299),\n",
        " ('frasco', 0.9438620805740356),\n",
        " ('uñas', 0.9421066045761108),\n",
        " ('capilar', 0.9415808320045471),\n",
        " ('fijación', 0.9412669539451599),\n",
        " ('medir', 0.9392156600952148),\n",
        " ('piloso', 0.9382162094116211),\n",
        " ('labios', 0.9376094937324524),\n",
        " ('pantallas', 0.9329408407211304),\n",
        " ('coronas', 0.9328274130821228),\n",
        " ('puentes', 0.9322515726089478),\n",
        " ('diagnósticas', 0.9320552945137024),\n",
        " ('elaboración', 0.93086177110672),\n",
        " ('realizan', 0.9277847409248352),\n",
        " ('metabolismo', 0.9259480834007263),\n",
        " ('calor', 0.9250803589820862),\n",
        " ('suministran', 0.9249154329299927),\n",
        " ('conocidos', 0.924912691116333),\n",
        " ('adaptación', 0.9246619939804077)]\n",
        "\n",
        " ```\n",
        "\n",
        " Se obtuvieron mayores valores de similaridad coseno sin embargo la mayoría no presentan una alta relacion de significado. Los terminos con cierta relacion semántica son: \"plaquetas\" y \"pantallas\""
      ],
      "metadata": {
        "id": "c2zaIwhfGvHj"
      }
    },
    {
      "cell_type": "code",
      "execution_count": 53,
      "metadata": {
        "id": "47HiU5gdkdMq",
        "colab": {
          "base_uri": "https://localhost:8080/"
        },
        "outputId": "df9d992f-870e-410a-b51c-114345cb61fc"
      },
      "outputs": [
        {
          "output_type": "execute_result",
          "data": {
            "text/plain": [
              "[('medicamentos', -0.08017455041408539),\n",
              " ('más', -0.1048942431807518),\n",
              " ('cual', -0.10634894669055939),\n",
              " ('farmacológica', -0.12538868188858032),\n",
              " ('decisión', -0.15930920839309692),\n",
              " ('norma', -0.16936300694942474),\n",
              " ('”', -0.17163892090320587),\n",
              " ('5', -0.18107016384601593),\n",
              " ('según', -0.18370792269706726),\n",
              " ('fin', -0.18488401174545288)]"
            ]
          },
          "metadata": {},
          "execution_count": 53
        }
      ],
      "source": [
        "# Palabras que MENOS se relacionan con...:\n",
        "w2v_model.wv.most_similar(negative=[\"imágenes\"], topn=10)"
      ]
    },
    {
      "cell_type": "code",
      "execution_count": 54,
      "metadata": {
        "colab": {
          "base_uri": "https://localhost:8080/"
        },
        "id": "IT-2MqIyvVNp",
        "outputId": "ca00e6d5-ca58-4a1d-e4dc-5ff62584f9e8"
      },
      "outputs": [
        {
          "output_type": "stream",
          "name": "stdout",
          "text": [
            "[-4.89761412e-01  3.72975558e-01  8.82901475e-02 -2.71589488e-01\n",
            "  5.43643124e-02 -4.98575509e-01  8.80033970e-02  7.22281635e-01\n",
            "  3.45015347e-01 -7.00053647e-02  5.47095435e-03 -4.76431876e-01\n",
            "  8.62234756e-02  1.63256302e-01 -3.75060081e-01 -3.18589598e-01\n",
            "  3.16010594e-01  1.83688045e-01  2.39949524e-01 -4.01739925e-02\n",
            " -4.33488250e-01 -4.13156338e-02 -9.53004435e-02  1.56079128e-01\n",
            "  1.74809638e-02 -2.64982522e-01 -2.83577949e-01 -3.05741310e-01\n",
            " -4.03728694e-01  5.98425865e-02  2.48028502e-01 -1.14729777e-01\n",
            " -2.26726145e-01 -3.48377898e-02  3.20394225e-02 -2.16448203e-01\n",
            " -1.72314644e-01  3.72719318e-01 -3.19345966e-02  1.30716681e-01\n",
            " -1.59831375e-01 -6.98656775e-04 -2.25085333e-01  1.10402592e-01\n",
            " -1.16905689e-01  1.92817468e-02  3.01418513e-01  2.32492462e-02\n",
            " -2.02103227e-01 -1.53186992e-01 -9.54538286e-02  1.66830823e-01\n",
            "  1.49597332e-01  2.10201308e-01 -8.70123431e-02  5.91483474e-01\n",
            " -1.35685548e-01  4.46712505e-03  2.00370383e-02  9.39199924e-02\n",
            "  3.03840898e-02 -6.05506063e-01  3.24299544e-01  1.15541546e-02\n",
            "  1.51063964e-01  1.04063740e-02  1.46947235e-01 -1.68798164e-01\n",
            " -3.92219990e-01 -3.60158473e-01  1.89066768e-01  2.10343361e-01\n",
            "  1.02847159e-01 -5.68692461e-02 -8.98486078e-02  1.45272851e-01\n",
            " -8.37097913e-02 -1.14213981e-01  7.39483349e-03 -1.87652126e-01\n",
            " -1.92999527e-01 -3.53033215e-01  3.09694320e-01  1.97800189e-01\n",
            "  1.59839571e-01 -3.47725153e-02  2.29001734e-02 -1.04365304e-01\n",
            "  2.45448112e-01  2.22052351e-01 -1.57844678e-01 -2.10323274e-01\n",
            "  8.82870555e-02 -1.56584159e-01 -6.37238920e-02 -1.41352534e-01\n",
            "  2.10444033e-01 -5.06955013e-02  2.19576851e-01 -1.93952248e-01\n",
            "  1.82489148e-05  1.91989094e-01 -1.73674984e-04 -9.85923782e-02\n",
            " -3.98911312e-02  1.38683736e-01 -2.06330746e-01  8.38295296e-02\n",
            "  3.50062132e-01  3.65030095e-02 -4.40120578e-01  8.94677714e-02\n",
            "  1.73554435e-01  3.37911934e-01 -2.92320758e-01  2.57063985e-01\n",
            " -2.71168202e-01  1.37306079e-01 -9.19433460e-02  9.30943154e-03\n",
            " -2.00077683e-01  1.83188111e-01  1.87651873e-01  1.74361795e-01\n",
            "  3.34940374e-01 -2.66155787e-02 -9.16785151e-02 -2.04197749e-01\n",
            "  7.06715435e-02  3.82063277e-02  1.32471576e-01  4.67391759e-01\n",
            "  1.47533581e-01  1.09098487e-01  6.03654645e-02  1.37680337e-01\n",
            " -1.07173689e-01  2.04360098e-01  1.01799585e-01 -4.16782379e-01\n",
            "  2.43481591e-01 -3.70972633e-01  1.33274972e-01  2.05415726e-01\n",
            "  5.22451214e-02  5.06063737e-02 -7.39559531e-02 -1.47817135e-01\n",
            "  2.20205769e-01 -1.42070904e-01 -9.85865667e-02 -1.11286804e-01\n",
            " -7.87364990e-02 -3.98003422e-02  3.28925222e-01 -2.80552775e-01\n",
            "  4.93322574e-02  4.71092463e-01 -4.92850333e-01  2.07637250e-01\n",
            "  8.56031701e-02 -6.62580878e-02 -1.65311679e-01  2.83927530e-01\n",
            "  1.26005307e-01 -9.73634794e-02 -1.39660716e-01  1.63897485e-01\n",
            " -2.83393860e-01  7.26779848e-02  9.11055356e-02  3.04063737e-01\n",
            "  1.44111201e-01 -3.01583335e-02  5.66253424e-01 -9.45782512e-02\n",
            " -3.33544075e-01 -7.81750679e-02  5.74979279e-03  2.09188804e-01\n",
            "  4.63313520e-01 -3.16289842e-01  3.59303832e-01  3.50655243e-02\n",
            " -2.39979252e-01  2.53790915e-01  4.67681795e-01  2.63339877e-01\n",
            "  2.74668306e-01 -5.20683229e-02  2.68829674e-01  3.38186622e-01\n",
            "  2.05573246e-01 -3.93221751e-02  2.31466532e-01 -2.23557297e-02\n",
            " -7.70516217e-01 -4.42534566e-01 -1.59511775e-01  4.23844039e-01\n",
            "  1.49589166e-01  2.34126583e-01  1.88898183e-02 -2.24182531e-01\n",
            " -1.02331638e-01  6.39399648e-01  1.19092420e-01  2.04193026e-01\n",
            "  7.93487132e-02  6.90182224e-02 -9.83125865e-02 -3.87237012e-01\n",
            " -7.78547525e-02 -9.23099741e-02  3.97006944e-02 -2.40071286e-02\n",
            " -1.97099969e-01  1.24012060e-01  2.35081702e-01 -2.26564288e-01\n",
            "  3.03756595e-02  2.99886074e-02  1.69488564e-02 -3.24385256e-01\n",
            "  3.12355757e-01  3.14013183e-01 -1.22877151e-01 -3.42316926e-01\n",
            "  1.10185266e-01  8.50888118e-02 -5.02206922e-01  2.34010518e-02\n",
            " -2.47156933e-01 -3.19824457e-01  4.00552571e-01  3.06576304e-02\n",
            " -1.39049828e-01 -1.15116030e-01 -1.85711727e-01 -3.14106435e-01\n",
            "  6.18404597e-02 -5.40062010e-01  4.02945101e-01 -2.30407432e-01\n",
            "  2.47335047e-01 -1.75413281e-01  9.37885419e-03  1.67631488e-02\n",
            "  2.87058502e-01  5.64453490e-02  2.02714682e-01  7.52322301e-02\n",
            " -1.12512782e-01  8.45824704e-02  1.85571730e-01 -3.06795895e-01\n",
            "  3.00667971e-01  4.26791519e-01 -3.29470694e-01 -4.45760876e-01\n",
            " -2.25200921e-01 -1.27611145e-01  2.52680629e-01 -8.94323587e-02\n",
            "  2.96361670e-02  1.96629435e-01  9.54152718e-02 -2.23698914e-01\n",
            "  1.40602991e-03  1.09851204e-01  1.15829846e-02  1.91571310e-01\n",
            "  3.18595856e-01 -2.74181694e-01 -9.41949934e-02  1.40657037e-01\n",
            " -2.78675228e-01  2.00190499e-01  1.19854853e-01 -4.60389018e-01\n",
            "  1.60329357e-01 -1.16911732e-01 -2.70015985e-01  3.14144462e-01\n",
            "  1.51688471e-01  4.61711437e-02  6.07979782e-02  1.06710233e-01\n",
            "  2.83620745e-01  3.14046949e-01  1.87808469e-01 -1.19380273e-01\n",
            " -1.45393267e-01  8.51918086e-02  6.08376600e-03  2.95907676e-01\n",
            "  7.92913958e-02  8.30235407e-02 -3.99442554e-01  1.26437947e-01]\n"
          ]
        }
      ],
      "source": [
        "# el método `get_vector` permite obtener los vectores:\n",
        "vector_sala = w2v_model.wv.get_vector(\"sala\")\n",
        "print(vector_sala)"
      ]
    },
    {
      "cell_type": "code",
      "execution_count": 55,
      "metadata": {
        "colab": {
          "base_uri": "https://localhost:8080/"
        },
        "id": "8cELp66VvVNq",
        "outputId": "c9899163-6865-4a9e-9b75-95e5d00d5874"
      },
      "outputs": [
        {
          "output_type": "execute_result",
          "data": {
            "text/plain": [
              "[('sala', 1.0000001192092896),\n",
              " ('encías', 0.6873774528503418),\n",
              " ('especializada', 0.6860439777374268),\n",
              " ('suplementos', 0.6636673212051392),\n",
              " ('estudiada', 0.65818190574646),\n",
              " ('fitoterapéuticos', 0.6567934155464172),\n",
              " ('usado', 0.651395857334137),\n",
              " ('especializadas', 0.6509262323379517),\n",
              " ('informacion', 0.6502572298049927),\n",
              " ('dietarios', 0.6499263048171997)]"
            ]
          },
          "metadata": {},
          "execution_count": 55
        }
      ],
      "source": [
        "# el método `most_similar` también permite comparar a partir de vectores\n",
        "w2v_model.wv.most_similar(vector_sala)"
      ]
    },
    {
      "cell_type": "markdown",
      "metadata": {
        "id": "_g8UVWe6lFmh"
      },
      "source": [
        "### 5 - Visualizar agrupación de vectores"
      ]
    },
    {
      "cell_type": "code",
      "execution_count": 57,
      "metadata": {
        "id": "pDxEVXAivjr9"
      },
      "outputs": [],
      "source": [
        "from sklearn.decomposition import IncrementalPCA\n",
        "from sklearn.manifold import TSNE\n",
        "import numpy as np\n",
        "\n",
        "def reduce_dimensions(model, num_dimensions = 2 ):\n",
        "\n",
        "    vectors = np.asarray(model.wv.vectors)\n",
        "    labels = np.asarray(model.wv.index_to_key)\n",
        "\n",
        "    tsne = TSNE(n_components=num_dimensions, random_state=0)\n",
        "    vectors = tsne.fit_transform(vectors)\n",
        "\n",
        "    return vectors, labels"
      ]
    },
    {
      "cell_type": "code",
      "execution_count": 58,
      "metadata": {
        "id": "NCCXtDpcugmd",
        "colab": {
          "base_uri": "https://localhost:8080/",
          "height": 542
        },
        "outputId": "4878bf24-f8c8-41b5-86c6-34709f2cbb96"
      },
      "outputs": [
        {
          "output_type": "display_data",
          "data": {
            "text/html": [
              "<html>\n",
              "<head><meta charset=\"utf-8\" /></head>\n",
              "<body>\n",
              "    <div>            <script src=\"https://cdnjs.cloudflare.com/ajax/libs/mathjax/2.7.5/MathJax.js?config=TeX-AMS-MML_SVG\"></script><script type=\"text/javascript\">if (window.MathJax && window.MathJax.Hub && window.MathJax.Hub.Config) {window.MathJax.Hub.Config({SVG: {font: \"STIX-Web\"}});}</script>                <script type=\"text/javascript\">window.PlotlyConfig = {MathJaxConfig: 'local'};</script>\n",
              "        <script charset=\"utf-8\" src=\"https://cdn.plot.ly/plotly-2.35.2.min.js\"></script>                <div id=\"3476a690-1a14-4130-b649-8b0c8453e5c8\" class=\"plotly-graph-div\" style=\"height:525px; width:100%;\"></div>            <script type=\"text/javascript\">                                    window.PLOTLYENV=window.PLOTLYENV || {};                                    if (document.getElementById(\"3476a690-1a14-4130-b649-8b0c8453e5c8\")) {                    Plotly.newPlot(                        \"3476a690-1a14-4130-b649-8b0c8453e5c8\",                        [{\"hovertemplate\":\"x=%{x}\\u003cbr\\u003ey=%{y}\\u003cbr\\u003etext=%{text}\\u003cextra\\u003e\\u003c\\u002fextra\\u003e\",\"legendgroup\":\"\",\"marker\":{\"color\":\"#636efa\",\"symbol\":\"circle\"},\"mode\":\"markers+text\",\"name\":\"\",\"orientation\":\"v\",\"showlegend\":false,\"text\":[\"de\",\"la\",\"y\",\"dispositivos\",\"el\",\"médicos\",\"en\",\"que\",\"del\",\"productos\",\"no\",\"sala\",\"los\",\"con\",\"especializada\",\"para\",\"médico\",\"dispositivo\",\"o\",\"se\",\"a\",\"por\",\"conceptúa\",\"decreto\",\"uso\",\"es\",\"invima\",\"4725\",\"2005\",\"varios\",\"producto\",\"un\",\"una\",\"sanitario\",\"registro\",\"artículo\",\"diagnóstico\",\"2\",\"in\",\"siguientes\",\"considerados\",\"vitro\",\"reactivos\",\"su\",\"definición\",\"lo\",\"como\",\"considera\",\"revisora\",\"comisión\",\"considerado\",\"ser\",\"riesgo\",\"clase\",\"regla\",\"son\",\"acuerdo\",\"establecido\",\"requieren\",\"clasificación\",\"teniendo\",\"indicación\",\"7\",\"conformidad\",\"humanos\",\"base\",\"las\",\"información\",\"consideran\",\"vez\",\"este\",\"composición\",\"requiere\",\"presente\",\"iia\",\"acta\",\"todos\",\"i\",\"otras\",\"allegada\",\"destinados\",\"cuenta\",\"si\",\"evaluada\",\"esta\",\"medicamentos\",\"tecnologías\",\"e\",\"incluirán\",\"tanto\",\"acción\",\"almacenamiento\",\"al\",\"recomienda\",\"cual\",\"sin\",\"tejidos\",\"tratamiento\",\"humano\",\"prevención\",\"alivio\",\"•\",\"analizada\",\"sangre\",\"invasivos\",\"1\",\"iii\",\"b\",\"principal\",\"lesión\",\"concepto\",\"fabricante\",\"órganos\",\"soporte\",\"anatómica\",\"parte\",\"sentido\",\"3\",\"estructura\",\"establecida\",\"cuerpo\",\"controlada\",\"debe\",\"fluidos\",\"6\",\"compensación\",\"según\",\"debido\",\"indicaciones\",\"formato\",\"impreso\",\"tipo\",\"copia\",\"c\",\"marca\",\"otros\",\"5\",\"contemplada\",\"”\",\"dentro\",\"corporales\",\"biológicos\",\"sanitarios\",\"literal\",\"iib\",\"componentes\",\"sobre\",\"deficiencia\",\"10\",\"ratifica\",\"partes\",\"01\",\"comercialización\",\"“regla\",\"fm045\",\"rsa\",\"ass\",\"diligenciar\",\"evaluación\",\"…\",\"u\",\"revisión\",\"11\",\"anteriormente\",\"equipo\",\"incluyendo\",\"oficio\",\"proceso\",\"caso\",\"registros\",\"2015\",\"numeral\",\"salvo\",\"–\",\"mención\",\"supervisión\",\"llamado\",\"gel\",\"sistema\",\"8\",\"utilizado\",\"solicitud\",\"piel\",\"gases\",\"líquidos\",\"laboratorio\",\"colombia\",\"4\",\"anterior\",\"articulo\",\"utilizados\",\"solución\",\"desinfección\",\"cuanto\",\"mencionados\",\"estén\",\"mismo\",\"introducción\",\"cuidado\",\"positioning\"],\"x\":[-5.820996,-14.874546,20.579641,-12.035587,-4.1803937,-12.037317,-13.742075,-5.674308,-2.258204,-20.145567,-12.151155,-31.236124,-19.169218,-1.7993273,-30.58221,-11.994486,-2.2387416,-2.2573793,-28.707752,8.535791,-13.4546,-16.264832,-4.304193,3.5463367,-11.333402,-0.33833188,-19.871885,3.7766783,3.7362747,-19.101847,-6.3720455,-0.8548138,-21.68204,-29.84863,-29.85229,5.7115417,17.04748,4.298634,16.977594,-19.724653,-28.854805,16.953268,18.251656,-21.912449,0.7366868,-20.114637,-9.696555,-22.978794,-23.2584,-24.010427,-5.2573385,4.3464637,8.601556,15.207229,12.92268,-29.154366,-1.6940125,0.86655545,-25.664225,10.304587,-8.27717,-7.4163966,33.12036,-1.7486912,0.29948375,0.0716885,-3.7505627,-28.363628,-16.969616,-26.228638,-31.60912,-11.938094,-27.66681,-9.599309,15.059395,45.150208,19.15914,11.972794,14.265669,-29.11167,13.804786,-9.989351,-13.064293,-28.255224,-6.2023435,-34.631,14.054633,18.01035,12.166839,-16.437658,-25.943209,-35.714985,24.53908,-41.371174,33.0322,-24.857033,-21.109928,-43.71121,2.0565908,-43.258057,-44.379047,4.3954782,-27.611116,-34.75685,15.2396145,35.59497,14.341017,18.080662,-25.408035,-45.84361,43.897976,-42.315605,-40.70724,-48.185776,-48.07633,10.591311,-31.777853,43.965843,-48.10895,3.0196178,-3.8987014,49.276543,-34.21262,-35.19301,38.439873,-45.588234,8.318965,-30.533903,-4.351242,47.638664,47.916447,4.0229826,49.064144,25.48335,5.7400675,-40.462486,37.669617,-4.341186,24.307325,-2.8690274,0.0768353,-34.953297,35.565174,24.513096,14.448838,-28.69431,5.3035293,-45.963913,35.994446,42.57024,-40.77131,45.274025,0.5617544,20.064695,48.264965,48.599953,48.804455,48.365063,-33.236683,17.914194,8.324373,-43.055725,52.461033,-22.63749,-32.752342,26.558233,-43.190235,-46.826458,-17.517838,35.56515,44.90038,43.893814,18.443624,38.80207,-2.4166172,-43.56889,-42.77604,25.279484,-17.701653,38.97163,-27.345978,-37.43553,-26.580133,-0.7761289,-0.6783187,-18.614277,21.46995,38.279484,-39.186172,18.547855,-35.169575,-3.6404424,-15.816632,-13.7541685,-22.654676,16.6865,17.725811,-3.1931071,28.439388,-25.919535],\"xaxis\":\"x\",\"y\":[-18.255325,27.850973,-25.106306,-10.6976185,-20.290028,-10.69806,34.91514,-23.277336,-20.950771,-21.02144,-17.980618,40.745735,-15.382658,-17.101715,43.16416,-20.755981,-26.94104,-27.798712,-4.751285,1.4813093,11.296685,1.9085206,-39.122807,-15.753876,-27.562723,-34.030296,-32.62739,-14.557959,-14.506244,-32.562008,-35.1274,-28.980288,25.962616,-33.35718,-33.34954,-17.7685,-31.825596,-16.900986,-33.36572,-17.113983,-23.955757,-33.4107,-30.485895,7.10729,-23.110886,0.26456735,-0.8905202,-31.89276,-33.44332,-32.430683,-37.64076,5.890557,-10.354732,1.7475108,-12.70878,-24.147436,-24.624296,-18.196684,-32.6441,-10.87611,-36.05974,-33.57203,-5.7114196,-23.939785,-20.516113,-21.8864,24.84781,44.33687,-20.162195,45.43373,-1.2908677,-34.49952,-36.09011,-34.730705,-8.765017,-0.64015716,-5.0304112,-9.752902,-24.4391,46.650078,-4.6839957,-35.43642,4.3250046,47.476887,9.003827,38.965893,-24.468794,13.607208,-2.1699135,-0.0359972,15.445816,-20.4133,-45.40565,29.91466,21.153238,-2.2281477,49.304848,17.137293,-16.824657,17.491177,18.021513,35.039856,47.03213,-20.35266,-5.401546,8.600208,-9.433083,4.3352914,15.897337,19.221956,4.099945,-2.1099403,22.825289,17.549473,17.231508,6.5963078,-1.4432279,1.8030071,17.41754,-20.97165,48.726135,-4.677753,33.50719,-20.498283,-35.89665,18.725058,-12.656585,13.258414,-5.975454,-2.3677177,-2.5197797,-1.0775672,-4.0936613,27.07002,-44.196705,-11.9794035,-6.6435184,-29.068476,14.022412,-11.272943,46.11412,38.601864,27.29034,-6.622511,-9.285046,15.256382,11.006742,19.47681,-5.549284,4.775755,22.759518,-8.3796835,2.4677484,-6.2599998,-5.9561343,-5.5967493,-5.353135,-3.197123,37.26622,5.586597,47.08179,29.27666,-9.622675,-25.97331,4.166071,35.064327,29.234537,11.053054,36.99911,27.292198,-8.913134,2.112187,0.5744172,-29.430153,3.2114894,17.658062,29.360064,-19.017485,-39.16853,-6.336662,3.0165458,39.330933,21.233868,46.555233,46.50797,-18.946184,31.851402,-6.3706226,24.144747,-12.855218,-21.89185,-52.869938,-6.746575,-25.99296,-25.964024,5.0091996,24.892694,48.17193,33.20166,-37.002007],\"yaxis\":\"y\",\"type\":\"scatter\"}],                        {\"template\":{\"data\":{\"histogram2dcontour\":[{\"type\":\"histogram2dcontour\",\"colorbar\":{\"outlinewidth\":0,\"ticks\":\"\"},\"colorscale\":[[0.0,\"#0d0887\"],[0.1111111111111111,\"#46039f\"],[0.2222222222222222,\"#7201a8\"],[0.3333333333333333,\"#9c179e\"],[0.4444444444444444,\"#bd3786\"],[0.5555555555555556,\"#d8576b\"],[0.6666666666666666,\"#ed7953\"],[0.7777777777777778,\"#fb9f3a\"],[0.8888888888888888,\"#fdca26\"],[1.0,\"#f0f921\"]]}],\"choropleth\":[{\"type\":\"choropleth\",\"colorbar\":{\"outlinewidth\":0,\"ticks\":\"\"}}],\"histogram2d\":[{\"type\":\"histogram2d\",\"colorbar\":{\"outlinewidth\":0,\"ticks\":\"\"},\"colorscale\":[[0.0,\"#0d0887\"],[0.1111111111111111,\"#46039f\"],[0.2222222222222222,\"#7201a8\"],[0.3333333333333333,\"#9c179e\"],[0.4444444444444444,\"#bd3786\"],[0.5555555555555556,\"#d8576b\"],[0.6666666666666666,\"#ed7953\"],[0.7777777777777778,\"#fb9f3a\"],[0.8888888888888888,\"#fdca26\"],[1.0,\"#f0f921\"]]}],\"heatmap\":[{\"type\":\"heatmap\",\"colorbar\":{\"outlinewidth\":0,\"ticks\":\"\"},\"colorscale\":[[0.0,\"#0d0887\"],[0.1111111111111111,\"#46039f\"],[0.2222222222222222,\"#7201a8\"],[0.3333333333333333,\"#9c179e\"],[0.4444444444444444,\"#bd3786\"],[0.5555555555555556,\"#d8576b\"],[0.6666666666666666,\"#ed7953\"],[0.7777777777777778,\"#fb9f3a\"],[0.8888888888888888,\"#fdca26\"],[1.0,\"#f0f921\"]]}],\"heatmapgl\":[{\"type\":\"heatmapgl\",\"colorbar\":{\"outlinewidth\":0,\"ticks\":\"\"},\"colorscale\":[[0.0,\"#0d0887\"],[0.1111111111111111,\"#46039f\"],[0.2222222222222222,\"#7201a8\"],[0.3333333333333333,\"#9c179e\"],[0.4444444444444444,\"#bd3786\"],[0.5555555555555556,\"#d8576b\"],[0.6666666666666666,\"#ed7953\"],[0.7777777777777778,\"#fb9f3a\"],[0.8888888888888888,\"#fdca26\"],[1.0,\"#f0f921\"]]}],\"contourcarpet\":[{\"type\":\"contourcarpet\",\"colorbar\":{\"outlinewidth\":0,\"ticks\":\"\"}}],\"contour\":[{\"type\":\"contour\",\"colorbar\":{\"outlinewidth\":0,\"ticks\":\"\"},\"colorscale\":[[0.0,\"#0d0887\"],[0.1111111111111111,\"#46039f\"],[0.2222222222222222,\"#7201a8\"],[0.3333333333333333,\"#9c179e\"],[0.4444444444444444,\"#bd3786\"],[0.5555555555555556,\"#d8576b\"],[0.6666666666666666,\"#ed7953\"],[0.7777777777777778,\"#fb9f3a\"],[0.8888888888888888,\"#fdca26\"],[1.0,\"#f0f921\"]]}],\"surface\":[{\"type\":\"surface\",\"colorbar\":{\"outlinewidth\":0,\"ticks\":\"\"},\"colorscale\":[[0.0,\"#0d0887\"],[0.1111111111111111,\"#46039f\"],[0.2222222222222222,\"#7201a8\"],[0.3333333333333333,\"#9c179e\"],[0.4444444444444444,\"#bd3786\"],[0.5555555555555556,\"#d8576b\"],[0.6666666666666666,\"#ed7953\"],[0.7777777777777778,\"#fb9f3a\"],[0.8888888888888888,\"#fdca26\"],[1.0,\"#f0f921\"]]}],\"mesh3d\":[{\"type\":\"mesh3d\",\"colorbar\":{\"outlinewidth\":0,\"ticks\":\"\"}}],\"scatter\":[{\"fillpattern\":{\"fillmode\":\"overlay\",\"size\":10,\"solidity\":0.2},\"type\":\"scatter\"}],\"parcoords\":[{\"type\":\"parcoords\",\"line\":{\"colorbar\":{\"outlinewidth\":0,\"ticks\":\"\"}}}],\"scatterpolargl\":[{\"type\":\"scatterpolargl\",\"marker\":{\"colorbar\":{\"outlinewidth\":0,\"ticks\":\"\"}}}],\"bar\":[{\"error_x\":{\"color\":\"#2a3f5f\"},\"error_y\":{\"color\":\"#2a3f5f\"},\"marker\":{\"line\":{\"color\":\"#E5ECF6\",\"width\":0.5},\"pattern\":{\"fillmode\":\"overlay\",\"size\":10,\"solidity\":0.2}},\"type\":\"bar\"}],\"scattergeo\":[{\"type\":\"scattergeo\",\"marker\":{\"colorbar\":{\"outlinewidth\":0,\"ticks\":\"\"}}}],\"scatterpolar\":[{\"type\":\"scatterpolar\",\"marker\":{\"colorbar\":{\"outlinewidth\":0,\"ticks\":\"\"}}}],\"histogram\":[{\"marker\":{\"pattern\":{\"fillmode\":\"overlay\",\"size\":10,\"solidity\":0.2}},\"type\":\"histogram\"}],\"scattergl\":[{\"type\":\"scattergl\",\"marker\":{\"colorbar\":{\"outlinewidth\":0,\"ticks\":\"\"}}}],\"scatter3d\":[{\"type\":\"scatter3d\",\"line\":{\"colorbar\":{\"outlinewidth\":0,\"ticks\":\"\"}},\"marker\":{\"colorbar\":{\"outlinewidth\":0,\"ticks\":\"\"}}}],\"scattermapbox\":[{\"type\":\"scattermapbox\",\"marker\":{\"colorbar\":{\"outlinewidth\":0,\"ticks\":\"\"}}}],\"scatterternary\":[{\"type\":\"scatterternary\",\"marker\":{\"colorbar\":{\"outlinewidth\":0,\"ticks\":\"\"}}}],\"scattercarpet\":[{\"type\":\"scattercarpet\",\"marker\":{\"colorbar\":{\"outlinewidth\":0,\"ticks\":\"\"}}}],\"carpet\":[{\"aaxis\":{\"endlinecolor\":\"#2a3f5f\",\"gridcolor\":\"white\",\"linecolor\":\"white\",\"minorgridcolor\":\"white\",\"startlinecolor\":\"#2a3f5f\"},\"baxis\":{\"endlinecolor\":\"#2a3f5f\",\"gridcolor\":\"white\",\"linecolor\":\"white\",\"minorgridcolor\":\"white\",\"startlinecolor\":\"#2a3f5f\"},\"type\":\"carpet\"}],\"table\":[{\"cells\":{\"fill\":{\"color\":\"#EBF0F8\"},\"line\":{\"color\":\"white\"}},\"header\":{\"fill\":{\"color\":\"#C8D4E3\"},\"line\":{\"color\":\"white\"}},\"type\":\"table\"}],\"barpolar\":[{\"marker\":{\"line\":{\"color\":\"#E5ECF6\",\"width\":0.5},\"pattern\":{\"fillmode\":\"overlay\",\"size\":10,\"solidity\":0.2}},\"type\":\"barpolar\"}],\"pie\":[{\"automargin\":true,\"type\":\"pie\"}]},\"layout\":{\"autotypenumbers\":\"strict\",\"colorway\":[\"#636efa\",\"#EF553B\",\"#00cc96\",\"#ab63fa\",\"#FFA15A\",\"#19d3f3\",\"#FF6692\",\"#B6E880\",\"#FF97FF\",\"#FECB52\"],\"font\":{\"color\":\"#2a3f5f\"},\"hovermode\":\"closest\",\"hoverlabel\":{\"align\":\"left\"},\"paper_bgcolor\":\"white\",\"plot_bgcolor\":\"#E5ECF6\",\"polar\":{\"bgcolor\":\"#E5ECF6\",\"angularaxis\":{\"gridcolor\":\"white\",\"linecolor\":\"white\",\"ticks\":\"\"},\"radialaxis\":{\"gridcolor\":\"white\",\"linecolor\":\"white\",\"ticks\":\"\"}},\"ternary\":{\"bgcolor\":\"#E5ECF6\",\"aaxis\":{\"gridcolor\":\"white\",\"linecolor\":\"white\",\"ticks\":\"\"},\"baxis\":{\"gridcolor\":\"white\",\"linecolor\":\"white\",\"ticks\":\"\"},\"caxis\":{\"gridcolor\":\"white\",\"linecolor\":\"white\",\"ticks\":\"\"}},\"coloraxis\":{\"colorbar\":{\"outlinewidth\":0,\"ticks\":\"\"}},\"colorscale\":{\"sequential\":[[0.0,\"#0d0887\"],[0.1111111111111111,\"#46039f\"],[0.2222222222222222,\"#7201a8\"],[0.3333333333333333,\"#9c179e\"],[0.4444444444444444,\"#bd3786\"],[0.5555555555555556,\"#d8576b\"],[0.6666666666666666,\"#ed7953\"],[0.7777777777777778,\"#fb9f3a\"],[0.8888888888888888,\"#fdca26\"],[1.0,\"#f0f921\"]],\"sequentialminus\":[[0.0,\"#0d0887\"],[0.1111111111111111,\"#46039f\"],[0.2222222222222222,\"#7201a8\"],[0.3333333333333333,\"#9c179e\"],[0.4444444444444444,\"#bd3786\"],[0.5555555555555556,\"#d8576b\"],[0.6666666666666666,\"#ed7953\"],[0.7777777777777778,\"#fb9f3a\"],[0.8888888888888888,\"#fdca26\"],[1.0,\"#f0f921\"]],\"diverging\":[[0,\"#8e0152\"],[0.1,\"#c51b7d\"],[0.2,\"#de77ae\"],[0.3,\"#f1b6da\"],[0.4,\"#fde0ef\"],[0.5,\"#f7f7f7\"],[0.6,\"#e6f5d0\"],[0.7,\"#b8e186\"],[0.8,\"#7fbc41\"],[0.9,\"#4d9221\"],[1,\"#276419\"]]},\"xaxis\":{\"gridcolor\":\"white\",\"linecolor\":\"white\",\"ticks\":\"\",\"title\":{\"standoff\":15},\"zerolinecolor\":\"white\",\"automargin\":true,\"zerolinewidth\":2},\"yaxis\":{\"gridcolor\":\"white\",\"linecolor\":\"white\",\"ticks\":\"\",\"title\":{\"standoff\":15},\"zerolinecolor\":\"white\",\"automargin\":true,\"zerolinewidth\":2},\"scene\":{\"xaxis\":{\"backgroundcolor\":\"#E5ECF6\",\"gridcolor\":\"white\",\"linecolor\":\"white\",\"showbackground\":true,\"ticks\":\"\",\"zerolinecolor\":\"white\",\"gridwidth\":2},\"yaxis\":{\"backgroundcolor\":\"#E5ECF6\",\"gridcolor\":\"white\",\"linecolor\":\"white\",\"showbackground\":true,\"ticks\":\"\",\"zerolinecolor\":\"white\",\"gridwidth\":2},\"zaxis\":{\"backgroundcolor\":\"#E5ECF6\",\"gridcolor\":\"white\",\"linecolor\":\"white\",\"showbackground\":true,\"ticks\":\"\",\"zerolinecolor\":\"white\",\"gridwidth\":2}},\"shapedefaults\":{\"line\":{\"color\":\"#2a3f5f\"}},\"annotationdefaults\":{\"arrowcolor\":\"#2a3f5f\",\"arrowhead\":0,\"arrowwidth\":1},\"geo\":{\"bgcolor\":\"white\",\"landcolor\":\"#E5ECF6\",\"subunitcolor\":\"white\",\"showland\":true,\"showlakes\":true,\"lakecolor\":\"white\"},\"title\":{\"x\":0.05},\"mapbox\":{\"style\":\"light\"}}},\"xaxis\":{\"anchor\":\"y\",\"domain\":[0.0,1.0],\"title\":{\"text\":\"x\"}},\"yaxis\":{\"anchor\":\"x\",\"domain\":[0.0,1.0],\"title\":{\"text\":\"y\"}},\"legend\":{\"tracegroupgap\":0},\"margin\":{\"t\":60}},                        {\"responsive\": true}                    ).then(function(){\n",
              "                            \n",
              "var gd = document.getElementById('3476a690-1a14-4130-b649-8b0c8453e5c8');\n",
              "var x = new MutationObserver(function (mutations, observer) {{\n",
              "        var display = window.getComputedStyle(gd).display;\n",
              "        if (!display || display === 'none') {{\n",
              "            console.log([gd, 'removed!']);\n",
              "            Plotly.purge(gd);\n",
              "            observer.disconnect();\n",
              "        }}\n",
              "}});\n",
              "\n",
              "// Listen for the removal of the full notebook cells\n",
              "var notebookContainer = gd.closest('#notebook-container');\n",
              "if (notebookContainer) {{\n",
              "    x.observe(notebookContainer, {childList: true});\n",
              "}}\n",
              "\n",
              "// Listen for the clearing of the current output cell\n",
              "var outputEl = gd.closest('.output');\n",
              "if (outputEl) {{\n",
              "    x.observe(outputEl, {childList: true});\n",
              "}}\n",
              "\n",
              "                        })                };                            </script>        </div>\n",
              "</body>\n",
              "</html>"
            ]
          },
          "metadata": {}
        }
      ],
      "source": [
        "# Graficar los embedddings en 2D\n",
        "import plotly.graph_objects as go\n",
        "import plotly.express as px\n",
        "\n",
        "vecs, labels = reduce_dimensions(w2v_model)\n",
        "\n",
        "MAX_WORDS=200\n",
        "fig = px.scatter(x=vecs[:MAX_WORDS,0], y=vecs[:MAX_WORDS,1], text=labels[:MAX_WORDS])\n",
        "fig.show(renderer=\"colab\") # esto para plotly en colab"
      ]
    },
    {
      "cell_type": "markdown",
      "source": [
        " ### Resultado\n",
        " Explorando el se pudo hallar que algunos términos que se encontraban juntos mantienen cierta relacion semántica. Esto a pesar de la reduccion de dimensionalidad que ocurre por representar los vectores en un espacio de apenas 2 dimensiones\n",
        "\n",
        " ![newplot.png](data:image/png;base64,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)"
      ],
      "metadata": {
        "id": "icbDFEzMWd6t"
      }
    },
    {
      "cell_type": "code",
      "execution_count": 59,
      "metadata": {
        "colab": {
          "base_uri": "https://localhost:8080/",
          "height": 542
        },
        "id": "0BZXmyupvVNr",
        "outputId": "e7304005-ba63-4f38-ee6d-a35e7ed22b79"
      },
      "outputs": [
        {
          "output_type": "display_data",
          "data": {
            "text/html": [
              "<html>\n",
              "<head><meta charset=\"utf-8\" /></head>\n",
              "<body>\n",
              "    <div>            <script src=\"https://cdnjs.cloudflare.com/ajax/libs/mathjax/2.7.5/MathJax.js?config=TeX-AMS-MML_SVG\"></script><script type=\"text/javascript\">if (window.MathJax && window.MathJax.Hub && window.MathJax.Hub.Config) {window.MathJax.Hub.Config({SVG: {font: \"STIX-Web\"}});}</script>                <script type=\"text/javascript\">window.PlotlyConfig = {MathJaxConfig: 'local'};</script>\n",
              "        <script charset=\"utf-8\" src=\"https://cdn.plot.ly/plotly-2.35.2.min.js\"></script>                <div id=\"98fbf471-0ba5-4ec6-85d4-96cab40a1826\" class=\"plotly-graph-div\" style=\"height:525px; width:100%;\"></div>            <script type=\"text/javascript\">                                    window.PLOTLYENV=window.PLOTLYENV || {};                                    if (document.getElementById(\"98fbf471-0ba5-4ec6-85d4-96cab40a1826\")) {                    Plotly.newPlot(                        \"98fbf471-0ba5-4ec6-85d4-96cab40a1826\",                        [{\"hovertemplate\":\"x=%{x}\\u003cbr\\u003ey=%{y}\\u003cbr\\u003ez=%{z}\\u003cbr\\u003etext=%{text}\\u003cextra\\u003e\\u003c\\u002fextra\\u003e\",\"legendgroup\":\"\",\"marker\":{\"color\":\"#636efa\",\"symbol\":\"circle\",\"size\":2},\"mode\":\"markers+text\",\"name\":\"\",\"scene\":\"scene\",\"showlegend\":false,\"text\":[\"de\",\"la\",\"y\",\"dispositivos\",\"el\",\"médicos\",\"en\",\"que\",\"del\",\"productos\",\"no\",\"sala\",\"los\",\"con\",\"especializada\",\"para\",\"médico\",\"dispositivo\",\"o\",\"se\",\"a\",\"por\",\"conceptúa\",\"decreto\",\"uso\",\"es\",\"invima\",\"4725\",\"2005\",\"varios\",\"producto\",\"un\",\"una\",\"sanitario\",\"registro\",\"artículo\",\"diagnóstico\",\"2\",\"in\",\"siguientes\",\"considerados\",\"vitro\",\"reactivos\",\"su\",\"definición\",\"lo\",\"como\",\"considera\",\"revisora\",\"comisión\",\"considerado\",\"ser\",\"riesgo\",\"clase\",\"regla\",\"son\",\"acuerdo\",\"establecido\",\"requieren\",\"clasificación\",\"teniendo\",\"indicación\",\"7\",\"conformidad\",\"humanos\",\"base\",\"las\",\"información\",\"consideran\",\"vez\",\"este\",\"composición\",\"requiere\",\"presente\",\"iia\",\"acta\",\"todos\",\"i\",\"otras\",\"allegada\",\"destinados\",\"cuenta\",\"si\",\"evaluada\",\"esta\",\"medicamentos\",\"tecnologías\",\"e\",\"incluirán\",\"tanto\",\"acción\",\"almacenamiento\",\"al\",\"recomienda\",\"cual\",\"sin\",\"tejidos\",\"tratamiento\",\"humano\",\"prevención\",\"alivio\",\"•\",\"analizada\",\"sangre\",\"invasivos\",\"1\",\"iii\",\"b\",\"principal\",\"lesión\",\"concepto\",\"fabricante\",\"órganos\",\"soporte\",\"anatómica\",\"parte\",\"sentido\",\"3\",\"estructura\",\"establecida\",\"cuerpo\",\"controlada\",\"debe\",\"fluidos\",\"6\",\"compensación\",\"según\",\"debido\",\"indicaciones\",\"formato\",\"impreso\",\"tipo\",\"copia\",\"c\",\"marca\",\"otros\",\"5\",\"contemplada\",\"”\",\"dentro\",\"corporales\",\"biológicos\",\"sanitarios\",\"literal\",\"iib\",\"componentes\",\"sobre\",\"deficiencia\",\"10\",\"ratifica\",\"partes\",\"01\",\"comercialización\",\"“regla\",\"fm045\",\"rsa\",\"ass\",\"diligenciar\",\"evaluación\",\"…\",\"u\",\"revisión\",\"11\",\"anteriormente\",\"equipo\",\"incluyendo\",\"oficio\",\"proceso\",\"caso\",\"registros\",\"2015\",\"numeral\",\"salvo\",\"–\",\"mención\",\"supervisión\",\"llamado\",\"gel\",\"sistema\",\"8\",\"utilizado\",\"solicitud\",\"piel\",\"gases\",\"líquidos\",\"laboratorio\",\"colombia\",\"4\",\"anterior\",\"articulo\",\"utilizados\",\"solución\",\"desinfección\",\"cuanto\",\"mencionados\",\"estén\",\"mismo\",\"introducción\",\"cuidado\",\"positioning\"],\"x\":[-3.2754703,-14.947172,-15.847602,-10.643293,-0.46129388,-10.642942,-5.646245,-4.796459,-2.9797995,-9.331558,-0.30442232,-18.527754,-3.141218,-0.27778733,-10.007273,-2.889901,-1.7350203,-1.6097155,-7.8209558,0.99643683,-6.309419,-5.6747956,-8.773841,7.0938144,-9.322118,-3.1606233,-6.0237794,8.209754,8.280794,-4.9249244,-6.8520527,-1.286763,-16.7782,-9.66667,-9.679184,8.222956,-12.089728,9.437805,-13.050389,-1.5148441,-10.945485,-12.878566,-12.838924,-10.337678,2.3661656,-4.9554515,2.3012888,-7.922828,-6.559489,-6.030808,-6.474372,1.3735753,7.045838,2.2022977,10.764665,-12.001414,-1.2307107,4.968774,-8.281637,8.196464,-9.362973,-7.244116,13.010546,-0.9742763,1.9451547,1.1937397,-7.2273088,-15.388694,2.6905568,-17.154106,-20.490438,-10.296848,-7.684339,-13.94968,6.774475,22.24276,8.710802,8.1190195,-7.070028,-18.891113,7.739658,-13.951611,-2.070919,-20.086538,0.50326055,-19.08187,-8.015442,9.739957,5.5115438,-6.382459,-17.762049,6.959054,11.917649,-10.318173,15.870618,9.02583,3.7269564,-19.84447,4.51827,-20.618578,-21.008776,-4.2281384,-18.761742,8.744495,9.458663,18.519142,6.6068964,5.2496147,-16.505709,-21.158167,19.763838,-16.417017,-3.5654929,-22.437262,-23.461798,1.2062037,-20.116856,19.917065,-22.942915,5.54122,3.7348402,19.324108,-12.508166,7.8021755,19.185717,-21.17155,5.5441203,-16.814661,-0.9386911,18.959894,18.884996,20.657757,18.901564,16.162016,-0.9161306,4.216857,16.33635,3.8808548,13.789103,5.5688515,8.054883,-18.385944,21.306395,14.124822,6.6657996,-15.026846,5.003554,-21.167652,16.862194,22.201696,-3.823637,15.647893,9.490917,10.911595,17.558147,17.720638,18.041681,18.336103,-14.009929,3.4805846,6.815017,-8.3973,22.917097,-21.979374,-5.067111,-4.9798865,-7.964376,-10.494414,-1.5464107,21.304274,15.587658,19.977972,6.7502375,-4.341398,6.3135667,-20.08548,-8.960955,-9.322036,2.5618508,18.586212,-11.582981,-19.44276,-14.278612,6.925058,7.1622634,5.5202975,7.059005,17.23497,-1.2301494,10.572063,7.0145555,1.4394164,-1.6821736,-17.564667,-21.980358,3.6246364,14.400847,4.026411,14.130579,-4.300369],\"y\":[-5.1950393,6.0882626,-11.389244,3.2230697,-9.4855585,3.2301726,-7.0161805,-7.6320467,-10.714756,-12.2798195,-2.4808934,15.989642,5.0534806,-8.0966425,-10.309703,-0.98529893,-16.326532,-17.513784,-3.3558195,-5.988197,-1.4659702,-4.0273542,-16.25054,-10.275785,-3.970853,-18.000914,-12.337158,-10.648246,-9.693938,-12.180687,-17.712593,-19.31859,2.738665,-16.209328,-16.200575,-13.755603,-18.495735,-12.942739,-16.005762,3.0006819,-2.0042224,-15.868478,-14.436297,-2.7995515,-13.378827,-5.540217,7.5799646,-13.280308,-14.766838,-13.240516,-19.335281,2.0738122,-5.118775,-9.003766,-9.602493,-1.8585548,-12.634493,-14.923787,-16.014254,-4.2294607,-15.572141,-15.0540285,-9.465225,-11.416677,-11.72436,-14.087495,14.277085,15.368587,6.284945,13.926746,-4.600558,-12.3559885,-18.538023,-11.068252,-10.072761,-9.063642,-6.6631575,-6.8151097,-6.6816063,16.659636,-4.286481,-10.086891,-3.790291,16.255756,3.653407,14.4681425,-6.4340053,9.375752,-7.774392,-2.268744,-2.077409,10.264781,-19.551739,24.345606,6.86324,11.089324,17.61644,6.1957045,-11.637849,5.8866625,4.681767,15.123703,17.24395,10.14838,-4.7728724,2.1973798,-9.279404,-6.209759,-1.9404647,4.023433,-14.910334,8.886736,16.536917,7.3308177,7.421431,-1.439311,-5.2005215,-11.8549385,7.3004866,-10.539389,2.0843651,-15.233311,14.858684,10.119181,-3.8985624,4.4157734,-7.488266,2.4532478,-7.2855177,-15.70197,-15.922407,3.8657112,-15.577611,-9.538673,-15.888131,13.02452,-6.286556,-16.36376,2.4928086,-7.1822014,-1.9051473,15.162299,12.169589,-9.989176,-9.404904,2.9446497,18.616402,3.4640033,-8.576212,-14.551965,16.847801,-12.618905,6.474888,-7.7280545,-14.900084,-14.945696,-15.942781,-16.225698,17.383602,-5.2450356,10.257137,25.965723,-6.599746,-10.946424,24.400276,9.292931,26.372177,12.263565,-6.927281,12.164701,-11.20571,-12.485929,-9.944348,-19.139105,5.19836,5.249633,25.469997,-18.265024,0.8032151,-5.661819,-8.640832,16.09287,-5.699453,-0.45723206,-0.69431496,5.3247037,4.1971083,-6.3795176,14.7874775,-13.812581,8.638579,-26.107964,-13.097984,-0.4956816,-10.945889,-7.863845,11.996918,1.1859123,15.7609825,-18.522165],\"z\":[3.2170255,1.9072464,3.6490483,14.279157,-2.1129577,14.290988,-9.979685,1.351223,-3.2639635,-2.1590073,10.968196,-2.714272,12.133302,0.9453971,1.1905009,4.2765346,-0.19420367,0.8767511,-16.599745,-11.984661,-10.571777,-0.48620135,8.530075,-4.1237764,6.410836,6.3569517,-2.1683807,-2.4188519,-2.706932,-1.1915863,2.6419094,3.7629497,-10.044235,-8.827414,-8.834049,-5.612692,7.807723,-3.1233249,8.02709,14.482777,15.472907,8.559277,5.8697066,3.8707397,-1.1522825,-4.2207856,-3.0532258,-5.176258,-3.3947225,-5.072876,5.5189323,-13.068607,-4.4926376,-16.822556,-6.298185,14.949457,-0.03033273,-6.767047,-4.7690964,-7.9742146,3.3303578,1.1107268,-4.6806855,0.96013623,-3.5986378,-3.3385932,-3.6397023,1.4613706,14.321283,3.0460877,9.546655,3.5906105,-6.4869895,9.940877,-11.789005,-1.1960557,-14.253935,-8.717429,13.273211,3.7162008,-21.135504,10.999071,-10.664073,2.0131052,-6.4900236,-6.8495994,13.042578,9.495844,-15.298132,2.3464026,-1.7288591,-17.754156,-0.76091033,-12.450075,2.4947505,-12.340305,-14.807533,-12.388032,-5.99441,-11.1847925,-12.679174,9.449609,1.1605152,-18.565956,-19.252563,5.195303,-10.158902,-21.003923,-1.0431509,-15.190824,0.26443264,-17.967464,-15.000927,-16.226706,-15.190803,-17.139128,9.721926,-1.2770388,-15.739844,-0.49930128,-22.770184,10.82838,-7.662766,-18.42435,-3.7443905,-14.255705,-5.9389167,-14.249207,-7.527033,6.816445,7.417765,-4.503082,9.746711,-14.49339,16.178347,-16.522299,-3.5245183,-4.5080075,-16.258429,2.996181,-20.176552,-7.1763077,-0.2665653,-10.771895,-10.553703,4.3446527,-7.5278482,-15.594934,-4.7718277,0.39814097,-14.802011,13.783164,-10.657665,-14.048004,12.03166,11.04849,11.234429,8.587538,-5.3763113,-21.85344,-20.993614,-12.570581,5.5873756,4.351247,-0.030025447,18.729944,-12.553693,-19.593828,-13.82424,-0.26787362,14.135733,-0.7886768,-17.39794,11.766947,-5.543175,-11.6033325,-12.550186,12.468947,22.650875,-3.1675503,-7.0427785,-10.365381,-5.7242517,-20.942665,-20.836084,12.583311,-10.48662,-2.9142995,-15.79309,-8.174861,-19.78914,0.0381015,-12.740768,6.8720474,4.3527155,-21.633873,-4.4107265,-21.975311,6.491456,-6.100352],\"type\":\"scatter3d\"}],                        {\"template\":{\"data\":{\"histogram2dcontour\":[{\"type\":\"histogram2dcontour\",\"colorbar\":{\"outlinewidth\":0,\"ticks\":\"\"},\"colorscale\":[[0.0,\"#0d0887\"],[0.1111111111111111,\"#46039f\"],[0.2222222222222222,\"#7201a8\"],[0.3333333333333333,\"#9c179e\"],[0.4444444444444444,\"#bd3786\"],[0.5555555555555556,\"#d8576b\"],[0.6666666666666666,\"#ed7953\"],[0.7777777777777778,\"#fb9f3a\"],[0.8888888888888888,\"#fdca26\"],[1.0,\"#f0f921\"]]}],\"choropleth\":[{\"type\":\"choropleth\",\"colorbar\":{\"outlinewidth\":0,\"ticks\":\"\"}}],\"histogram2d\":[{\"type\":\"histogram2d\",\"colorbar\":{\"outlinewidth\":0,\"ticks\":\"\"},\"colorscale\":[[0.0,\"#0d0887\"],[0.1111111111111111,\"#46039f\"],[0.2222222222222222,\"#7201a8\"],[0.3333333333333333,\"#9c179e\"],[0.4444444444444444,\"#bd3786\"],[0.5555555555555556,\"#d8576b\"],[0.6666666666666666,\"#ed7953\"],[0.7777777777777778,\"#fb9f3a\"],[0.8888888888888888,\"#fdca26\"],[1.0,\"#f0f921\"]]}],\"heatmap\":[{\"type\":\"heatmap\",\"colorbar\":{\"outlinewidth\":0,\"ticks\":\"\"},\"colorscale\":[[0.0,\"#0d0887\"],[0.1111111111111111,\"#46039f\"],[0.2222222222222222,\"#7201a8\"],[0.3333333333333333,\"#9c179e\"],[0.4444444444444444,\"#bd3786\"],[0.5555555555555556,\"#d8576b\"],[0.6666666666666666,\"#ed7953\"],[0.7777777777777778,\"#fb9f3a\"],[0.8888888888888888,\"#fdca26\"],[1.0,\"#f0f921\"]]}],\"heatmapgl\":[{\"type\":\"heatmapgl\",\"colorbar\":{\"outlinewidth\":0,\"ticks\":\"\"},\"colorscale\":[[0.0,\"#0d0887\"],[0.1111111111111111,\"#46039f\"],[0.2222222222222222,\"#7201a8\"],[0.3333333333333333,\"#9c179e\"],[0.4444444444444444,\"#bd3786\"],[0.5555555555555556,\"#d8576b\"],[0.6666666666666666,\"#ed7953\"],[0.7777777777777778,\"#fb9f3a\"],[0.8888888888888888,\"#fdca26\"],[1.0,\"#f0f921\"]]}],\"contourcarpet\":[{\"type\":\"contourcarpet\",\"colorbar\":{\"outlinewidth\":0,\"ticks\":\"\"}}],\"contour\":[{\"type\":\"contour\",\"colorbar\":{\"outlinewidth\":0,\"ticks\":\"\"},\"colorscale\":[[0.0,\"#0d0887\"],[0.1111111111111111,\"#46039f\"],[0.2222222222222222,\"#7201a8\"],[0.3333333333333333,\"#9c179e\"],[0.4444444444444444,\"#bd3786\"],[0.5555555555555556,\"#d8576b\"],[0.6666666666666666,\"#ed7953\"],[0.7777777777777778,\"#fb9f3a\"],[0.8888888888888888,\"#fdca26\"],[1.0,\"#f0f921\"]]}],\"surface\":[{\"type\":\"surface\",\"colorbar\":{\"outlinewidth\":0,\"ticks\":\"\"},\"colorscale\":[[0.0,\"#0d0887\"],[0.1111111111111111,\"#46039f\"],[0.2222222222222222,\"#7201a8\"],[0.3333333333333333,\"#9c179e\"],[0.4444444444444444,\"#bd3786\"],[0.5555555555555556,\"#d8576b\"],[0.6666666666666666,\"#ed7953\"],[0.7777777777777778,\"#fb9f3a\"],[0.8888888888888888,\"#fdca26\"],[1.0,\"#f0f921\"]]}],\"mesh3d\":[{\"type\":\"mesh3d\",\"colorbar\":{\"outlinewidth\":0,\"ticks\":\"\"}}],\"scatter\":[{\"fillpattern\":{\"fillmode\":\"overlay\",\"size\":10,\"solidity\":0.2},\"type\":\"scatter\"}],\"parcoords\":[{\"type\":\"parcoords\",\"line\":{\"colorbar\":{\"outlinewidth\":0,\"ticks\":\"\"}}}],\"scatterpolargl\":[{\"type\":\"scatterpolargl\",\"marker\":{\"colorbar\":{\"outlinewidth\":0,\"ticks\":\"\"}}}],\"bar\":[{\"error_x\":{\"color\":\"#2a3f5f\"},\"error_y\":{\"color\":\"#2a3f5f\"},\"marker\":{\"line\":{\"color\":\"#E5ECF6\",\"width\":0.5},\"pattern\":{\"fillmode\":\"overlay\",\"size\":10,\"solidity\":0.2}},\"type\":\"bar\"}],\"scattergeo\":[{\"type\":\"scattergeo\",\"marker\":{\"colorbar\":{\"outlinewidth\":0,\"ticks\":\"\"}}}],\"scatterpolar\":[{\"type\":\"scatterpolar\",\"marker\":{\"colorbar\":{\"outlinewidth\":0,\"ticks\":\"\"}}}],\"histogram\":[{\"marker\":{\"pattern\":{\"fillmode\":\"overlay\",\"size\":10,\"solidity\":0.2}},\"type\":\"histogram\"}],\"scattergl\":[{\"type\":\"scattergl\",\"marker\":{\"colorbar\":{\"outlinewidth\":0,\"ticks\":\"\"}}}],\"scatter3d\":[{\"type\":\"scatter3d\",\"line\":{\"colorbar\":{\"outlinewidth\":0,\"ticks\":\"\"}},\"marker\":{\"colorbar\":{\"outlinewidth\":0,\"ticks\":\"\"}}}],\"scattermapbox\":[{\"type\":\"scattermapbox\",\"marker\":{\"colorbar\":{\"outlinewidth\":0,\"ticks\":\"\"}}}],\"scatterternary\":[{\"type\":\"scatterternary\",\"marker\":{\"colorbar\":{\"outlinewidth\":0,\"ticks\":\"\"}}}],\"scattercarpet\":[{\"type\":\"scattercarpet\",\"marker\":{\"colorbar\":{\"outlinewidth\":0,\"ticks\":\"\"}}}],\"carpet\":[{\"aaxis\":{\"endlinecolor\":\"#2a3f5f\",\"gridcolor\":\"white\",\"linecolor\":\"white\",\"minorgridcolor\":\"white\",\"startlinecolor\":\"#2a3f5f\"},\"baxis\":{\"endlinecolor\":\"#2a3f5f\",\"gridcolor\":\"white\",\"linecolor\":\"white\",\"minorgridcolor\":\"white\",\"startlinecolor\":\"#2a3f5f\"},\"type\":\"carpet\"}],\"table\":[{\"cells\":{\"fill\":{\"color\":\"#EBF0F8\"},\"line\":{\"color\":\"white\"}},\"header\":{\"fill\":{\"color\":\"#C8D4E3\"},\"line\":{\"color\":\"white\"}},\"type\":\"table\"}],\"barpolar\":[{\"marker\":{\"line\":{\"color\":\"#E5ECF6\",\"width\":0.5},\"pattern\":{\"fillmode\":\"overlay\",\"size\":10,\"solidity\":0.2}},\"type\":\"barpolar\"}],\"pie\":[{\"automargin\":true,\"type\":\"pie\"}]},\"layout\":{\"autotypenumbers\":\"strict\",\"colorway\":[\"#636efa\",\"#EF553B\",\"#00cc96\",\"#ab63fa\",\"#FFA15A\",\"#19d3f3\",\"#FF6692\",\"#B6E880\",\"#FF97FF\",\"#FECB52\"],\"font\":{\"color\":\"#2a3f5f\"},\"hovermode\":\"closest\",\"hoverlabel\":{\"align\":\"left\"},\"paper_bgcolor\":\"white\",\"plot_bgcolor\":\"#E5ECF6\",\"polar\":{\"bgcolor\":\"#E5ECF6\",\"angularaxis\":{\"gridcolor\":\"white\",\"linecolor\":\"white\",\"ticks\":\"\"},\"radialaxis\":{\"gridcolor\":\"white\",\"linecolor\":\"white\",\"ticks\":\"\"}},\"ternary\":{\"bgcolor\":\"#E5ECF6\",\"aaxis\":{\"gridcolor\":\"white\",\"linecolor\":\"white\",\"ticks\":\"\"},\"baxis\":{\"gridcolor\":\"white\",\"linecolor\":\"white\",\"ticks\":\"\"},\"caxis\":{\"gridcolor\":\"white\",\"linecolor\":\"white\",\"ticks\":\"\"}},\"coloraxis\":{\"colorbar\":{\"outlinewidth\":0,\"ticks\":\"\"}},\"colorscale\":{\"sequential\":[[0.0,\"#0d0887\"],[0.1111111111111111,\"#46039f\"],[0.2222222222222222,\"#7201a8\"],[0.3333333333333333,\"#9c179e\"],[0.4444444444444444,\"#bd3786\"],[0.5555555555555556,\"#d8576b\"],[0.6666666666666666,\"#ed7953\"],[0.7777777777777778,\"#fb9f3a\"],[0.8888888888888888,\"#fdca26\"],[1.0,\"#f0f921\"]],\"sequentialminus\":[[0.0,\"#0d0887\"],[0.1111111111111111,\"#46039f\"],[0.2222222222222222,\"#7201a8\"],[0.3333333333333333,\"#9c179e\"],[0.4444444444444444,\"#bd3786\"],[0.5555555555555556,\"#d8576b\"],[0.6666666666666666,\"#ed7953\"],[0.7777777777777778,\"#fb9f3a\"],[0.8888888888888888,\"#fdca26\"],[1.0,\"#f0f921\"]],\"diverging\":[[0,\"#8e0152\"],[0.1,\"#c51b7d\"],[0.2,\"#de77ae\"],[0.3,\"#f1b6da\"],[0.4,\"#fde0ef\"],[0.5,\"#f7f7f7\"],[0.6,\"#e6f5d0\"],[0.7,\"#b8e186\"],[0.8,\"#7fbc41\"],[0.9,\"#4d9221\"],[1,\"#276419\"]]},\"xaxis\":{\"gridcolor\":\"white\",\"linecolor\":\"white\",\"ticks\":\"\",\"title\":{\"standoff\":15},\"zerolinecolor\":\"white\",\"automargin\":true,\"zerolinewidth\":2},\"yaxis\":{\"gridcolor\":\"white\",\"linecolor\":\"white\",\"ticks\":\"\",\"title\":{\"standoff\":15},\"zerolinecolor\":\"white\",\"automargin\":true,\"zerolinewidth\":2},\"scene\":{\"xaxis\":{\"backgroundcolor\":\"#E5ECF6\",\"gridcolor\":\"white\",\"linecolor\":\"white\",\"showbackground\":true,\"ticks\":\"\",\"zerolinecolor\":\"white\",\"gridwidth\":2},\"yaxis\":{\"backgroundcolor\":\"#E5ECF6\",\"gridcolor\":\"white\",\"linecolor\":\"white\",\"showbackground\":true,\"ticks\":\"\",\"zerolinecolor\":\"white\",\"gridwidth\":2},\"zaxis\":{\"backgroundcolor\":\"#E5ECF6\",\"gridcolor\":\"white\",\"linecolor\":\"white\",\"showbackground\":true,\"ticks\":\"\",\"zerolinecolor\":\"white\",\"gridwidth\":2}},\"shapedefaults\":{\"line\":{\"color\":\"#2a3f5f\"}},\"annotationdefaults\":{\"arrowcolor\":\"#2a3f5f\",\"arrowhead\":0,\"arrowwidth\":1},\"geo\":{\"bgcolor\":\"white\",\"landcolor\":\"#E5ECF6\",\"subunitcolor\":\"white\",\"showland\":true,\"showlakes\":true,\"lakecolor\":\"white\"},\"title\":{\"x\":0.05},\"mapbox\":{\"style\":\"light\"}}},\"scene\":{\"domain\":{\"x\":[0.0,1.0],\"y\":[0.0,1.0]},\"xaxis\":{\"title\":{\"text\":\"x\"}},\"yaxis\":{\"title\":{\"text\":\"y\"}},\"zaxis\":{\"title\":{\"text\":\"z\"}}},\"legend\":{\"tracegroupgap\":0},\"margin\":{\"t\":60}},                        {\"responsive\": true}                    ).then(function(){\n",
              "                            \n",
              "var gd = document.getElementById('98fbf471-0ba5-4ec6-85d4-96cab40a1826');\n",
              "var x = new MutationObserver(function (mutations, observer) {{\n",
              "        var display = window.getComputedStyle(gd).display;\n",
              "        if (!display || display === 'none') {{\n",
              "            console.log([gd, 'removed!']);\n",
              "            Plotly.purge(gd);\n",
              "            observer.disconnect();\n",
              "        }}\n",
              "}});\n",
              "\n",
              "// Listen for the removal of the full notebook cells\n",
              "var notebookContainer = gd.closest('#notebook-container');\n",
              "if (notebookContainer) {{\n",
              "    x.observe(notebookContainer, {childList: true});\n",
              "}}\n",
              "\n",
              "// Listen for the clearing of the current output cell\n",
              "var outputEl = gd.closest('.output');\n",
              "if (outputEl) {{\n",
              "    x.observe(outputEl, {childList: true});\n",
              "}}\n",
              "\n",
              "                        })                };                            </script>        </div>\n",
              "</body>\n",
              "</html>"
            ]
          },
          "metadata": {}
        }
      ],
      "source": [
        "# Graficar los embedddings en 3D\n",
        "\n",
        "vecs, labels = reduce_dimensions(w2v_model,3)\n",
        "\n",
        "fig = px.scatter_3d(x=vecs[:MAX_WORDS,0], y=vecs[:MAX_WORDS,1], z=vecs[:MAX_WORDS,2],text=labels[:MAX_WORDS])\n",
        "fig.update_traces(marker_size = 2)\n",
        "fig.show(renderer=\"colab\") # esto para plotly en colab"
      ]
    },
    {
      "cell_type": "code",
      "execution_count": 60,
      "metadata": {
        "id": "TaPAL6C7vVNr"
      },
      "outputs": [],
      "source": [
        "# También se pueden guardar los vectores y labels como tsv para graficar en\n",
        "# http://projector.tensorflow.org/\n",
        "\n",
        "\n",
        "vectors = np.asarray(w2v_model.wv.vectors)\n",
        "labels = list(w2v_model.wv.index_to_key)\n",
        "\n",
        "np.savetxt(\"vectors.tsv\", vectors, delimiter=\"\\t\")\n",
        "\n",
        "with open(\"labels.tsv\", \"w\") as fp:\n",
        "    for item in labels:\n",
        "        fp.write(\"%s\\n\" % item)"
      ]
    },
    {
      "cell_type": "markdown",
      "source": [
        "## Resultados\n",
        "* Se obtuvieron embeddings con los términos del conjunto de datos públicos del gobierno de Colombia, especificamente la informacion de \"concepto\" de los productos usados como insumos en el ámbito médico.\n",
        "*  Se probaron diferentes configuraciones de hiperpárametrosy se analizó las similiridad de los embeddings, obteniendo pocos términos que guardaban una relacion semántica relevante\n",
        "* Se visulizó en un espacio de menor dimensionalidad 2D y 3D. En los que se pudo observar que algunos términos mantenián una relacion en dichos planos a pesar que la agresiva reduccion de campos\n",
        "\n",
        "\n",
        "## Conclusiones\n",
        "* La similaridad coseno varía mucho dependiendo de como se contruyen los vactores y no representa una métrica fiable para distinguir que términos tienen una alta relación semantica entre sí.\n",
        "* Es muy complicado obtener términos con relación semántica. Dado que se requiere de un corpus balanceado y los hiperparámetros adecuados para vectorizar con suficiente complejidad a los términos"
      ],
      "metadata": {
        "id": "v-qmIxFaT_UA"
      }
    }
  ],
  "metadata": {
    "colab": {
      "provenance": []
    },
    "kernelspec": {
      "display_name": ".conda",
      "language": "python",
      "name": "python3"
    },
    "language_info": {
      "codemirror_mode": {
        "name": "ipython",
        "version": 3
      },
      "file_extension": ".py",
      "mimetype": "text/x-python",
      "name": "python",
      "nbconvert_exporter": "python",
      "pygments_lexer": "ipython3",
      "version": "3.11.13"
    }
  },
  "nbformat": 4,
  "nbformat_minor": 0
}